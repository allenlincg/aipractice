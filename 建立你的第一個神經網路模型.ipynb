{
  "nbformat": 4,
  "nbformat_minor": 0,
  "metadata": {
    "colab": {
      "provenance": [],
      "include_colab_link": true
    },
    "kernelspec": {
      "name": "python3",
      "display_name": "Python 3"
    },
    "accelerator": "GPU",
    "widgets": {
      "application/vnd.jupyter.widget-state+json": {
        "24d0e7e8dba642f8a0062eb40c8b0e45": {
          "model_module": "@jupyter-widgets/controls",
          "model_name": "VBoxModel",
          "model_module_version": "1.5.0",
          "state": {
            "_dom_classes": [
              "widget-interact"
            ],
            "_model_module": "@jupyter-widgets/controls",
            "_model_module_version": "1.5.0",
            "_model_name": "VBoxModel",
            "_view_count": null,
            "_view_module": "@jupyter-widgets/controls",
            "_view_module_version": "1.5.0",
            "_view_name": "VBoxView",
            "box_style": "",
            "children": [
              "IPY_MODEL_449f2b8e487c4537b04637c903f2c28e",
              "IPY_MODEL_8217368a02f648eda4138fd68a7a7734"
            ],
            "layout": "IPY_MODEL_ea34f6632fbc47e1bd6cd7b26bac1051"
          }
        },
        "449f2b8e487c4537b04637c903f2c28e": {
          "model_module": "@jupyter-widgets/controls",
          "model_name": "BoundedIntTextModel",
          "model_module_version": "1.5.0",
          "state": {
            "_dom_classes": [],
            "_model_module": "@jupyter-widgets/controls",
            "_model_module_version": "1.5.0",
            "_model_name": "BoundedIntTextModel",
            "_view_count": null,
            "_view_module": "@jupyter-widgets/controls",
            "_view_module_version": "1.5.0",
            "_view_name": "IntTextView",
            "continuous_update": false,
            "description": "idx",
            "description_tooltip": null,
            "disabled": false,
            "layout": "IPY_MODEL_e1e82fbb7ea347a38d415f9febf3733e",
            "max": 9999,
            "min": 0,
            "step": 1,
            "style": "IPY_MODEL_19cac0d257784b05bb97ca13abb5e3da",
            "value": 1000
          }
        },
        "8217368a02f648eda4138fd68a7a7734": {
          "model_module": "@jupyter-widgets/output",
          "model_name": "OutputModel",
          "model_module_version": "1.0.0",
          "state": {
            "_dom_classes": [],
            "_model_module": "@jupyter-widgets/output",
            "_model_module_version": "1.0.0",
            "_model_name": "OutputModel",
            "_view_count": null,
            "_view_module": "@jupyter-widgets/output",
            "_view_module_version": "1.0.0",
            "_view_name": "OutputView",
            "layout": "IPY_MODEL_97e03ca43ab74adf99d8e18a9cca8202",
            "msg_id": "",
            "outputs": [
              {
                "output_type": "stream",
                "name": "stdout",
                "text": [
                  "\r\u001b[1m1/1\u001b[0m \u001b[32m━━━━━━━━━━━━━━━━━━━━\u001b[0m\u001b[37m\u001b[0m \u001b[1m0s\u001b[0m 15ms/step"
                ]
              },
              {
                "output_type": "stream",
                "name": "stdout",
                "text": [
                  "\b\b\b\b\b\b\b\b\b\b\b\b\b\b\b\b\b\b\b\b\b\b\b\b\b\b\b\b\b\b\b\b\b\b\b\b\b\r\u001b[1m1/1\u001b[0m \u001b[32m━━━━━━━━━━━━━━━━━━━━\u001b[0m\u001b[37m\u001b[0m \u001b[1m0s\u001b[0m 28ms/step\n"
                ]
              },
              {
                "output_type": "stream",
                "name": "stdout",
                "text": [
                  "預測正確!\n"
                ]
              },
              {
                "output_type": "display_data",
                "data": {
                  "text/plain": "<Figure size 1000x500 with 2 Axes>",
                  "image/png": "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\n"
                },
                "metadata": {}
              }
            ]
          }
        },
        "ea34f6632fbc47e1bd6cd7b26bac1051": {
          "model_module": "@jupyter-widgets/base",
          "model_name": "LayoutModel",
          "model_module_version": "1.2.0",
          "state": {
            "_model_module": "@jupyter-widgets/base",
            "_model_module_version": "1.2.0",
            "_model_name": "LayoutModel",
            "_view_count": null,
            "_view_module": "@jupyter-widgets/base",
            "_view_module_version": "1.2.0",
            "_view_name": "LayoutView",
            "align_content": null,
            "align_items": null,
            "align_self": null,
            "border": null,
            "bottom": null,
            "display": null,
            "flex": null,
            "flex_flow": null,
            "grid_area": null,
            "grid_auto_columns": null,
            "grid_auto_flow": null,
            "grid_auto_rows": null,
            "grid_column": null,
            "grid_gap": null,
            "grid_row": null,
            "grid_template_areas": null,
            "grid_template_columns": null,
            "grid_template_rows": null,
            "height": null,
            "justify_content": null,
            "justify_items": null,
            "left": null,
            "margin": null,
            "max_height": null,
            "max_width": null,
            "min_height": null,
            "min_width": null,
            "object_fit": null,
            "object_position": null,
            "order": null,
            "overflow": null,
            "overflow_x": null,
            "overflow_y": null,
            "padding": null,
            "right": null,
            "top": null,
            "visibility": null,
            "width": null
          }
        },
        "e1e82fbb7ea347a38d415f9febf3733e": {
          "model_module": "@jupyter-widgets/base",
          "model_name": "LayoutModel",
          "model_module_version": "1.2.0",
          "state": {
            "_model_module": "@jupyter-widgets/base",
            "_model_module_version": "1.2.0",
            "_model_name": "LayoutModel",
            "_view_count": null,
            "_view_module": "@jupyter-widgets/base",
            "_view_module_version": "1.2.0",
            "_view_name": "LayoutView",
            "align_content": null,
            "align_items": null,
            "align_self": null,
            "border": null,
            "bottom": null,
            "display": null,
            "flex": null,
            "flex_flow": null,
            "grid_area": null,
            "grid_auto_columns": null,
            "grid_auto_flow": null,
            "grid_auto_rows": null,
            "grid_column": null,
            "grid_gap": null,
            "grid_row": null,
            "grid_template_areas": null,
            "grid_template_columns": null,
            "grid_template_rows": null,
            "height": null,
            "justify_content": null,
            "justify_items": null,
            "left": null,
            "margin": null,
            "max_height": null,
            "max_width": null,
            "min_height": null,
            "min_width": null,
            "object_fit": null,
            "object_position": null,
            "order": null,
            "overflow": null,
            "overflow_x": null,
            "overflow_y": null,
            "padding": null,
            "right": null,
            "top": null,
            "visibility": null,
            "width": null
          }
        },
        "19cac0d257784b05bb97ca13abb5e3da": {
          "model_module": "@jupyter-widgets/controls",
          "model_name": "DescriptionStyleModel",
          "model_module_version": "1.5.0",
          "state": {
            "_model_module": "@jupyter-widgets/controls",
            "_model_module_version": "1.5.0",
            "_model_name": "DescriptionStyleModel",
            "_view_count": null,
            "_view_module": "@jupyter-widgets/base",
            "_view_module_version": "1.2.0",
            "_view_name": "StyleView",
            "description_width": ""
          }
        },
        "97e03ca43ab74adf99d8e18a9cca8202": {
          "model_module": "@jupyter-widgets/base",
          "model_name": "LayoutModel",
          "model_module_version": "1.2.0",
          "state": {
            "_model_module": "@jupyter-widgets/base",
            "_model_module_version": "1.2.0",
            "_model_name": "LayoutModel",
            "_view_count": null,
            "_view_module": "@jupyter-widgets/base",
            "_view_module_version": "1.2.0",
            "_view_name": "LayoutView",
            "align_content": null,
            "align_items": null,
            "align_self": null,
            "border": null,
            "bottom": null,
            "display": null,
            "flex": null,
            "flex_flow": null,
            "grid_area": null,
            "grid_auto_columns": null,
            "grid_auto_flow": null,
            "grid_auto_rows": null,
            "grid_column": null,
            "grid_gap": null,
            "grid_row": null,
            "grid_template_areas": null,
            "grid_template_columns": null,
            "grid_template_rows": null,
            "height": null,
            "justify_content": null,
            "justify_items": null,
            "left": null,
            "margin": null,
            "max_height": null,
            "max_width": null,
            "min_height": null,
            "min_width": null,
            "object_fit": null,
            "object_position": null,
            "order": null,
            "overflow": null,
            "overflow_x": null,
            "overflow_y": null,
            "padding": null,
            "right": null,
            "top": null,
            "visibility": null,
            "width": null
          }
        }
      }
    }
  },
  "cells": [
    {
      "cell_type": "markdown",
      "metadata": {
        "id": "view-in-github",
        "colab_type": "text"
      },
      "source": [
        "<a href=\"https://colab.research.google.com/github/allenlincg/aipractice/blob/main/%E5%BB%BA%E7%AB%8B%E4%BD%A0%E7%9A%84%E7%AC%AC%E4%B8%80%E5%80%8B%E7%A5%9E%E7%B6%93%E7%B6%B2%E8%B7%AF%E6%A8%A1%E5%9E%8B.ipynb\" target=\"_parent\"><img src=\"https://colab.research.google.com/assets/colab-badge.svg\" alt=\"Open In Colab\"/></a>"
      ]
    },
    {
      "cell_type": "markdown",
      "metadata": {
        "id": "vVF9I9v6Zipb"
      },
      "source": [
        "## 1: 切換 TensorFlow 至 2.x 版\n",
        "\n"
      ]
    },
    {
      "cell_type": "code",
      "metadata": {
        "id": "WS6fShx3Za4O",
        "outputId": "5e6fd626-aae0-40e9-d1bc-04af6030e059",
        "colab": {
          "base_uri": "https://localhost:8080/"
        }
      },
      "source": [
        "%tensorflow_version 2.x"
      ],
      "execution_count": null,
      "outputs": [
        {
          "output_type": "stream",
          "name": "stdout",
          "text": [
            "Colab only includes TensorFlow 2.x; %tensorflow_version has no effect.\n"
          ]
        }
      ]
    },
    {
      "cell_type": "code",
      "metadata": {
        "id": "uA-_P66AHK3-"
      },
      "source": [
        "import tensorflow as tf"
      ],
      "execution_count": null,
      "outputs": []
    },
    {
      "cell_type": "code",
      "metadata": {
        "id": "AjZslGUuHLSp",
        "colab": {
          "base_uri": "https://localhost:8080/",
          "height": 36
        },
        "outputId": "d1496bbe-2ad7-4c16-ee78-0ce662bd6452"
      },
      "source": [
        "tf.__version__ # 確認 TensorFlow 版本"
      ],
      "execution_count": null,
      "outputs": [
        {
          "output_type": "execute_result",
          "data": {
            "text/plain": [
              "'2.19.0'"
            ],
            "application/vnd.google.colaboratory.intrinsic+json": {
              "type": "string"
            }
          },
          "metadata": {},
          "execution_count": 6
        }
      ]
    },
    {
      "cell_type": "markdown",
      "metadata": {
        "id": "KzywiITOHNuE"
      },
      "source": [
        "## 2: 載入套件及資料集"
      ]
    },
    {
      "cell_type": "code",
      "metadata": {
        "id": "cBERMIvjHPFk"
      },
      "source": [
        "%matplotlib inline\n",
        "# Import useful packages\n",
        "import matplotlib.pyplot as plt\n",
        "import numpy as np\n",
        "\n",
        "# Import functions for data preprocessing\n",
        "from tensorflow.keras import datasets\n",
        "from tensorflow.keras.utils import to_categorical\n",
        "from tensorflow.keras.callbacks import EarlyStopping"
      ],
      "execution_count": null,
      "outputs": []
    },
    {
      "cell_type": "markdown",
      "metadata": {
        "id": "qvKDaxwpHRMh"
      },
      "source": [
        "## 3: 資料前處理 (Data Preprocessing)"
      ]
    },
    {
      "cell_type": "markdown",
      "metadata": {
        "id": "RTGNUrdBHZCB"
      },
      "source": [
        "### 讀取 MNIST 資料集\n",
        "\n",
        "我們在此透過 `datasets` 讀取 MNIST 手寫數字圖片資料集\n",
        "\n",
        "此外，`datasets` 提供了以下數據資料集，並可使用在各種模型的練習上\n",
        "* CIFAR-10: 10 個類別的小影像分類資料集\n",
        "* CIFAR-100: 100 個類別的小影像分類資料集\n",
        "* IMDB: 電影評論情感分類數據集\n",
        "* Reuters newswire topics: 路透社新聞標題分類\n",
        "* MNIST: 手寫數字資料集\n",
        "* Fashion MNIST: 時尚物品資料集\n",
        "* Boston housing: 波士頓房價資料集\n",
        "\n",
        "關於各資料集的格式與出處，可參考: https://keras.io/datasets/\n"
      ]
    },
    {
      "cell_type": "code",
      "metadata": {
        "id": "-lCgz6UC8pKT"
      },
      "source": [
        "(X_train, y_train), (X_test, y_test) = datasets.mnist.load_data()"
      ],
      "execution_count": null,
      "outputs": []
    },
    {
      "cell_type": "code",
      "metadata": {
        "id": "RhxMdy87IN8c",
        "colab": {
          "base_uri": "https://localhost:8080/"
        },
        "outputId": "3726da4a-e246-424b-bf83-dbb95df587b0"
      },
      "source": [
        "X_train"
      ],
      "execution_count": null,
      "outputs": [
        {
          "output_type": "execute_result",
          "data": {
            "text/plain": [
              "array([[[0, 0, 0, ..., 0, 0, 0],\n",
              "        [0, 0, 0, ..., 0, 0, 0],\n",
              "        [0, 0, 0, ..., 0, 0, 0],\n",
              "        ...,\n",
              "        [0, 0, 0, ..., 0, 0, 0],\n",
              "        [0, 0, 0, ..., 0, 0, 0],\n",
              "        [0, 0, 0, ..., 0, 0, 0]],\n",
              "\n",
              "       [[0, 0, 0, ..., 0, 0, 0],\n",
              "        [0, 0, 0, ..., 0, 0, 0],\n",
              "        [0, 0, 0, ..., 0, 0, 0],\n",
              "        ...,\n",
              "        [0, 0, 0, ..., 0, 0, 0],\n",
              "        [0, 0, 0, ..., 0, 0, 0],\n",
              "        [0, 0, 0, ..., 0, 0, 0]],\n",
              "\n",
              "       [[0, 0, 0, ..., 0, 0, 0],\n",
              "        [0, 0, 0, ..., 0, 0, 0],\n",
              "        [0, 0, 0, ..., 0, 0, 0],\n",
              "        ...,\n",
              "        [0, 0, 0, ..., 0, 0, 0],\n",
              "        [0, 0, 0, ..., 0, 0, 0],\n",
              "        [0, 0, 0, ..., 0, 0, 0]],\n",
              "\n",
              "       ...,\n",
              "\n",
              "       [[0, 0, 0, ..., 0, 0, 0],\n",
              "        [0, 0, 0, ..., 0, 0, 0],\n",
              "        [0, 0, 0, ..., 0, 0, 0],\n",
              "        ...,\n",
              "        [0, 0, 0, ..., 0, 0, 0],\n",
              "        [0, 0, 0, ..., 0, 0, 0],\n",
              "        [0, 0, 0, ..., 0, 0, 0]],\n",
              "\n",
              "       [[0, 0, 0, ..., 0, 0, 0],\n",
              "        [0, 0, 0, ..., 0, 0, 0],\n",
              "        [0, 0, 0, ..., 0, 0, 0],\n",
              "        ...,\n",
              "        [0, 0, 0, ..., 0, 0, 0],\n",
              "        [0, 0, 0, ..., 0, 0, 0],\n",
              "        [0, 0, 0, ..., 0, 0, 0]],\n",
              "\n",
              "       [[0, 0, 0, ..., 0, 0, 0],\n",
              "        [0, 0, 0, ..., 0, 0, 0],\n",
              "        [0, 0, 0, ..., 0, 0, 0],\n",
              "        ...,\n",
              "        [0, 0, 0, ..., 0, 0, 0],\n",
              "        [0, 0, 0, ..., 0, 0, 0],\n",
              "        [0, 0, 0, ..., 0, 0, 0]]], dtype=uint8)"
            ]
          },
          "metadata": {},
          "execution_count": 44
        }
      ]
    },
    {
      "cell_type": "code",
      "metadata": {
        "id": "j3BIqT_TIOBF",
        "colab": {
          "base_uri": "https://localhost:8080/"
        },
        "outputId": "1ebe280f-07f3-4911-8318-fd9950e18744"
      },
      "source": [
        "X_train.shape # 6 萬筆 28x28 的資料"
      ],
      "execution_count": null,
      "outputs": [
        {
          "output_type": "execute_result",
          "data": {
            "text/plain": [
              "(60000, 28, 28)"
            ]
          },
          "metadata": {},
          "execution_count": 45
        }
      ]
    },
    {
      "cell_type": "code",
      "metadata": {
        "id": "fAfGh6EoIODk",
        "colab": {
          "base_uri": "https://localhost:8080/"
        },
        "outputId": "ae93c23b-2d04-49e4-838c-8020a8db5336"
      },
      "source": [
        "y_train"
      ],
      "execution_count": null,
      "outputs": [
        {
          "output_type": "execute_result",
          "data": {
            "text/plain": [
              "array([5, 0, 4, ..., 5, 6, 8], dtype=uint8)"
            ]
          },
          "metadata": {},
          "execution_count": 46
        }
      ]
    },
    {
      "cell_type": "code",
      "metadata": {
        "id": "TvPFpoxaIOGp",
        "colab": {
          "base_uri": "https://localhost:8080/"
        },
        "outputId": "5fc17d32-52a2-4152-ded9-ea69d0f0b966"
      },
      "source": [
        "y_train.shape # 6 萬個整數，代表對應資料的號碼"
      ],
      "execution_count": null,
      "outputs": [
        {
          "output_type": "execute_result",
          "data": {
            "text/plain": [
              "(60000,)"
            ]
          },
          "metadata": {},
          "execution_count": 47
        }
      ]
    },
    {
      "cell_type": "code",
      "metadata": {
        "id": "HVFT6kMaIOKA",
        "colab": {
          "base_uri": "https://localhost:8080/"
        },
        "outputId": "f5aa60b1-31ef-477d-8fd0-3a860d9ca88d"
      },
      "source": [
        "set(y_train)"
      ],
      "execution_count": null,
      "outputs": [
        {
          "output_type": "execute_result",
          "data": {
            "text/plain": [
              "{np.uint8(0),\n",
              " np.uint8(1),\n",
              " np.uint8(2),\n",
              " np.uint8(3),\n",
              " np.uint8(4),\n",
              " np.uint8(5),\n",
              " np.uint8(6),\n",
              " np.uint8(7),\n",
              " np.uint8(8),\n",
              " np.uint8(9)}"
            ]
          },
          "metadata": {},
          "execution_count": 49
        }
      ]
    },
    {
      "cell_type": "code",
      "metadata": {
        "id": "vfA5O8DeIOOl"
      },
      "source": [],
      "execution_count": null,
      "outputs": []
    },
    {
      "cell_type": "markdown",
      "metadata": {
        "id": "sMWTboXMG1DD"
      },
      "source": [
        "### 資料標準化 (Normalizing data)\n",
        "* a) 確認資料的數值範圍\n",
        "* b) 標準化至指定範圍\n",
        "\n",
        "\n",
        "\n",
        "[重點] 標準化的資料能協助神經網路的訓練速度及穩定度"
      ]
    },
    {
      "cell_type": "markdown",
      "metadata": {
        "id": "nw5IObblG06T"
      },
      "source": [
        "#### 觀察單筆資料"
      ]
    },
    {
      "cell_type": "code",
      "metadata": {
        "id": "r8bHQGFXG0xm"
      },
      "source": [
        "# Random pick one data from training set\n",
        "idx = np.random.randint(X_train.shape[0])\n",
        "sample_x = X_train[idx]\n",
        "sample_y = y_train[idx]"
      ],
      "execution_count": null,
      "outputs": []
    },
    {
      "cell_type": "code",
      "metadata": {
        "id": "RinlyAogJBkX",
        "colab": {
          "base_uri": "https://localhost:8080/"
        },
        "outputId": "79989f96-b907-470c-f332-ad68d707abb1"
      },
      "source": [
        "sample_y"
      ],
      "execution_count": null,
      "outputs": [
        {
          "output_type": "execute_result",
          "data": {
            "text/plain": [
              "np.uint8(1)"
            ]
          },
          "metadata": {},
          "execution_count": 51
        }
      ]
    },
    {
      "cell_type": "code",
      "metadata": {
        "id": "wB16rm4-G0o1",
        "colab": {
          "base_uri": "https://localhost:8080/"
        },
        "outputId": "c03e22d4-5676-4881-a4e2-d3fea0bb4207"
      },
      "source": [
        "print(\"最小值:\", sample_x.min())\n",
        "print(\"最大值:\", sample_x.max())"
      ],
      "execution_count": null,
      "outputs": [
        {
          "output_type": "stream",
          "name": "stdout",
          "text": [
            "最小值: 0\n",
            "最大值: 255\n"
          ]
        }
      ]
    },
    {
      "cell_type": "code",
      "metadata": {
        "id": "RZnTbTDiG0f7",
        "colab": {
          "base_uri": "https://localhost:8080/",
          "height": 472
        },
        "outputId": "f7e7f952-c19e-46c4-f6b8-1252e7104a79"
      },
      "source": [
        "plt.figure(figsize=(10, 5))\n",
        "plt.subplot(1, 2, 1)\n",
        "plt.imshow(sample_x, 'gray_r')\n",
        "plt.title(\"ID:%d\\nImage Label: %d\" %(idx, sample_y))\n",
        "\n",
        "plt.subplot(1, 2, 2)\n",
        "plt.hist(sample_x.flatten())\n",
        "plt.title(\"Pixel Histogram\");"
      ],
      "execution_count": null,
      "outputs": [
        {
          "output_type": "display_data",
          "data": {
            "text/plain": [
              "<Figure size 1000x500 with 2 Axes>"
            ],
            "image/png": "[encoded data removed]"
          },
          "metadata": {}
        }
      ]
    },
    {
      "cell_type": "markdown",
      "metadata": {
        "id": "EiheOXqPG0Tm"
      },
      "source": [
        "#### 檢查所有資料的值之範圍"
      ]
    },
    {
      "cell_type": "code",
      "metadata": {
        "id": "gbFVGHYNG0Kh",
        "colab": {
          "base_uri": "https://localhost:8080/"
        },
        "outputId": "253df00b-a190-4e81-863a-d247d1386e32"
      },
      "source": [
        "print(\"最小值:\", X_train.min())\n",
        "print(\"最大值:\", X_train.max())"
      ],
      "execution_count": null,
      "outputs": [
        {
          "output_type": "stream",
          "name": "stdout",
          "text": [
            "最小值: 0\n",
            "最大值: 255\n"
          ]
        }
      ]
    },
    {
      "cell_type": "code",
      "metadata": {
        "id": "QA2-dKfQJEt7",
        "colab": {
          "base_uri": "https://localhost:8080/",
          "height": 636
        },
        "outputId": "534da13d-c857-4619-c1b5-665cc7d31247"
      },
      "source": [
        "plt.figure(figsize=(16, 6))\n",
        "plt.subplot(1, 2, 1)\n",
        "plt.title('Historgram of Minimal Value of Each Data')\n",
        "plt.hist(X_train.min(axis=(1, 2)))\n",
        "\n",
        "plt.subplot(1, 2, 2)\n",
        "plt.title('Historgram of Maximal Value of Each Data')\n",
        "plt.hist(X_train.max(axis=(1, 2)))"
      ],
      "execution_count": null,
      "outputs": [
        {
          "output_type": "execute_result",
          "data": {
            "text/plain": [
              "(array([ 5999.,     0.,     0.,     0.,     0.,     0.,     0.,     0.,\n",
              "            0., 54001.]),\n",
              " array([254. , 254.1, 254.2, 254.3, 254.4, 254.5, 254.6, 254.7, 254.8,\n",
              "        254.9, 255. ]),\n",
              " <BarContainer object of 10 artists>)"
            ]
          },
          "metadata": {},
          "execution_count": 55
        },
        {
          "output_type": "display_data",
          "data": {
            "text/plain": [
              "<Figure size 1600x600 with 2 Axes>"
            ],
            "image/png": "[encoded data removed]"
          },
          "metadata": {}
        }
      ]
    },
    {
      "cell_type": "markdown",
      "metadata": {
        "id": "Z-qe2K1aG0Bo"
      },
      "source": [
        "#### 標準化 (Normalization)"
      ]
    },
    {
      "cell_type": "markdown",
      "metadata": {
        "id": "McExBsnuGz5G"
      },
      "source": [
        "在數學中，將資料「單位化」的方式有很多，最常見的是限制資料數值的範圍（即最大值與最小值），假設資料的數值範圍為 $[a, b]$，透過\n",
        "\n",
        "$$\n",
        "f(x) = \\frac{x-a}{b-a}\n",
        "$$\n",
        "\n",
        "可將資料的數值範圍變換到 $[0, 1]$.\n",
        "\n",
        "在這裡，由於 MNIST 的數值範圍的最小值為 0，所以在這邊只需除以最大值 255，就可將資料的數值範圍限制在 $[0, 1]$.\n"
      ]
    },
    {
      "cell_type": "code",
      "metadata": {
        "id": "zvWzsB3G9IU8",
        "colab": {
          "base_uri": "https://localhost:8080/"
        },
        "outputId": "31e6da88-61b1-406f-82af-51a2723240f5"
      },
      "source": [
        "X_train = X_train / X_train.max()\n",
        "print(\"最小值:\", X_train.min())\n",
        "print(\"最大值:\", X_train.max())"
      ],
      "execution_count": null,
      "outputs": [
        {
          "output_type": "stream",
          "name": "stdout",
          "text": [
            "最小值: 0.0\n",
            "最大值: 1.0\n"
          ]
        }
      ]
    },
    {
      "cell_type": "code",
      "metadata": {
        "id": "nO5BbUMaGzvu",
        "colab": {
          "base_uri": "https://localhost:8080/"
        },
        "outputId": "4545e6cf-be25-4466-bf6f-4c1d0332536c"
      },
      "source": [
        "X_test = X_test / X_test.max()\n",
        "print(\"最小值:\", X_test.min())\n",
        "print(\"最大值:\", X_test.max())"
      ],
      "execution_count": null,
      "outputs": [
        {
          "output_type": "stream",
          "name": "stdout",
          "text": [
            "最小值: 0.0\n",
            "最大值: 1.0\n"
          ]
        }
      ]
    },
    {
      "cell_type": "markdown",
      "metadata": {
        "id": "YcuPr3G0GzmX"
      },
      "source": [
        "### 調整資料格式\n",
        "我們通常會透過 `.reshpe` 的方式，將資料「尺寸」轉換成符合神經網路輸入的格式\n",
        "\n",
        "我們將每筆格式為 $28\\times28$ 的資料，拉直 (flatten) 成一個長度為 $28*28=784$ 的一維陣列。\n",
        "\n",
        "換言之，訓練資料的大小將從 $(60000, 28, 28)$ 轉換成 $(60000, 784)$。\n",
        "\n",
        "測試資料則由 $(10000, 28, 28)$ 轉換成 $(10000, 784)$\n"
      ]
    },
    {
      "cell_type": "code",
      "metadata": {
        "id": "Ln_HLonjGzHY"
      },
      "source": [
        "X_train = X_train.reshape(-1, 28*28)"
      ],
      "execution_count": null,
      "outputs": []
    },
    {
      "cell_type": "code",
      "metadata": {
        "id": "MBQp8MRxIl53",
        "colab": {
          "base_uri": "https://localhost:8080/"
        },
        "outputId": "d3051ca7-bfc7-4ce5-fab3-e5fbf749c8c7"
      },
      "source": [
        "X_train.shape"
      ],
      "execution_count": null,
      "outputs": [
        {
          "output_type": "execute_result",
          "data": {
            "text/plain": [
              "(60000, 784)"
            ]
          },
          "metadata": {},
          "execution_count": 59
        }
      ]
    },
    {
      "cell_type": "code",
      "metadata": {
        "id": "fwKtYStlGy-I"
      },
      "source": [
        "X_test = X_test.reshape(-1, 28*28)"
      ],
      "execution_count": null,
      "outputs": []
    },
    {
      "cell_type": "code",
      "metadata": {
        "id": "2caFxj6qGy1x",
        "colab": {
          "base_uri": "https://localhost:8080/"
        },
        "outputId": "42462491-8c16-4a63-ca09-7dbeb1dca729"
      },
      "source": [
        "X_test.shape"
      ],
      "execution_count": null,
      "outputs": [
        {
          "output_type": "execute_result",
          "data": {
            "text/plain": [
              "(10000, 784)"
            ]
          },
          "metadata": {},
          "execution_count": 61
        }
      ]
    },
    {
      "cell_type": "markdown",
      "metadata": {
        "id": "ktsJyH2eGyRG"
      },
      "source": [
        "### 調整類別的格式\n",
        "在分類問題上，我們會將不具有「順序」的類別，轉換成適當的格式，其中一種常見的方式稱作單熱編碼 (one-hot encoding)；我們先看下面的例子：\n",
        "\n",
        "假設我們有三個類別: 蘋果、香蕉、貓\n",
        "\n",
        "透過單熱編碼，我們會將每個類別其轉換成長度為類別總數的向量，其結果如下：\n",
        "\n",
        "| 蘋果 | 香蕉 | 貓 |\n",
        "|-------|--------|-----|\n",
        "|  \\begin{bmatrix}1\\\\0\\\\0\\end{bmatrix}  | \\begin{bmatrix}0\\\\1\\\\0\\end{bmatrix} | \\begin{bmatrix}0\\\\0\\\\1\\end{bmatrix}|\n",
        "\n",
        "換言之，若一個物件的預測結果是以下的向量\n",
        "\n",
        "\\begin{bmatrix}0.14\\\\0.21\\\\0.65\\end{bmatrix}\n",
        "\n",
        "我們則說該物件有 $14\\%$ 的機率是**蘋果**，$21\\%$ 的機率是**香蕉**，$65\\%$ 的機率是**貓**。\n",
        "\n",
        "因為屬於**貓**類別的機率最大，因此預測類別為「貓」。\n",
        "\n",
        "在 MNIST 資料集中，我們則將類別做以下轉換：\n",
        "\n",
        "| 0 | 1 | $\\cdots$ | 8 | 9 |\n",
        "|-|-|-|-|-|\n",
        "|  \\begin{bmatrix}1\\\\0\\\\0\\\\0\\\\0\\\\0\\\\0\\\\0\\\\0\\\\0\\end{bmatrix}  | \\begin{bmatrix}0\\\\1\\\\0\\\\0\\\\0\\\\0\\\\0\\\\0\\\\0\\\\0\\end{bmatrix} | $\\cdots$ | \\begin{bmatrix}0\\\\0\\\\0\\\\0\\\\0\\\\0\\\\0\\\\0\\\\1\\\\0\\end{bmatrix} | \\begin{bmatrix}0\\\\0\\\\0\\\\0\\\\0\\\\0\\\\0\\\\0\\\\0\\\\1\\end{bmatrix} |"
      ]
    },
    {
      "cell_type": "markdown",
      "metadata": {
        "id": "CdeWzN8nGwg4"
      },
      "source": [
        "我們可以用 Numpy 簡單的實作單熱編碼，也可以透過 Keras 提供的 `to_categorical` 來進行。\n",
        "\n",
        "首先，先簡易的操作幾個例子。"
      ]
    },
    {
      "cell_type": "code",
      "metadata": {
        "id": "-3vu5d2QGxpg"
      },
      "source": [
        "toy_label_1 = np.array([0, 1, 2, 1, 0]) # 3 類別資料"
      ],
      "execution_count": null,
      "outputs": []
    },
    {
      "cell_type": "code",
      "metadata": {
        "id": "tbom-M5pGxfi",
        "colab": {
          "base_uri": "https://localhost:8080/"
        },
        "outputId": "b7b7d5c3-342a-4231-b00e-9dd6915b95fb"
      },
      "source": [
        "to_categorical(toy_label_1)"
      ],
      "execution_count": null,
      "outputs": [
        {
          "output_type": "execute_result",
          "data": {
            "text/plain": [
              "array([[1., 0., 0.],\n",
              "       [0., 1., 0.],\n",
              "       [0., 0., 1.],\n",
              "       [0., 1., 0.],\n",
              "       [1., 0., 0.]])"
            ]
          },
          "metadata": {},
          "execution_count": 25
        }
      ]
    },
    {
      "cell_type": "code",
      "metadata": {
        "id": "1Byt-PWiGxW1",
        "colab": {
          "base_uri": "https://localhost:8080/"
        },
        "outputId": "bcbe8423-95ba-4964-cd79-c3c433d46d42"
      },
      "source": [
        "toy_label_2 = toy_label_1 + 1 # 4 類別資料，但缺少第 0 類資料 (y = 0)\n",
        "toy_label_2"
      ],
      "execution_count": null,
      "outputs": [
        {
          "output_type": "execute_result",
          "data": {
            "text/plain": [
              "array([1, 2, 3, 2, 1])"
            ]
          },
          "metadata": {},
          "execution_count": 26
        }
      ]
    },
    {
      "cell_type": "code",
      "metadata": {
        "id": "KraLgD2aGxOF",
        "colab": {
          "base_uri": "https://localhost:8080/"
        },
        "outputId": "24c8c693-ddf4-4f3f-f0b4-d6c492995264"
      },
      "source": [
        "to_categorical(toy_label_2)"
      ],
      "execution_count": null,
      "outputs": [
        {
          "output_type": "execute_result",
          "data": {
            "text/plain": [
              "array([[0., 1., 0., 0.],\n",
              "       [0., 0., 1., 0.],\n",
              "       [0., 0., 0., 1.],\n",
              "       [0., 0., 1., 0.],\n",
              "       [0., 1., 0., 0.]])"
            ]
          },
          "metadata": {},
          "execution_count": 27
        }
      ]
    },
    {
      "cell_type": "code",
      "metadata": {
        "id": "pzjLYNPsGxGO",
        "colab": {
          "base_uri": "https://localhost:8080/"
        },
        "outputId": "aaf92908-2743-474a-cfa0-7a2485d25c04"
      },
      "source": [
        "toy_label_3 = toy_label_1 + 1 # 4 類別資料，但缺少第 0 類資料 (y = 0)\n",
        "toy_label_3"
      ],
      "execution_count": null,
      "outputs": [
        {
          "output_type": "execute_result",
          "data": {
            "text/plain": [
              "array([1, 2, 3, 2, 1])"
            ]
          },
          "metadata": {},
          "execution_count": 28
        }
      ]
    },
    {
      "cell_type": "code",
      "metadata": {
        "id": "W2bgUnV5Gw9a",
        "colab": {
          "base_uri": "https://localhost:8080/"
        },
        "outputId": "ae028aa5-d22c-488f-f134-a46440f20e8b"
      },
      "source": [
        "to_categorical(toy_label_3, 4)"
      ],
      "execution_count": null,
      "outputs": [
        {
          "output_type": "execute_result",
          "data": {
            "text/plain": [
              "array([[0., 1., 0., 0.],\n",
              "       [0., 0., 1., 0.],\n",
              "       [0., 0., 0., 1.],\n",
              "       [0., 0., 1., 0.],\n",
              "       [0., 1., 0., 0.]])"
            ]
          },
          "metadata": {},
          "execution_count": 48
        }
      ]
    },
    {
      "cell_type": "markdown",
      "metadata": {
        "id": "3uic2UgsGw13"
      },
      "source": [
        "接著，我們來處理資料集的標籤資料，並觀察單筆資料在轉換前後的差別。"
      ]
    },
    {
      "cell_type": "code",
      "metadata": {
        "id": "FV-93MhzGwpb",
        "colab": {
          "base_uri": "https://localhost:8080/"
        },
        "outputId": "470521a3-ad5c-46b8-e29d-17e36e32b359"
      },
      "source": [
        "print(y_train[idx])"
      ],
      "execution_count": null,
      "outputs": [
        {
          "output_type": "stream",
          "name": "stdout",
          "text": [
            "1\n"
          ]
        }
      ]
    },
    {
      "cell_type": "code",
      "metadata": {
        "id": "VQuM8DGDGwZl"
      },
      "source": [
        "y_train = to_categorical(y_train, 10)"
      ],
      "execution_count": null,
      "outputs": []
    },
    {
      "cell_type": "code",
      "metadata": {
        "id": "kMn69WEOGwQb",
        "colab": {
          "base_uri": "https://localhost:8080/"
        },
        "outputId": "c21068a7-4a74-4f28-b4a0-d974df6128ea"
      },
      "source": [
        "y_train[idx]"
      ],
      "execution_count": null,
      "outputs": [
        {
          "output_type": "execute_result",
          "data": {
            "text/plain": [
              "array([0., 1., 0., 0., 0., 0., 0., 0., 0., 0.])"
            ]
          },
          "metadata": {},
          "execution_count": 64
        }
      ]
    },
    {
      "cell_type": "code",
      "metadata": {
        "id": "LiF53GM0GwEr"
      },
      "source": [
        "y_test = to_categorical(y_test, 10)"
      ],
      "execution_count": null,
      "outputs": []
    },
    {
      "cell_type": "markdown",
      "metadata": {
        "id": "nvgnjLpOGv5K"
      },
      "source": [
        "## 4: 建立你的第一個全連接神經網路 (Fully-Connected Neural Network)\n",
        "\n",
        "在這個部分，我們將逐步帶領大家建立，一個有一層隱藏層的全連接神經網路\n"
      ]
    },
    {
      "cell_type": "code",
      "metadata": {
        "id": "MkYjomHmESOQ"
      },
      "source": [
        "# Import necessary modules to build our first neural network model\n",
        "from tensorflow.keras.models import Sequential\n",
        "from tensorflow.keras.layers import Dense, Flatten"
      ],
      "execution_count": null,
      "outputs": []
    },
    {
      "cell_type": "markdown",
      "metadata": {
        "id": "l30aZ6-GYtUP"
      },
      "source": [
        "### 定義模型\n",
        "\n",
        "透過 `Sequential` 函式建立一個空的「模型」"
      ]
    },
    {
      "cell_type": "code",
      "metadata": {
        "id": "xmfogzmn9kqv"
      },
      "source": [
        "model = Sequential()"
      ],
      "execution_count": null,
      "outputs": []
    },
    {
      "cell_type": "markdown",
      "metadata": {
        "id": "TNzLOAK5Y-mR"
      },
      "source": [
        "### 將隱藏層加入模型中\n",
        "\n",
        "隱藏層的參數:\n",
        "- 神經元個數: 128\n",
        "- 激活函數: sigmoid\n",
        "- 神經網路的輸入格式: (784,)\n",
        "\n",
        "\n",
        "[重要] 只有第一層隱藏層必須指定的輸入格式"
      ]
    },
    {
      "cell_type": "code",
      "metadata": {
        "id": "GBsfDyGE-FX5"
      },
      "source": [
        "model.add(Dense(units=128, activation='sigmoid', input_shape=(784,)))"
      ],
      "execution_count": null,
      "outputs": []
    },
    {
      "cell_type": "markdown",
      "metadata": {
        "id": "BGqvyDvNbzwN"
      },
      "source": [
        "### 將輸出層加入模型中\n",
        "\n",
        "- 神經元個數: 10\n",
        "- 激活函數: softmax\n",
        "\n",
        "[重要]\n",
        "\n",
        "1. 若是二分類模型，則輸出層的神經元個數為 1，激活函數使用 **sigmoid**。\n",
        "\n",
        "2. 若是多分類模型，則輸出層的神經元個數=類別總數，激活函數則唯一指定 **softmax**。"
      ]
    },
    {
      "cell_type": "code",
      "metadata": {
        "id": "OmkUuF9Y-3mG"
      },
      "source": [
        "model.add(Dense(units=10, activation='softmax'))"
      ],
      "execution_count": null,
      "outputs": []
    },
    {
      "cell_type": "markdown",
      "metadata": {
        "id": "2rRsMjsvcOua"
      },
      "source": [
        "### 編譯模型: 設定模型訓練時的設定\n",
        "- Optimizer:\n",
        "    Stochastic Gradient Descent (SGD)\n",
        "- Loss:\n",
        "    Categorical Cross-entropy\n"
      ]
    },
    {
      "cell_type": "code",
      "metadata": {
        "id": "nbW3xeRK_CrN"
      },
      "source": [
        "model.compile(loss='categorical_crossentropy',\n",
        "              optimizer='SGD',\n",
        "              metrics=['categorical_accuracy'])"
      ],
      "execution_count": null,
      "outputs": []
    },
    {
      "cell_type": "code",
      "metadata": {
        "id": "8dQOL_EtChrN",
        "colab": {
          "base_uri": "https://localhost:8080/",
          "height": 197
        },
        "outputId": "15beb11d-0f1d-4550-c79f-eceec0d18dc1"
      },
      "source": [
        "model.summary()"
      ],
      "execution_count": null,
      "outputs": [
        {
          "output_type": "display_data",
          "data": {
            "text/plain": [
              "\u001b[1mModel: \"sequential_1\"\u001b[0m\n"
            ],
            "text/html": [
              "<pre style=\"white-space:pre;overflow-x:auto;line-height:normal;font-family:Menlo,'DejaVu Sans Mono',consolas,'Courier New',monospace\"><span style=\"font-weight: bold\">Model: \"sequential_1\"</span>\n",
              "</pre>\n"
            ]
          },
          "metadata": {}
        },
        {
          "output_type": "display_data",
          "data": {
            "text/plain": [
              "┏━━━━━━━━━━━━━━━━━━━━━━━━━━━━━━━━━┳━━━━━━━━━━━━━━━━━━━━━━━━┳━━━━━━━━━━━━━━━┓\n",
              "┃\u001b[1m \u001b[0m\u001b[1mLayer (type)                   \u001b[0m\u001b[1m \u001b[0m┃\u001b[1m \u001b[0m\u001b[1mOutput Shape          \u001b[0m\u001b[1m \u001b[0m┃\u001b[1m \u001b[0m\u001b[1m      Param #\u001b[0m\u001b[1m \u001b[0m┃\n",
              "┡━━━━━━━━━━━━━━━━━━━━━━━━━━━━━━━━━╇━━━━━━━━━━━━━━━━━━━━━━━━╇━━━━━━━━━━━━━━━┩\n",
              "│ dense_2 (\u001b[38;5;33mDense\u001b[0m)                 │ (\u001b[38;5;45mNone\u001b[0m, \u001b[38;5;34m128\u001b[0m)            │       \u001b[38;5;34m100,480\u001b[0m │\n",
              "├─────────────────────────────────┼────────────────────────┼───────────────┤\n",
              "│ dense_3 (\u001b[38;5;33mDense\u001b[0m)                 │ (\u001b[38;5;45mNone\u001b[0m, \u001b[38;5;34m10\u001b[0m)             │         \u001b[38;5;34m1,290\u001b[0m │\n",
              "└─────────────────────────────────┴────────────────────────┴───────────────┘\n"
            ],
            "text/html": [
              "<pre style=\"white-space:pre;overflow-x:auto;line-height:normal;font-family:Menlo,'DejaVu Sans Mono',consolas,'Courier New',monospace\">┏━━━━━━━━━━━━━━━━━━━━━━━━━━━━━━━━━┳━━━━━━━━━━━━━━━━━━━━━━━━┳━━━━━━━━━━━━━━━┓\n",
              "┃<span style=\"font-weight: bold\"> Layer (type)                    </span>┃<span style=\"font-weight: bold\"> Output Shape           </span>┃<span style=\"font-weight: bold\">       Param # </span>┃\n",
              "┡━━━━━━━━━━━━━━━━━━━━━━━━━━━━━━━━━╇━━━━━━━━━━━━━━━━━━━━━━━━╇━━━━━━━━━━━━━━━┩\n",
              "│ dense_2 (<span style=\"color: #0087ff; text-decoration-color: #0087ff\">Dense</span>)                 │ (<span style=\"color: #00d7ff; text-decoration-color: #00d7ff\">None</span>, <span style=\"color: #00af00; text-decoration-color: #00af00\">128</span>)            │       <span style=\"color: #00af00; text-decoration-color: #00af00\">100,480</span> │\n",
              "├─────────────────────────────────┼────────────────────────┼───────────────┤\n",
              "│ dense_3 (<span style=\"color: #0087ff; text-decoration-color: #0087ff\">Dense</span>)                 │ (<span style=\"color: #00d7ff; text-decoration-color: #00d7ff\">None</span>, <span style=\"color: #00af00; text-decoration-color: #00af00\">10</span>)             │         <span style=\"color: #00af00; text-decoration-color: #00af00\">1,290</span> │\n",
              "└─────────────────────────────────┴────────────────────────┴───────────────┘\n",
              "</pre>\n"
            ]
          },
          "metadata": {}
        },
        {
          "output_type": "display_data",
          "data": {
            "text/plain": [
              "\u001b[1m Total params: \u001b[0m\u001b[38;5;34m101,770\u001b[0m (397.54 KB)\n"
            ],
            "text/html": [
              "<pre style=\"white-space:pre;overflow-x:auto;line-height:normal;font-family:Menlo,'DejaVu Sans Mono',consolas,'Courier New',monospace\"><span style=\"font-weight: bold\"> Total params: </span><span style=\"color: #00af00; text-decoration-color: #00af00\">101,770</span> (397.54 KB)\n",
              "</pre>\n"
            ]
          },
          "metadata": {}
        },
        {
          "output_type": "display_data",
          "data": {
            "text/plain": [
              "\u001b[1m Trainable params: \u001b[0m\u001b[38;5;34m101,770\u001b[0m (397.54 KB)\n"
            ],
            "text/html": [
              "<pre style=\"white-space:pre;overflow-x:auto;line-height:normal;font-family:Menlo,'DejaVu Sans Mono',consolas,'Courier New',monospace\"><span style=\"font-weight: bold\"> Trainable params: </span><span style=\"color: #00af00; text-decoration-color: #00af00\">101,770</span> (397.54 KB)\n",
              "</pre>\n"
            ]
          },
          "metadata": {}
        },
        {
          "output_type": "display_data",
          "data": {
            "text/plain": [
              "\u001b[1m Non-trainable params: \u001b[0m\u001b[38;5;34m0\u001b[0m (0.00 B)\n"
            ],
            "text/html": [
              "<pre style=\"white-space:pre;overflow-x:auto;line-height:normal;font-family:Menlo,'DejaVu Sans Mono',consolas,'Courier New',monospace\"><span style=\"font-weight: bold\"> Non-trainable params: </span><span style=\"color: #00af00; text-decoration-color: #00af00\">0</span> (0.00 B)\n",
              "</pre>\n"
            ]
          },
          "metadata": {}
        }
      ]
    },
    {
      "cell_type": "markdown",
      "metadata": {
        "id": "9kxIIFU1cany"
      },
      "source": [
        "### 訓練模型: 透過訓練模型來學習分類資料的函數"
      ]
    },
    {
      "cell_type": "code",
      "metadata": {
        "id": "s-_oLiE0_3A2",
        "colab": {
          "base_uri": "https://localhost:8080/"
        },
        "outputId": "aa667e1e-9268-4472-b24c-225bec457b24"
      },
      "source": [
        "training_history = model.fit(X_train, y_train,\n",
        "                             batch_size=32,\n",
        "                             epochs=5,\n",
        "                             validation_data=(X_test, y_test)\n",
        "                             )"
      ],
      "execution_count": null,
      "outputs": [
        {
          "output_type": "stream",
          "name": "stdout",
          "text": [
            "Epoch 1/5\n",
            "\u001b[1m1875/1875\u001b[0m \u001b[32m━━━━━━━━━━━━━━━━━━━━\u001b[0m\u001b[37m\u001b[0m \u001b[1m7s\u001b[0m 3ms/step - categorical_accuracy: 0.5356 - loss: 1.8293 - val_categorical_accuracy: 0.8282 - val_loss: 0.8629\n",
            "Epoch 2/5\n",
            "\u001b[1m1875/1875\u001b[0m \u001b[32m━━━━━━━━━━━━━━━━━━━━\u001b[0m\u001b[37m\u001b[0m \u001b[1m8s\u001b[0m 2ms/step - categorical_accuracy: 0.8379 - loss: 0.7785 - val_categorical_accuracy: 0.8723 - val_loss: 0.5619\n",
            "Epoch 3/5\n",
            "\u001b[1m1875/1875\u001b[0m \u001b[32m━━━━━━━━━━━━━━━━━━━━\u001b[0m\u001b[37m\u001b[0m \u001b[1m5s\u001b[0m 2ms/step - categorical_accuracy: 0.8700 - loss: 0.5503 - val_categorical_accuracy: 0.8868 - val_loss: 0.4570\n",
            "Epoch 4/5\n",
            "\u001b[1m1875/1875\u001b[0m \u001b[32m━━━━━━━━━━━━━━━━━━━━\u001b[0m\u001b[37m\u001b[0m \u001b[1m4s\u001b[0m 2ms/step - categorical_accuracy: 0.8827 - loss: 0.4630 - val_categorical_accuracy: 0.8946 - val_loss: 0.4046\n",
            "Epoch 5/5\n",
            "\u001b[1m1875/1875\u001b[0m \u001b[32m━━━━━━━━━━━━━━━━━━━━\u001b[0m\u001b[37m\u001b[0m \u001b[1m5s\u001b[0m 3ms/step - categorical_accuracy: 0.8911 - loss: 0.4097 - val_categorical_accuracy: 0.9006 - val_loss: 0.3727\n"
          ]
        }
      ]
    },
    {
      "cell_type": "markdown",
      "metadata": {
        "id": "mj23nxmtcrhd"
      },
      "source": [
        "## 4: 模型評估"
      ]
    },
    {
      "cell_type": "markdown",
      "metadata": {
        "id": "d0pWnbQ6m55-"
      },
      "source": [
        "一個模型的建立、訓練是否洽當，可在訓練當下及訓練結束後兩個階段進行評估。\n",
        "\n",
        "1. 訓練中：觀察損失函數的變化，並監測分類準確率來決定是否中止訓練。\n",
        "\n",
        "2. 訓練後：，觀察模型在測試資料 (testing data) 上的表現，以評估模型設計及訓練過程是否有可以調整的空間。\n",
        "\n",
        "一般而言，我們可以考慮調整的超參數 (hyper parameter) 有下列這些:\n",
        "- 隱藏層的數量\n",
        "- 每個隱藏層的神經元數量\n",
        "- 優化器 (optimizer)\n",
        "- 學習速率 (learning rate)\n",
        "- 損失函數\n",
        "- 批次數量 (batch size)\n",
        "- 訓練次數 (epochs)"
      ]
    },
    {
      "cell_type": "markdown",
      "metadata": {
        "id": "ElRK_pSrNXFh"
      },
      "source": [
        "### 畫出訓練過程"
      ]
    },
    {
      "cell_type": "markdown",
      "metadata": {
        "id": "mB9uSCIqNc7u"
      },
      "source": [
        "`training_history.history` 是一個字典類別 (dict type) 的物件。\n",
        "\n",
        "這個字典物件紀錄訓練時的各種指標，包含損失函數 (loss) 的變化及分類準確率 (accuracy)。\n",
        "\n",
        "此外，若有指定 `validation_data` 或是 `validation_ratio`，則此處也會包含驗證資料在訓練時的各種指標變化。"
      ]
    },
    {
      "cell_type": "code",
      "metadata": {
        "id": "IT9V9iPHs8Va",
        "colab": {
          "base_uri": "https://localhost:8080/"
        },
        "outputId": "7b2f7203-721f-4e73-a95d-912de65fc977"
      },
      "source": [
        "training_history.history.keys()"
      ],
      "execution_count": null,
      "outputs": [
        {
          "output_type": "execute_result",
          "data": {
            "text/plain": [
              "dict_keys(['categorical_accuracy', 'loss', 'val_categorical_accuracy', 'val_loss'])"
            ]
          },
          "metadata": {},
          "execution_count": 88
        }
      ]
    },
    {
      "cell_type": "code",
      "metadata": {
        "id": "kaJTVX33r37Y",
        "outputId": "4ca89a4e-63e4-460f-aa87-acdd891e89eb",
        "colab": {
          "base_uri": "https://localhost:8080/",
          "height": 468
        }
      },
      "source": [
        "plt.figure(figsize=(10, 5))\n",
        "plt.subplot(1, 2, 1)\n",
        "plt.plot(training_history.history['loss'])\n",
        "plt.plot(training_history.history['val_loss'])\n",
        "plt.legend(['Train', 'Validation'])\n",
        "plt.title(\"Loss\")\n",
        "\n",
        "plt.subplot(1, 2, 2)\n",
        "plt.plot(training_history.history['categorical_accuracy'])\n",
        "plt.plot(training_history.history['val_categorical_accuracy'])\n",
        "plt.legend(['Train', 'Validation'])\n",
        "plt.title(\"Accuracy\");"
      ],
      "execution_count": null,
      "outputs": [
        {
          "output_type": "display_data",
          "data": {
            "text/plain": [
              "<Figure size 1000x500 with 2 Axes>"
            ],
            "image/png": "[encoded data removed]"
          },
          "metadata": {}
        }
      ]
    },
    {
      "cell_type": "code",
      "metadata": {
        "id": "-nQCioOmAL7i",
        "colab": {
          "base_uri": "https://localhost:8080/"
        },
        "outputId": "a06a1233-17d0-499a-b526-2d2371c512cd"
      },
      "source": [
        "test_loss, test_accuracy = model.evaluate(X_test, y_test)"
      ],
      "execution_count": null,
      "outputs": [
        {
          "output_type": "stream",
          "name": "stdout",
          "text": [
            "\u001b[1m313/313\u001b[0m \u001b[32m━━━━━━━━━━━━━━━━━━━━\u001b[0m\u001b[37m\u001b[0m \u001b[1m1s\u001b[0m 3ms/step - categorical_accuracy: 0.8843 - loss: 0.4231\n"
          ]
        }
      ]
    },
    {
      "cell_type": "code",
      "metadata": {
        "id": "Ozv2YVlxcx1h",
        "colab": {
          "base_uri": "https://localhost:8080/"
        },
        "outputId": "5ee4bdba-f4be-4a65-9c49-2dcf4bf0c5fa"
      },
      "source": [
        "print(\"測試資料 loss: %f\" %test_loss)\n",
        "print(\"測試資料準確率: %f\" %test_accuracy)"
      ],
      "execution_count": null,
      "outputs": [
        {
          "output_type": "stream",
          "name": "stdout",
          "text": [
            "測試資料 loss: 0.372692\n",
            "測試資料準確率: 0.900600\n"
          ]
        }
      ]
    },
    {
      "cell_type": "markdown",
      "metadata": {
        "id": "12eeMryaw-9g"
      },
      "source": [
        "### 苗頭不對就閃人 - 早停法 (Early Stopping)\n",
        "模型的訓練可以設置監控，監控的目的在於，當所監控的數值沒有隨著訓練穩定上升 (如:準確率) 或下降 (如:損失) 時，可以自動停止訓練，並讓使用者重新設定各種參數以重新訓練。\n",
        "\n",
        "設置監控的方法很簡單，只需在模型訓練時，在 `.fit` 中的 `callbacks` 加入 `EarlyStoping` 函式即可。\n",
        "\n",
        "更多關於好用的 Callbacks 函式，請參照: https://keras.io/callbacks/"
      ]
    },
    {
      "cell_type": "code",
      "metadata": {
        "id": "PE4K0ff1x2wM",
        "colab": {
          "base_uri": "https://localhost:8080/"
        },
        "outputId": "8bb2c293-b070-4fe3-fb0e-58e5e14a59d5"
      },
      "source": [
        "training_history = model.fit(X_train, y_train,\n",
        "                             batch_size=32,\n",
        "                             epochs=30,\n",
        "                             validation_data=(X_test, y_test),\n",
        "                             callbacks=[EarlyStopping(monitor='val_loss', mode='auto', patience=3)]\n",
        "                             )"
      ],
      "execution_count": null,
      "outputs": [
        {
          "output_type": "stream",
          "name": "stdout",
          "text": [
            "Epoch 1/30\n",
            "\u001b[1m1875/1875\u001b[0m \u001b[32m━━━━━━━━━━━━━━━━━━━━\u001b[0m\u001b[37m\u001b[0m \u001b[1m5s\u001b[0m 3ms/step - categorical_accuracy: 0.8956 - loss: 0.3848 - val_categorical_accuracy: 0.9048 - val_loss: 0.3521\n",
            "Epoch 2/30\n",
            "\u001b[1m1875/1875\u001b[0m \u001b[32m━━━━━━━━━━━━━━━━━━━━\u001b[0m\u001b[37m\u001b[0m \u001b[1m4s\u001b[0m 2ms/step - categorical_accuracy: 0.8987 - loss: 0.3688 - val_categorical_accuracy: 0.9066 - val_loss: 0.3366\n",
            "Epoch 3/30\n",
            "\u001b[1m1875/1875\u001b[0m \u001b[32m━━━━━━━━━━━━━━━━━━━━\u001b[0m\u001b[37m\u001b[0m \u001b[1m5s\u001b[0m 3ms/step - categorical_accuracy: 0.9029 - loss: 0.3473 - val_categorical_accuracy: 0.9095 - val_loss: 0.3252\n",
            "Epoch 4/30\n",
            "\u001b[1m1875/1875\u001b[0m \u001b[32m━━━━━━━━━━━━━━━━━━━━\u001b[0m\u001b[37m\u001b[0m \u001b[1m5s\u001b[0m 2ms/step - categorical_accuracy: 0.9023 - loss: 0.3433 - val_categorical_accuracy: 0.9125 - val_loss: 0.3156\n",
            "Epoch 5/30\n",
            "\u001b[1m1875/1875\u001b[0m \u001b[32m━━━━━━━━━━━━━━━━━━━━\u001b[0m\u001b[37m\u001b[0m \u001b[1m4s\u001b[0m 2ms/step - categorical_accuracy: 0.9042 - loss: 0.3299 - val_categorical_accuracy: 0.9136 - val_loss: 0.3069\n",
            "Epoch 6/30\n",
            "\u001b[1m1875/1875\u001b[0m \u001b[32m━━━━━━━━━━━━━━━━━━━━\u001b[0m\u001b[37m\u001b[0m \u001b[1m5s\u001b[0m 3ms/step - categorical_accuracy: 0.9094 - loss: 0.3192 - val_categorical_accuracy: 0.9155 - val_loss: 0.3012\n",
            "Epoch 7/30\n",
            "\u001b[1m1875/1875\u001b[0m \u001b[32m━━━━━━━━━━━━━━━━━━━━\u001b[0m\u001b[37m\u001b[0m \u001b[1m5s\u001b[0m 2ms/step - categorical_accuracy: 0.9107 - loss: 0.3112 - val_categorical_accuracy: 0.9168 - val_loss: 0.2946\n",
            "Epoch 8/30\n",
            "\u001b[1m1875/1875\u001b[0m \u001b[32m━━━━━━━━━━━━━━━━━━━━\u001b[0m\u001b[37m\u001b[0m \u001b[1m5s\u001b[0m 3ms/step - categorical_accuracy: 0.9144 - loss: 0.3003 - val_categorical_accuracy: 0.9179 - val_loss: 0.2896\n",
            "Epoch 9/30\n",
            "\u001b[1m1875/1875\u001b[0m \u001b[32m━━━━━━━━━━━━━━━━━━━━\u001b[0m\u001b[37m\u001b[0m \u001b[1m6s\u001b[0m 3ms/step - categorical_accuracy: 0.9134 - loss: 0.3027 - val_categorical_accuracy: 0.9206 - val_loss: 0.2852\n",
            "Epoch 10/30\n",
            "\u001b[1m1875/1875\u001b[0m \u001b[32m━━━━━━━━━━━━━━━━━━━━\u001b[0m\u001b[37m\u001b[0m \u001b[1m5s\u001b[0m 3ms/step - categorical_accuracy: 0.9166 - loss: 0.2957 - val_categorical_accuracy: 0.9213 - val_loss: 0.2804\n",
            "Epoch 11/30\n",
            "\u001b[1m1875/1875\u001b[0m \u001b[32m━━━━━━━━━━━━━━━━━━━━\u001b[0m\u001b[37m\u001b[0m \u001b[1m5s\u001b[0m 3ms/step - categorical_accuracy: 0.9173 - loss: 0.2861 - val_categorical_accuracy: 0.9210 - val_loss: 0.2770\n",
            "Epoch 12/30\n",
            "\u001b[1m1875/1875\u001b[0m \u001b[32m━━━━━━━━━━━━━━━━━━━━\u001b[0m\u001b[37m\u001b[0m \u001b[1m4s\u001b[0m 2ms/step - categorical_accuracy: 0.9193 - loss: 0.2794 - val_categorical_accuracy: 0.9226 - val_loss: 0.2726\n",
            "Epoch 13/30\n",
            "\u001b[1m1875/1875\u001b[0m \u001b[32m━━━━━━━━━━━━━━━━━━━━\u001b[0m\u001b[37m\u001b[0m \u001b[1m5s\u001b[0m 3ms/step - categorical_accuracy: 0.9209 - loss: 0.2790 - val_categorical_accuracy: 0.9235 - val_loss: 0.2693\n",
            "Epoch 14/30\n",
            "\u001b[1m1875/1875\u001b[0m \u001b[32m━━━━━━━━━━━━━━━━━━━━\u001b[0m\u001b[37m\u001b[0m \u001b[1m5s\u001b[0m 3ms/step - categorical_accuracy: 0.9220 - loss: 0.2728 - val_categorical_accuracy: 0.9252 - val_loss: 0.2649\n",
            "Epoch 15/30\n",
            "\u001b[1m1875/1875\u001b[0m \u001b[32m━━━━━━━━━━━━━━━━━━━━\u001b[0m\u001b[37m\u001b[0m \u001b[1m4s\u001b[0m 2ms/step - categorical_accuracy: 0.9219 - loss: 0.2699 - val_categorical_accuracy: 0.9261 - val_loss: 0.2626\n",
            "Epoch 16/30\n",
            "\u001b[1m1875/1875\u001b[0m \u001b[32m━━━━━━━━━━━━━━━━━━━━\u001b[0m\u001b[37m\u001b[0m \u001b[1m5s\u001b[0m 3ms/step - categorical_accuracy: 0.9243 - loss: 0.2634 - val_categorical_accuracy: 0.9264 - val_loss: 0.2585\n",
            "Epoch 17/30\n",
            "\u001b[1m1875/1875\u001b[0m \u001b[32m━━━━━━━━━━━━━━━━━━━━\u001b[0m\u001b[37m\u001b[0m \u001b[1m4s\u001b[0m 2ms/step - categorical_accuracy: 0.9247 - loss: 0.2659 - val_categorical_accuracy: 0.9272 - val_loss: 0.2555\n",
            "Epoch 18/30\n",
            "\u001b[1m1875/1875\u001b[0m \u001b[32m━━━━━━━━━━━━━━━━━━━━\u001b[0m\u001b[37m\u001b[0m \u001b[1m4s\u001b[0m 2ms/step - categorical_accuracy: 0.9247 - loss: 0.2637 - val_categorical_accuracy: 0.9279 - val_loss: 0.2531\n",
            "Epoch 19/30\n",
            "\u001b[1m1875/1875\u001b[0m \u001b[32m━━━━━━━━━━━━━━━━━━━━\u001b[0m\u001b[37m\u001b[0m \u001b[1m5s\u001b[0m 3ms/step - categorical_accuracy: 0.9263 - loss: 0.2549 - val_categorical_accuracy: 0.9291 - val_loss: 0.2495\n",
            "Epoch 20/30\n",
            "\u001b[1m1875/1875\u001b[0m \u001b[32m━━━━━━━━━━━━━━━━━━━━\u001b[0m\u001b[37m\u001b[0m \u001b[1m4s\u001b[0m 2ms/step - categorical_accuracy: 0.9269 - loss: 0.2515 - val_categorical_accuracy: 0.9303 - val_loss: 0.2462\n",
            "Epoch 21/30\n",
            "\u001b[1m1875/1875\u001b[0m \u001b[32m━━━━━━━━━━━━━━━━━━━━\u001b[0m\u001b[37m\u001b[0m \u001b[1m5s\u001b[0m 3ms/step - categorical_accuracy: 0.9275 - loss: 0.2525 - val_categorical_accuracy: 0.9299 - val_loss: 0.2437\n",
            "Epoch 22/30\n",
            "\u001b[1m1875/1875\u001b[0m \u001b[32m━━━━━━━━━━━━━━━━━━━━\u001b[0m\u001b[37m\u001b[0m \u001b[1m4s\u001b[0m 2ms/step - categorical_accuracy: 0.9309 - loss: 0.2459 - val_categorical_accuracy: 0.9312 - val_loss: 0.2417\n",
            "Epoch 23/30\n",
            "\u001b[1m1875/1875\u001b[0m \u001b[32m━━━━━━━━━━━━━━━━━━━━\u001b[0m\u001b[37m\u001b[0m \u001b[1m4s\u001b[0m 2ms/step - categorical_accuracy: 0.9294 - loss: 0.2451 - val_categorical_accuracy: 0.9326 - val_loss: 0.2381\n",
            "Epoch 24/30\n",
            "\u001b[1m1875/1875\u001b[0m \u001b[32m━━━━━━━━━━━━━━━━━━━━\u001b[0m\u001b[37m\u001b[0m \u001b[1m6s\u001b[0m 3ms/step - categorical_accuracy: 0.9312 - loss: 0.2428 - val_categorical_accuracy: 0.9330 - val_loss: 0.2353\n",
            "Epoch 25/30\n",
            "\u001b[1m1875/1875\u001b[0m \u001b[32m━━━━━━━━━━━━━━━━━━━━\u001b[0m\u001b[37m\u001b[0m \u001b[1m4s\u001b[0m 2ms/step - categorical_accuracy: 0.9316 - loss: 0.2373 - val_categorical_accuracy: 0.9344 - val_loss: 0.2328\n",
            "Epoch 26/30\n",
            "\u001b[1m1875/1875\u001b[0m \u001b[32m━━━━━━━━━━━━━━━━━━━━\u001b[0m\u001b[37m\u001b[0m \u001b[1m5s\u001b[0m 3ms/step - categorical_accuracy: 0.9330 - loss: 0.2359 - val_categorical_accuracy: 0.9348 - val_loss: 0.2303\n",
            "Epoch 27/30\n",
            "\u001b[1m1875/1875\u001b[0m \u001b[32m━━━━━━━━━━━━━━━━━━━━\u001b[0m\u001b[37m\u001b[0m \u001b[1m4s\u001b[0m 2ms/step - categorical_accuracy: 0.9333 - loss: 0.2337 - val_categorical_accuracy: 0.9358 - val_loss: 0.2272\n",
            "Epoch 28/30\n",
            "\u001b[1m1875/1875\u001b[0m \u001b[32m━━━━━━━━━━━━━━━━━━━━\u001b[0m\u001b[37m\u001b[0m \u001b[1m4s\u001b[0m 2ms/step - categorical_accuracy: 0.9354 - loss: 0.2269 - val_categorical_accuracy: 0.9356 - val_loss: 0.2256\n",
            "Epoch 29/30\n",
            "\u001b[1m1875/1875\u001b[0m \u001b[32m━━━━━━━━━━━━━━━━━━━━\u001b[0m\u001b[37m\u001b[0m \u001b[1m5s\u001b[0m 3ms/step - categorical_accuracy: 0.9347 - loss: 0.2263 - val_categorical_accuracy: 0.9369 - val_loss: 0.2222\n",
            "Epoch 30/30\n",
            "\u001b[1m1875/1875\u001b[0m \u001b[32m━━━━━━━━━━━━━━━━━━━━\u001b[0m\u001b[37m\u001b[0m \u001b[1m4s\u001b[0m 2ms/step - categorical_accuracy: 0.9373 - loss: 0.2225 - val_categorical_accuracy: 0.9376 - val_loss: 0.2196\n"
          ]
        }
      ]
    },
    {
      "cell_type": "markdown",
      "metadata": {
        "id": "z6mofqax8QGR"
      },
      "source": [
        "## 5: 模型的儲存與載入\n",
        "\n",
        "模型的存取有兩種方式，一種則不儲存模型架構，**僅**儲存權重，另一種是把模型架構與權重儲存下來。\n",
        "\n",
        "**僅**儲存權重可以節省模型儲存檔的大小，但在載入時，必須要先建立同樣架構的模型，再載入模型權重。\n",
        "\n",
        "儲存模型架構與權重的方法，則在讀取儲存檔時，會建立模型並同時載入權重。\n",
        "\n",
        "我們將示範兩種不同的模型存取方式。"
      ]
    },
    {
      "cell_type": "code",
      "metadata": {
        "id": "QJOQ6EefEblL"
      },
      "source": [
        "from tensorflow.keras.models import load_model"
      ],
      "execution_count": null,
      "outputs": []
    },
    {
      "cell_type": "markdown",
      "metadata": {
        "id": "vJzOGxpT9Ryr"
      },
      "source": [
        "### 方法一：僅儲存模型權重\n",
        "\n",
        "我們可以透過 `.save_weights` 及 `.load_weights` 來進行模型(權重)的存取"
      ]
    },
    {
      "cell_type": "markdown",
      "source": [
        "首先，我們先建立一個用於儲存模型的資料夾"
      ],
      "metadata": {
        "id": "yUb1uYz6bs69"
      }
    },
    {
      "cell_type": "code",
      "source": [
        "!mkdir models"
      ],
      "metadata": {
        "id": "4qQYU3Ykbx3Y"
      },
      "execution_count": null,
      "outputs": []
    },
    {
      "cell_type": "markdown",
      "source": [
        "如此一來，我們就能將模型存在這個資料夾 ``models`` 底下"
      ],
      "metadata": {
        "id": "9vBt_CcSb0id"
      }
    },
    {
      "cell_type": "code",
      "metadata": {
        "id": "jrI0DTA-g2KF"
      },
      "source": [
        "model.save_weights('./models/model_weight_mnist.weights.h5')"
      ],
      "execution_count": null,
      "outputs": []
    },
    {
      "cell_type": "markdown",
      "metadata": {
        "id": "gGhyJzb79f-O"
      },
      "source": [
        "接者，我們建立兩個新模型，一個模型與我們建立的第一個模型具有相同設計，而第二個模型則考慮不同設計"
      ]
    },
    {
      "cell_type": "code",
      "metadata": {
        "id": "h5kNodI-9fNS"
      },
      "source": [
        "new_model = Sequential()\n",
        "new_model.add(Dense(units=128, activation='sigmoid', input_shape=(784,)))\n",
        "new_model.add(Dense(units=10, activation='softmax'))\n",
        "new_model.summary()"
      ],
      "execution_count": null,
      "outputs": []
    },
    {
      "cell_type": "code",
      "metadata": {
        "id": "6iIkC_QQ744y"
      },
      "source": [
        "new_model.load_weights('./models/model_weight_mnist')"
      ],
      "execution_count": null,
      "outputs": []
    },
    {
      "cell_type": "code",
      "metadata": {
        "id": "dtBwcofY765o"
      },
      "source": [
        "new_model.compile(loss='categorical_crossentropy',\n",
        "                  optimizer='SGD',\n",
        "                  metrics=['categorical_accuracy'])\n",
        "\n",
        "new_test_loss, new_test_accuracy = new_model.evaluate(X_test, y_test)\n",
        "print(\"測試資料 loss: %f\" %new_test_loss)\n",
        "print(\"測試資料準確率: %f\" %new_test_accuracy)"
      ],
      "execution_count": null,
      "outputs": []
    },
    {
      "cell_type": "code",
      "metadata": {
        "id": "xs_D0j9u7_iO"
      },
      "source": [
        "different_model = Sequential()\n",
        "different_model.add(Dense(units=64, activation='sigmoid', input_shape=(784,)))\n",
        "different_model.add(Dense(units=10, activation='softmax'))\n",
        "different_model.summary()"
      ],
      "execution_count": null,
      "outputs": []
    },
    {
      "cell_type": "code",
      "metadata": {
        "id": "xNvdgskI-Vwr"
      },
      "source": [
        "different_model.load_weights('./models/model_weight_mnist') # 會失敗，因為模型架構不同"
      ],
      "execution_count": null,
      "outputs": []
    },
    {
      "cell_type": "markdown",
      "metadata": {
        "id": "SnxMj6KL-nrI"
      },
      "source": [
        "### 方法二：儲存模型架構與權重\n",
        "\n",
        "在此，我們透過 `.save` 及 `load_model` 來進行模型(權重)的存取"
      ]
    },
    {
      "cell_type": "code",
      "metadata": {
        "id": "NZDcBc4r-ms-"
      },
      "source": [
        "model.save('./models/model_mnist.h5')"
      ],
      "execution_count": null,
      "outputs": []
    },
    {
      "cell_type": "code",
      "metadata": {
        "id": "c6-2RhAn-m3m"
      },
      "source": [
        "new_model = load_model('./models/model_mnist.h5')"
      ],
      "execution_count": null,
      "outputs": []
    },
    {
      "cell_type": "code",
      "metadata": {
        "id": "8lTnLSMi_fgq"
      },
      "source": [
        "new_model.summary()"
      ],
      "execution_count": null,
      "outputs": []
    },
    {
      "cell_type": "code",
      "metadata": {
        "id": "li_UPWWP_gPu"
      },
      "source": [
        "new_model.compile(loss='categorical_crossentropy',\n",
        "                  optimizer='SGD',\n",
        "                  metrics=['categorical_accuracy'])\n",
        "\n",
        "new_test_loss, new_test_accuracy = new_model.evaluate(X_test, y_test)\n",
        "print(\"測試資料 loss: %f\" %new_test_loss)\n",
        "print(\"測試資料準確率: %f\" %new_test_accuracy)"
      ],
      "execution_count": null,
      "outputs": []
    },
    {
      "cell_type": "markdown",
      "metadata": {
        "id": "pXf5nHx6hdwM"
      },
      "source": [
        "## 6: 視覺化預測結果\n",
        "\n",
        "在這部分，我們提供簡單的視覺化方法來呈現神經網路的輸入與輸出結果"
      ]
    },
    {
      "cell_type": "code",
      "metadata": {
        "id": "l9jVjwXxEedt"
      },
      "source": [
        "from ipywidgets import interact, BoundedIntText"
      ],
      "execution_count": null,
      "outputs": []
    },
    {
      "cell_type": "code",
      "source": [
        "X_test[1]"
      ],
      "metadata": {
        "colab": {
          "base_uri": "https://localhost:8080/"
        },
        "id": "KJUSuKDIskxF",
        "outputId": "6d1549e7-5c2d-42bc-a9b2-b1801e42693d"
      },
      "execution_count": null,
      "outputs": [
        {
          "output_type": "execute_result",
          "data": {
            "text/plain": [
              "array([0.        , 0.        , 0.        , 0.        , 0.        ,\n",
              "       0.        , 0.        , 0.        , 0.        , 0.        ,\n",
              "       0.        , 0.        , 0.        , 0.        , 0.        ,\n",
              "       0.        , 0.        , 0.        , 0.        , 0.        ,\n",
              "       0.        , 0.        , 0.        , 0.        , 0.        ,\n",
              "       0.        , 0.        , 0.        , 0.        , 0.        ,\n",
              "       0.        , 0.        , 0.        , 0.        , 0.        ,\n",
              "       0.        , 0.        , 0.        , 0.        , 0.        ,\n",
              "       0.        , 0.        , 0.        , 0.        , 0.        ,\n",
              "       0.        , 0.        , 0.        , 0.        , 0.        ,\n",
              "       0.        , 0.        , 0.        , 0.        , 0.        ,\n",
              "       0.        , 0.        , 0.        , 0.        , 0.        ,\n",
              "       0.        , 0.        , 0.        , 0.        , 0.        ,\n",
              "       0.        , 0.        , 0.        , 0.        , 0.        ,\n",
              "       0.        , 0.        , 0.        , 0.        , 0.        ,\n",
              "       0.        , 0.        , 0.        , 0.        , 0.        ,\n",
              "       0.        , 0.        , 0.        , 0.        , 0.        ,\n",
              "       0.        , 0.        , 0.        , 0.        , 0.        ,\n",
              "       0.        , 0.        , 0.        , 0.        , 0.45490196,\n",
              "       0.49019608, 0.67058824, 1.        , 1.        , 0.58823529,\n",
              "       0.36470588, 0.        , 0.        , 0.        , 0.        ,\n",
              "       0.        , 0.        , 0.        , 0.        , 0.        ,\n",
              "       0.        , 0.        , 0.        , 0.        , 0.        ,\n",
              "       0.        , 0.        , 0.        , 0.        , 0.        ,\n",
              "       0.        , 0.6627451 , 0.99215686, 0.99215686, 0.99215686,\n",
              "       0.99215686, 0.99215686, 0.99215686, 0.85490196, 0.11764706,\n",
              "       0.        , 0.        , 0.        , 0.        , 0.        ,\n",
              "       0.        , 0.        , 0.        , 0.        , 0.        ,\n",
              "       0.        , 0.        , 0.        , 0.        , 0.        ,\n",
              "       0.        , 0.        , 0.        , 0.6627451 , 0.99215686,\n",
              "       0.99215686, 0.99215686, 0.83529412, 0.55686275, 0.69019608,\n",
              "       0.99215686, 0.99215686, 0.47843137, 0.        , 0.        ,\n",
              "       0.        , 0.        , 0.        , 0.        , 0.        ,\n",
              "       0.        , 0.        , 0.        , 0.        , 0.        ,\n",
              "       0.        , 0.        , 0.        , 0.        , 0.        ,\n",
              "       0.20392157, 0.98039216, 0.99215686, 0.82352941, 0.1254902 ,\n",
              "       0.04705882, 0.        , 0.02352941, 0.80784314, 0.99215686,\n",
              "       0.54901961, 0.        , 0.        , 0.        , 0.        ,\n",
              "       0.        , 0.        , 0.        , 0.        , 0.        ,\n",
              "       0.        , 0.        , 0.        , 0.        , 0.        ,\n",
              "       0.        , 0.        , 0.        , 0.30196078, 0.98431373,\n",
              "       0.82352941, 0.09803922, 0.        , 0.        , 0.        ,\n",
              "       0.47843137, 0.97254902, 0.99215686, 0.25490196, 0.        ,\n",
              "       0.        , 0.        , 0.        , 0.        , 0.        ,\n",
              "       0.        , 0.        , 0.        , 0.        , 0.        ,\n",
              "       0.        , 0.        , 0.        , 0.        , 0.        ,\n",
              "       0.        , 0.        , 0.12156863, 0.07058824, 0.        ,\n",
              "       0.        , 0.        , 0.        , 0.81960784, 0.99215686,\n",
              "       0.99215686, 0.25490196, 0.        , 0.        , 0.        ,\n",
              "       0.        , 0.        , 0.        , 0.        , 0.        ,\n",
              "       0.        , 0.        , 0.        , 0.        , 0.        ,\n",
              "       0.        , 0.        , 0.        , 0.        , 0.        ,\n",
              "       0.        , 0.        , 0.        , 0.        , 0.        ,\n",
              "       0.45882353, 0.96862745, 0.99215686, 0.77647059, 0.03921569,\n",
              "       0.        , 0.        , 0.        , 0.        , 0.        ,\n",
              "       0.        , 0.        , 0.        , 0.        , 0.        ,\n",
              "       0.        , 0.        , 0.        , 0.        , 0.        ,\n",
              "       0.        , 0.        , 0.        , 0.        , 0.        ,\n",
              "       0.        , 0.        , 0.29803922, 0.96862745, 0.99215686,\n",
              "       0.90588235, 0.24705882, 0.        , 0.        , 0.        ,\n",
              "       0.        , 0.        , 0.        , 0.        , 0.        ,\n",
              "       0.        , 0.        , 0.        , 0.        , 0.        ,\n",
              "       0.        , 0.        , 0.        , 0.        , 0.        ,\n",
              "       0.        , 0.        , 0.        , 0.        , 0.        ,\n",
              "       0.50196078, 0.99215686, 0.99215686, 0.56470588, 0.        ,\n",
              "       0.        , 0.        , 0.        , 0.        , 0.        ,\n",
              "       0.        , 0.        , 0.        , 0.        , 0.        ,\n",
              "       0.        , 0.        , 0.        , 0.        , 0.        ,\n",
              "       0.        , 0.        , 0.        , 0.        , 0.        ,\n",
              "       0.        , 0.        , 0.69019608, 0.96470588, 0.99215686,\n",
              "       0.62352941, 0.04705882, 0.        , 0.        , 0.        ,\n",
              "       0.        , 0.        , 0.        , 0.        , 0.        ,\n",
              "       0.        , 0.        , 0.        , 0.        , 0.        ,\n",
              "       0.        , 0.        , 0.        , 0.        , 0.        ,\n",
              "       0.        , 0.        , 0.        , 0.        , 0.09803922,\n",
              "       0.91764706, 0.99215686, 0.91372549, 0.1372549 , 0.        ,\n",
              "       0.        , 0.        , 0.        , 0.        , 0.        ,\n",
              "       0.        , 0.        , 0.        , 0.        , 0.        ,\n",
              "       0.        , 0.        , 0.        , 0.        , 0.        ,\n",
              "       0.        , 0.        , 0.        , 0.        , 0.        ,\n",
              "       0.        , 0.        , 0.77647059, 0.99215686, 0.99215686,\n",
              "       0.55294118, 0.        , 0.        , 0.        , 0.        ,\n",
              "       0.        , 0.        , 0.        , 0.        , 0.        ,\n",
              "       0.        , 0.        , 0.        , 0.        , 0.        ,\n",
              "       0.        , 0.        , 0.        , 0.        , 0.        ,\n",
              "       0.        , 0.        , 0.        , 0.        , 0.30588235,\n",
              "       0.97254902, 0.99215686, 0.74117647, 0.04705882, 0.        ,\n",
              "       0.        , 0.        , 0.        , 0.        , 0.        ,\n",
              "       0.        , 0.        , 0.        , 0.        , 0.        ,\n",
              "       0.        , 0.        , 0.        , 0.        , 0.        ,\n",
              "       0.        , 0.        , 0.        , 0.        , 0.        ,\n",
              "       0.        , 0.0745098 , 0.78431373, 0.99215686, 0.99215686,\n",
              "       0.55294118, 0.        , 0.        , 0.        , 0.        ,\n",
              "       0.        , 0.        , 0.        , 0.        , 0.        ,\n",
              "       0.        , 0.        , 0.        , 0.        , 0.        ,\n",
              "       0.        , 0.        , 0.        , 0.        , 0.        ,\n",
              "       0.        , 0.        , 0.        , 0.        , 0.5254902 ,\n",
              "       0.99215686, 0.99215686, 0.67843137, 0.04705882, 0.        ,\n",
              "       0.        , 0.        , 0.        , 0.        , 0.        ,\n",
              "       0.        , 0.        , 0.        , 0.        , 0.        ,\n",
              "       0.        , 0.        , 0.        , 0.        , 0.        ,\n",
              "       0.        , 0.        , 0.        , 0.        , 0.        ,\n",
              "       0.        , 0.        , 0.97254902, 0.99215686, 0.99215686,\n",
              "       0.09803922, 0.        , 0.        , 0.        , 0.        ,\n",
              "       0.        , 0.        , 0.        , 0.        , 0.        ,\n",
              "       0.        , 0.        , 0.        , 0.        , 0.        ,\n",
              "       0.        , 0.        , 0.        , 0.        , 0.        ,\n",
              "       0.        , 0.        , 0.        , 0.        , 0.        ,\n",
              "       0.97254902, 0.99215686, 0.99215686, 0.16862745, 0.07843137,\n",
              "       0.07843137, 0.07843137, 0.07843137, 0.01960784, 0.        ,\n",
              "       0.01960784, 0.07843137, 0.07843137, 0.14509804, 0.58823529,\n",
              "       0.58823529, 0.58823529, 0.57647059, 0.03921569, 0.        ,\n",
              "       0.        , 0.        , 0.        , 0.        , 0.        ,\n",
              "       0.        , 0.        , 0.        , 0.97254902, 0.99215686,\n",
              "       0.99215686, 0.99215686, 0.99215686, 0.99215686, 0.99215686,\n",
              "       0.99215686, 0.65882353, 0.56078431, 0.65098039, 0.99215686,\n",
              "       0.99215686, 0.99215686, 0.99215686, 0.99215686, 0.99215686,\n",
              "       0.99215686, 0.48235294, 0.        , 0.        , 0.        ,\n",
              "       0.        , 0.        , 0.        , 0.        , 0.        ,\n",
              "       0.        , 0.68235294, 0.99215686, 0.99215686, 0.99215686,\n",
              "       0.99215686, 0.99215686, 0.99215686, 0.99215686, 0.99215686,\n",
              "       0.99215686, 0.99215686, 0.99215686, 0.97647059, 0.96862745,\n",
              "       0.96862745, 0.6627451 , 0.45882353, 0.45882353, 0.22352941,\n",
              "       0.        , 0.        , 0.        , 0.        , 0.        ,\n",
              "       0.        , 0.        , 0.        , 0.        , 0.        ,\n",
              "       0.4627451 , 0.48235294, 0.48235294, 0.48235294, 0.65098039,\n",
              "       0.99215686, 0.99215686, 0.99215686, 0.60784314, 0.48235294,\n",
              "       0.48235294, 0.16078431, 0.        , 0.        , 0.        ,\n",
              "       0.        , 0.        , 0.        , 0.        , 0.        ,\n",
              "       0.        , 0.        , 0.        , 0.        , 0.        ,\n",
              "       0.        , 0.        , 0.        , 0.        , 0.        ,\n",
              "       0.        , 0.        , 0.        , 0.        , 0.        ,\n",
              "       0.        , 0.        , 0.        , 0.        , 0.        ,\n",
              "       0.        , 0.        , 0.        , 0.        , 0.        ,\n",
              "       0.        , 0.        , 0.        , 0.        , 0.        ,\n",
              "       0.        , 0.        , 0.        , 0.        , 0.        ,\n",
              "       0.        , 0.        , 0.        , 0.        , 0.        ,\n",
              "       0.        , 0.        , 0.        , 0.        , 0.        ,\n",
              "       0.        , 0.        , 0.        , 0.        , 0.        ,\n",
              "       0.        , 0.        , 0.        , 0.        , 0.        ,\n",
              "       0.        , 0.        , 0.        , 0.        , 0.        ,\n",
              "       0.        , 0.        , 0.        , 0.        , 0.        ,\n",
              "       0.        , 0.        , 0.        , 0.        , 0.        ,\n",
              "       0.        , 0.        , 0.        , 0.        , 0.        ,\n",
              "       0.        , 0.        , 0.        , 0.        , 0.        ,\n",
              "       0.        , 0.        , 0.        , 0.        , 0.        ,\n",
              "       0.        , 0.        , 0.        , 0.        , 0.        ,\n",
              "       0.        , 0.        , 0.        , 0.        , 0.        ,\n",
              "       0.        , 0.        , 0.        , 0.        , 0.        ,\n",
              "       0.        , 0.        , 0.        , 0.        , 0.        ,\n",
              "       0.        , 0.        , 0.        , 0.        , 0.        ,\n",
              "       0.        , 0.        , 0.        , 0.        , 0.        ,\n",
              "       0.        , 0.        , 0.        , 0.        , 0.        ,\n",
              "       0.        , 0.        , 0.        , 0.        , 0.        ,\n",
              "       0.        , 0.        , 0.        , 0.        , 0.        ,\n",
              "       0.        , 0.        , 0.        , 0.        , 0.        ,\n",
              "       0.        , 0.        , 0.        , 0.        ])"
            ]
          },
          "metadata": {},
          "execution_count": 84
        }
      ]
    },
    {
      "cell_type": "code",
      "source": [
        "X_test[1:2]"
      ],
      "metadata": {
        "colab": {
          "base_uri": "https://localhost:8080/"
        },
        "collapsed": true,
        "id": "h_Od_jmftY3L",
        "outputId": "54bb3a11-38ed-414e-8a73-b352d4650525"
      },
      "execution_count": null,
      "outputs": [
        {
          "output_type": "execute_result",
          "data": {
            "text/plain": [
              "array([[0.        , 0.        , 0.        , 0.        , 0.        ,\n",
              "        0.        , 0.        , 0.        , 0.        , 0.        ,\n",
              "        0.        , 0.        , 0.        , 0.        , 0.        ,\n",
              "        0.        , 0.        , 0.        , 0.        , 0.        ,\n",
              "        0.        , 0.        , 0.        , 0.        , 0.        ,\n",
              "        0.        , 0.        , 0.        , 0.        , 0.        ,\n",
              "        0.        , 0.        , 0.        , 0.        , 0.        ,\n",
              "        0.        , 0.        , 0.        , 0.        , 0.        ,\n",
              "        0.        , 0.        , 0.        , 0.        , 0.        ,\n",
              "        0.        , 0.        , 0.        , 0.        , 0.        ,\n",
              "        0.        , 0.        , 0.        , 0.        , 0.        ,\n",
              "        0.        , 0.        , 0.        , 0.        , 0.        ,\n",
              "        0.        , 0.        , 0.        , 0.        , 0.        ,\n",
              "        0.        , 0.        , 0.        , 0.        , 0.        ,\n",
              "        0.        , 0.        , 0.        , 0.        , 0.        ,\n",
              "        0.        , 0.        , 0.        , 0.        , 0.        ,\n",
              "        0.        , 0.        , 0.        , 0.        , 0.        ,\n",
              "        0.        , 0.        , 0.        , 0.        , 0.        ,\n",
              "        0.        , 0.        , 0.        , 0.        , 0.45490196,\n",
              "        0.49019608, 0.67058824, 1.        , 1.        , 0.58823529,\n",
              "        0.36470588, 0.        , 0.        , 0.        , 0.        ,\n",
              "        0.        , 0.        , 0.        , 0.        , 0.        ,\n",
              "        0.        , 0.        , 0.        , 0.        , 0.        ,\n",
              "        0.        , 0.        , 0.        , 0.        , 0.        ,\n",
              "        0.        , 0.6627451 , 0.99215686, 0.99215686, 0.99215686,\n",
              "        0.99215686, 0.99215686, 0.99215686, 0.85490196, 0.11764706,\n",
              "        0.        , 0.        , 0.        , 0.        , 0.        ,\n",
              "        0.        , 0.        , 0.        , 0.        , 0.        ,\n",
              "        0.        , 0.        , 0.        , 0.        , 0.        ,\n",
              "        0.        , 0.        , 0.        , 0.6627451 , 0.99215686,\n",
              "        0.99215686, 0.99215686, 0.83529412, 0.55686275, 0.69019608,\n",
              "        0.99215686, 0.99215686, 0.47843137, 0.        , 0.        ,\n",
              "        0.        , 0.        , 0.        , 0.        , 0.        ,\n",
              "        0.        , 0.        , 0.        , 0.        , 0.        ,\n",
              "        0.        , 0.        , 0.        , 0.        , 0.        ,\n",
              "        0.20392157, 0.98039216, 0.99215686, 0.82352941, 0.1254902 ,\n",
              "        0.04705882, 0.        , 0.02352941, 0.80784314, 0.99215686,\n",
              "        0.54901961, 0.        , 0.        , 0.        , 0.        ,\n",
              "        0.        , 0.        , 0.        , 0.        , 0.        ,\n",
              "        0.        , 0.        , 0.        , 0.        , 0.        ,\n",
              "        0.        , 0.        , 0.        , 0.30196078, 0.98431373,\n",
              "        0.82352941, 0.09803922, 0.        , 0.        , 0.        ,\n",
              "        0.47843137, 0.97254902, 0.99215686, 0.25490196, 0.        ,\n",
              "        0.        , 0.        , 0.        , 0.        , 0.        ,\n",
              "        0.        , 0.        , 0.        , 0.        , 0.        ,\n",
              "        0.        , 0.        , 0.        , 0.        , 0.        ,\n",
              "        0.        , 0.        , 0.12156863, 0.07058824, 0.        ,\n",
              "        0.        , 0.        , 0.        , 0.81960784, 0.99215686,\n",
              "        0.99215686, 0.25490196, 0.        , 0.        , 0.        ,\n",
              "        0.        , 0.        , 0.        , 0.        , 0.        ,\n",
              "        0.        , 0.        , 0.        , 0.        , 0.        ,\n",
              "        0.        , 0.        , 0.        , 0.        , 0.        ,\n",
              "        0.        , 0.        , 0.        , 0.        , 0.        ,\n",
              "        0.45882353, 0.96862745, 0.99215686, 0.77647059, 0.03921569,\n",
              "        0.        , 0.        , 0.        , 0.        , 0.        ,\n",
              "        0.        , 0.        , 0.        , 0.        , 0.        ,\n",
              "        0.        , 0.        , 0.        , 0.        , 0.        ,\n",
              "        0.        , 0.        , 0.        , 0.        , 0.        ,\n",
              "        0.        , 0.        , 0.29803922, 0.96862745, 0.99215686,\n",
              "        0.90588235, 0.24705882, 0.        , 0.        , 0.        ,\n",
              "        0.        , 0.        , 0.        , 0.        , 0.        ,\n",
              "        0.        , 0.        , 0.        , 0.        , 0.        ,\n",
              "        0.        , 0.        , 0.        , 0.        , 0.        ,\n",
              "        0.        , 0.        , 0.        , 0.        , 0.        ,\n",
              "        0.50196078, 0.99215686, 0.99215686, 0.56470588, 0.        ,\n",
              "        0.        , 0.        , 0.        , 0.        , 0.        ,\n",
              "        0.        , 0.        , 0.        , 0.        , 0.        ,\n",
              "        0.        , 0.        , 0.        , 0.        , 0.        ,\n",
              "        0.        , 0.        , 0.        , 0.        , 0.        ,\n",
              "        0.        , 0.        , 0.69019608, 0.96470588, 0.99215686,\n",
              "        0.62352941, 0.04705882, 0.        , 0.        , 0.        ,\n",
              "        0.        , 0.        , 0.        , 0.        , 0.        ,\n",
              "        0.        , 0.        , 0.        , 0.        , 0.        ,\n",
              "        0.        , 0.        , 0.        , 0.        , 0.        ,\n",
              "        0.        , 0.        , 0.        , 0.        , 0.09803922,\n",
              "        0.91764706, 0.99215686, 0.91372549, 0.1372549 , 0.        ,\n",
              "        0.        , 0.        , 0.        , 0.        , 0.        ,\n",
              "        0.        , 0.        , 0.        , 0.        , 0.        ,\n",
              "        0.        , 0.        , 0.        , 0.        , 0.        ,\n",
              "        0.        , 0.        , 0.        , 0.        , 0.        ,\n",
              "        0.        , 0.        , 0.77647059, 0.99215686, 0.99215686,\n",
              "        0.55294118, 0.        , 0.        , 0.        , 0.        ,\n",
              "        0.        , 0.        , 0.        , 0.        , 0.        ,\n",
              "        0.        , 0.        , 0.        , 0.        , 0.        ,\n",
              "        0.        , 0.        , 0.        , 0.        , 0.        ,\n",
              "        0.        , 0.        , 0.        , 0.        , 0.30588235,\n",
              "        0.97254902, 0.99215686, 0.74117647, 0.04705882, 0.        ,\n",
              "        0.        , 0.        , 0.        , 0.        , 0.        ,\n",
              "        0.        , 0.        , 0.        , 0.        , 0.        ,\n",
              "        0.        , 0.        , 0.        , 0.        , 0.        ,\n",
              "        0.        , 0.        , 0.        , 0.        , 0.        ,\n",
              "        0.        , 0.0745098 , 0.78431373, 0.99215686, 0.99215686,\n",
              "        0.55294118, 0.        , 0.        , 0.        , 0.        ,\n",
              "        0.        , 0.        , 0.        , 0.        , 0.        ,\n",
              "        0.        , 0.        , 0.        , 0.        , 0.        ,\n",
              "        0.        , 0.        , 0.        , 0.        , 0.        ,\n",
              "        0.        , 0.        , 0.        , 0.        , 0.5254902 ,\n",
              "        0.99215686, 0.99215686, 0.67843137, 0.04705882, 0.        ,\n",
              "        0.        , 0.        , 0.        , 0.        , 0.        ,\n",
              "        0.        , 0.        , 0.        , 0.        , 0.        ,\n",
              "        0.        , 0.        , 0.        , 0.        , 0.        ,\n",
              "        0.        , 0.        , 0.        , 0.        , 0.        ,\n",
              "        0.        , 0.        , 0.97254902, 0.99215686, 0.99215686,\n",
              "        0.09803922, 0.        , 0.        , 0.        , 0.        ,\n",
              "        0.        , 0.        , 0.        , 0.        , 0.        ,\n",
              "        0.        , 0.        , 0.        , 0.        , 0.        ,\n",
              "        0.        , 0.        , 0.        , 0.        , 0.        ,\n",
              "        0.        , 0.        , 0.        , 0.        , 0.        ,\n",
              "        0.97254902, 0.99215686, 0.99215686, 0.16862745, 0.07843137,\n",
              "        0.07843137, 0.07843137, 0.07843137, 0.01960784, 0.        ,\n",
              "        0.01960784, 0.07843137, 0.07843137, 0.14509804, 0.58823529,\n",
              "        0.58823529, 0.58823529, 0.57647059, 0.03921569, 0.        ,\n",
              "        0.        , 0.        , 0.        , 0.        , 0.        ,\n",
              "        0.        , 0.        , 0.        , 0.97254902, 0.99215686,\n",
              "        0.99215686, 0.99215686, 0.99215686, 0.99215686, 0.99215686,\n",
              "        0.99215686, 0.65882353, 0.56078431, 0.65098039, 0.99215686,\n",
              "        0.99215686, 0.99215686, 0.99215686, 0.99215686, 0.99215686,\n",
              "        0.99215686, 0.48235294, 0.        , 0.        , 0.        ,\n",
              "        0.        , 0.        , 0.        , 0.        , 0.        ,\n",
              "        0.        , 0.68235294, 0.99215686, 0.99215686, 0.99215686,\n",
              "        0.99215686, 0.99215686, 0.99215686, 0.99215686, 0.99215686,\n",
              "        0.99215686, 0.99215686, 0.99215686, 0.97647059, 0.96862745,\n",
              "        0.96862745, 0.6627451 , 0.45882353, 0.45882353, 0.22352941,\n",
              "        0.        , 0.        , 0.        , 0.        , 0.        ,\n",
              "        0.        , 0.        , 0.        , 0.        , 0.        ,\n",
              "        0.4627451 , 0.48235294, 0.48235294, 0.48235294, 0.65098039,\n",
              "        0.99215686, 0.99215686, 0.99215686, 0.60784314, 0.48235294,\n",
              "        0.48235294, 0.16078431, 0.        , 0.        , 0.        ,\n",
              "        0.        , 0.        , 0.        , 0.        , 0.        ,\n",
              "        0.        , 0.        , 0.        , 0.        , 0.        ,\n",
              "        0.        , 0.        , 0.        , 0.        , 0.        ,\n",
              "        0.        , 0.        , 0.        , 0.        , 0.        ,\n",
              "        0.        , 0.        , 0.        , 0.        , 0.        ,\n",
              "        0.        , 0.        , 0.        , 0.        , 0.        ,\n",
              "        0.        , 0.        , 0.        , 0.        , 0.        ,\n",
              "        0.        , 0.        , 0.        , 0.        , 0.        ,\n",
              "        0.        , 0.        , 0.        , 0.        , 0.        ,\n",
              "        0.        , 0.        , 0.        , 0.        , 0.        ,\n",
              "        0.        , 0.        , 0.        , 0.        , 0.        ,\n",
              "        0.        , 0.        , 0.        , 0.        , 0.        ,\n",
              "        0.        , 0.        , 0.        , 0.        , 0.        ,\n",
              "        0.        , 0.        , 0.        , 0.        , 0.        ,\n",
              "        0.        , 0.        , 0.        , 0.        , 0.        ,\n",
              "        0.        , 0.        , 0.        , 0.        , 0.        ,\n",
              "        0.        , 0.        , 0.        , 0.        , 0.        ,\n",
              "        0.        , 0.        , 0.        , 0.        , 0.        ,\n",
              "        0.        , 0.        , 0.        , 0.        , 0.        ,\n",
              "        0.        , 0.        , 0.        , 0.        , 0.        ,\n",
              "        0.        , 0.        , 0.        , 0.        , 0.        ,\n",
              "        0.        , 0.        , 0.        , 0.        , 0.        ,\n",
              "        0.        , 0.        , 0.        , 0.        , 0.        ,\n",
              "        0.        , 0.        , 0.        , 0.        , 0.        ,\n",
              "        0.        , 0.        , 0.        , 0.        , 0.        ,\n",
              "        0.        , 0.        , 0.        , 0.        , 0.        ,\n",
              "        0.        , 0.        , 0.        , 0.        , 0.        ,\n",
              "        0.        , 0.        , 0.        , 0.        , 0.        ,\n",
              "        0.        , 0.        , 0.        , 0.        ]])"
            ]
          },
          "metadata": {},
          "execution_count": 83
        }
      ]
    },
    {
      "cell_type": "code",
      "source": [
        "model.predict(X_test[idx:idx+1])"
      ],
      "metadata": {
        "colab": {
          "base_uri": "https://localhost:8080/"
        },
        "id": "Vss8ah1wuJLo",
        "outputId": "3303ea93-2e0a-4e96-b11b-518bb695fed2"
      },
      "execution_count": null,
      "outputs": [
        {
          "output_type": "stream",
          "name": "stdout",
          "text": [
            "\u001b[1m1/1\u001b[0m \u001b[32m━━━━━━━━━━━━━━━━━━━━\u001b[0m\u001b[37m\u001b[0m \u001b[1m0s\u001b[0m 30ms/step\n"
          ]
        },
        {
          "output_type": "execute_result",
          "data": {
            "text/plain": [
              "array([[9.0775713e-05, 1.6760406e-04, 4.3040467e-03, 1.5610027e-03,\n",
              "        1.4759098e-03, 1.5144474e-02, 2.4081047e-03, 2.7107794e-07,\n",
              "        9.7420096e-01, 6.4685836e-04]], dtype=float32)"
            ]
          },
          "metadata": {},
          "execution_count": 85
        }
      ]
    },
    {
      "cell_type": "code",
      "metadata": {
        "id": "2tAXamndiKEN"
      },
      "source": [
        "def visulization(idx=0):\n",
        "    # Random pick one data from training set\n",
        "    # idx = np.random.randint(X_train.shape[0])\n",
        "    sample_x = X_test[idx].reshape(28, 28)\n",
        "    sample_y = y_test[idx]\n",
        "    # Predict the class of random data\n",
        "    predict_y = model.predict(X_test[idx:idx+1]).squeeze()\n",
        "    predict_label = predict_y.argmax()\n",
        "\n",
        "    fig, (ax1, ax2) = plt.subplots(1, 2, figsize=(10, 5))\n",
        "    # Plot raw image\n",
        "    ax1.imshow(sample_x, 'gray_r')\n",
        "    ax1.set_title(\"Image Label: %d\" %sample_y.argmax())\n",
        "\n",
        "    # Plot prediction probability of each classes\n",
        "    ax2.barh(np.arange(10), predict_y)\n",
        "    ax2.patches[predict_label].set_facecolor('Red')\n",
        "    ax2.set_title(\"Prediction Result: %d\" %predict_label);\n",
        "    if sample_y.argmax()==predict_y.argmax():\n",
        "        print(\"預測正確!\")\n",
        "    else:\n",
        "        print(\"預測失敗QQ\")"
      ],
      "execution_count": null,
      "outputs": []
    },
    {
      "cell_type": "code",
      "metadata": {
        "id": "eHIOA94JiJ9t",
        "colab": {
          "base_uri": "https://localhost:8080/",
          "height": 555,
          "referenced_widgets": [
            "24d0e7e8dba642f8a0062eb40c8b0e45",
            "449f2b8e487c4537b04637c903f2c28e",
            "8217368a02f648eda4138fd68a7a7734",
            "ea34f6632fbc47e1bd6cd7b26bac1051",
            "e1e82fbb7ea347a38d415f9febf3733e",
            "19cac0d257784b05bb97ca13abb5e3da",
            "97e03ca43ab74adf99d8e18a9cca8202"
          ]
        },
        "outputId": "1c4e09b6-d54d-4962-d8bc-aedeacdfbf6c"
      },
      "source": [
        "interact(visulization, idx=BoundedIntText(value=1000, min=0, max=X_test.shape[0]-1));"
      ],
      "execution_count": null,
      "outputs": [
        {
          "output_type": "display_data",
          "data": {
            "text/plain": [
              "interactive(children=(BoundedIntText(value=1000, description='idx', max=9999), Output()), _dom_classes=('widge…"
            ],
            "application/vnd.jupyter.widget-view+json": {
              "version_major": 2,
              "version_minor": 0,
              "model_id": "24d0e7e8dba642f8a0062eb40c8b0e45"
            }
          },
          "metadata": {}
        }
      ]
    },
    {
      "cell_type": "code",
      "metadata": {
        "id": "A8PkRlvh6nrD"
      },
      "source": [],
      "execution_count": null,
      "outputs": []
    }
  ]
}