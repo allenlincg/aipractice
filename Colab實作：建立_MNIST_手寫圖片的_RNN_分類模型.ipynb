{
  "nbformat": 4,
  "nbformat_minor": 0,
  "metadata": {
    "colab": {
      "provenance": [],
      "include_colab_link": true
    },
    "kernelspec": {
      "name": "python3",
      "display_name": "Python 3"
    },
    "accelerator": "GPU",
    "widgets": {
      "application/vnd.jupyter.widget-state+json": {
        "544e1bf73b574f7892f93ccbf70ecabe": {
          "model_module": "@jupyter-widgets/controls",
          "model_name": "VBoxModel",
          "state": {
            "_view_name": "VBoxView",
            "_dom_classes": [
              "widget-interact"
            ],
            "_model_name": "VBoxModel",
            "_view_module": "@jupyter-widgets/controls",
            "_model_module_version": "1.5.0",
            "_view_count": null,
            "_view_module_version": "1.5.0",
            "box_style": "",
            "layout": "IPY_MODEL_1523312e418a48ce81478b2e63e0fc2c",
            "_model_module": "@jupyter-widgets/controls",
            "children": [
              "IPY_MODEL_2047a79d6092480fb0b6e073fbe2e71c",
              "IPY_MODEL_a83fd85de2894787bba57783fa2260b1",
              "IPY_MODEL_80fd94bb02e2471289f6540da5426423"
            ]
          },
          "model_module_version": "1.5.0"
        },
        "1523312e418a48ce81478b2e63e0fc2c": {
          "model_module": "@jupyter-widgets/base",
          "model_name": "LayoutModel",
          "state": {
            "_view_name": "LayoutView",
            "grid_template_rows": null,
            "right": null,
            "justify_content": null,
            "_view_module": "@jupyter-widgets/base",
            "overflow": null,
            "_model_module_version": "1.2.0",
            "_view_count": null,
            "flex_flow": null,
            "width": null,
            "min_width": null,
            "border": null,
            "align_items": null,
            "bottom": null,
            "_model_module": "@jupyter-widgets/base",
            "top": null,
            "grid_column": null,
            "overflow_y": null,
            "overflow_x": null,
            "grid_auto_flow": null,
            "grid_area": null,
            "grid_template_columns": null,
            "flex": null,
            "_model_name": "LayoutModel",
            "justify_items": null,
            "grid_row": null,
            "max_height": null,
            "align_content": null,
            "visibility": null,
            "align_self": null,
            "height": null,
            "min_height": null,
            "padding": null,
            "grid_auto_rows": null,
            "grid_gap": null,
            "max_width": null,
            "order": null,
            "_view_module_version": "1.2.0",
            "grid_template_areas": null,
            "object_position": null,
            "object_fit": null,
            "grid_auto_columns": null,
            "margin": null,
            "display": null,
            "left": null
          },
          "model_module_version": "1.2.0"
        },
        "2047a79d6092480fb0b6e073fbe2e71c": {
          "model_module": "@jupyter-widgets/controls",
          "model_name": "DropdownModel",
          "state": {
            "_options_labels": [
              "model_pixel",
              "model_row"
            ],
            "_view_name": "DropdownView",
            "style": "IPY_MODEL_8c5a440c33f54f9799550b004e1be839",
            "_dom_classes": [],
            "description": "model",
            "_model_name": "DropdownModel",
            "index": 1,
            "_view_module": "@jupyter-widgets/controls",
            "_model_module_version": "1.5.0",
            "_view_count": null,
            "disabled": false,
            "_view_module_version": "1.5.0",
            "description_tooltip": null,
            "_model_module": "@jupyter-widgets/controls",
            "layout": "IPY_MODEL_f7a720a1ddf14023a8bf793183f32e61"
          },
          "model_module_version": "1.5.0"
        },
        "a83fd85de2894787bba57783fa2260b1": {
          "model_module": "@jupyter-widgets/controls",
          "model_name": "BoundedIntTextModel",
          "state": {
            "_view_name": "IntTextView",
            "style": "IPY_MODEL_85aee066352d49c8b39f7f139b23bc06",
            "_dom_classes": [],
            "description": "idx",
            "_model_name": "BoundedIntTextModel",
            "max": 9999,
            "_view_module": "@jupyter-widgets/controls",
            "_model_module_version": "1.5.0",
            "value": 5566,
            "_view_count": null,
            "disabled": false,
            "_view_module_version": "1.5.0",
            "min": 0,
            "continuous_update": false,
            "step": 1,
            "description_tooltip": null,
            "_model_module": "@jupyter-widgets/controls",
            "layout": "IPY_MODEL_3fcc017005da437391e504465edc2261"
          },
          "model_module_version": "1.5.0"
        },
        "80fd94bb02e2471289f6540da5426423": {
          "model_module": "@jupyter-widgets/output",
          "model_name": "OutputModel",
          "state": {
            "_view_name": "OutputView",
            "msg_id": "",
            "_dom_classes": [],
            "_model_name": "OutputModel",
            "outputs": [
              {
                "output_type": "stream",
                "metadata": {
                  "tags": []
                },
                "text": "預測正確!\n",
                "stream": "stdout"
              },
              {
                "output_type": "display_data",
                "metadata": {
                  "tags": []
                },
                "image/png": "iVBORw0KGgoAAAANSUhEUgAAAq8AAAE/CAYAAABo7ypDAAAABHNCSVQICAgIfAhkiAAAAAlwSFlz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\n8ipJkqRmWF4lSZLUjP8Pymh/cuOqjzIAAAAASUVORK5CYII=\n",
                "text/plain": "<Figure size 864x360 with 2 Axes>"
              }
            ],
            "_view_module": "@jupyter-widgets/output",
            "_model_module_version": "1.0.0",
            "_view_count": null,
            "_view_module_version": "1.0.0",
            "layout": "IPY_MODEL_7a04d93f54e24067b123b138c5c4b76f",
            "_model_module": "@jupyter-widgets/output"
          },
          "model_module_version": "1.0.0"
        },
        "8c5a440c33f54f9799550b004e1be839": {
          "model_module": "@jupyter-widgets/controls",
          "model_name": "DescriptionStyleModel",
          "state": {
            "_view_name": "StyleView",
            "_model_name": "DescriptionStyleModel",
            "description_width": "",
            "_view_module": "@jupyter-widgets/base",
            "_model_module_version": "1.5.0",
            "_view_count": null,
            "_view_module_version": "1.2.0",
            "_model_module": "@jupyter-widgets/controls"
          },
          "model_module_version": "1.5.0"
        },
        "f7a720a1ddf14023a8bf793183f32e61": {
          "model_module": "@jupyter-widgets/base",
          "model_name": "LayoutModel",
          "state": {
            "_view_name": "LayoutView",
            "grid_template_rows": null,
            "right": null,
            "justify_content": null,
            "_view_module": "@jupyter-widgets/base",
            "overflow": null,
            "_model_module_version": "1.2.0",
            "_view_count": null,
            "flex_flow": null,
            "width": null,
            "min_width": null,
            "border": null,
            "align_items": null,
            "bottom": null,
            "_model_module": "@jupyter-widgets/base",
            "top": null,
            "grid_column": null,
            "overflow_y": null,
            "overflow_x": null,
            "grid_auto_flow": null,
            "grid_area": null,
            "grid_template_columns": null,
            "flex": null,
            "_model_name": "LayoutModel",
            "justify_items": null,
            "grid_row": null,
            "max_height": null,
            "align_content": null,
            "visibility": null,
            "align_self": null,
            "height": null,
            "min_height": null,
            "padding": null,
            "grid_auto_rows": null,
            "grid_gap": null,
            "max_width": null,
            "order": null,
            "_view_module_version": "1.2.0",
            "grid_template_areas": null,
            "object_position": null,
            "object_fit": null,
            "grid_auto_columns": null,
            "margin": null,
            "display": null,
            "left": null
          },
          "model_module_version": "1.2.0"
        },
        "85aee066352d49c8b39f7f139b23bc06": {
          "model_module": "@jupyter-widgets/controls",
          "model_name": "DescriptionStyleModel",
          "state": {
            "_view_name": "StyleView",
            "_model_name": "DescriptionStyleModel",
            "description_width": "",
            "_view_module": "@jupyter-widgets/base",
            "_model_module_version": "1.5.0",
            "_view_count": null,
            "_view_module_version": "1.2.0",
            "_model_module": "@jupyter-widgets/controls"
          },
          "model_module_version": "1.5.0"
        },
        "3fcc017005da437391e504465edc2261": {
          "model_module": "@jupyter-widgets/base",
          "model_name": "LayoutModel",
          "state": {
            "_view_name": "LayoutView",
            "grid_template_rows": null,
            "right": null,
            "justify_content": null,
            "_view_module": "@jupyter-widgets/base",
            "overflow": null,
            "_model_module_version": "1.2.0",
            "_view_count": null,
            "flex_flow": null,
            "width": null,
            "min_width": null,
            "border": null,
            "align_items": null,
            "bottom": null,
            "_model_module": "@jupyter-widgets/base",
            "top": null,
            "grid_column": null,
            "overflow_y": null,
            "overflow_x": null,
            "grid_auto_flow": null,
            "grid_area": null,
            "grid_template_columns": null,
            "flex": null,
            "_model_name": "LayoutModel",
            "justify_items": null,
            "grid_row": null,
            "max_height": null,
            "align_content": null,
            "visibility": null,
            "align_self": null,
            "height": null,
            "min_height": null,
            "padding": null,
            "grid_auto_rows": null,
            "grid_gap": null,
            "max_width": null,
            "order": null,
            "_view_module_version": "1.2.0",
            "grid_template_areas": null,
            "object_position": null,
            "object_fit": null,
            "grid_auto_columns": null,
            "margin": null,
            "display": null,
            "left": null
          },
          "model_module_version": "1.2.0"
        }
      }
    }
  },
  "cells": [
    {
      "cell_type": "markdown",
      "metadata": {
        "id": "view-in-github",
        "colab_type": "text"
      },
      "source": [
        "<a href=\"https://colab.research.google.com/github/allenlincg/aipractice/blob/main/Colab%E5%AF%A6%E4%BD%9C%EF%BC%9A%E5%BB%BA%E7%AB%8B_MNIST_%E6%89%8B%E5%AF%AB%E5%9C%96%E7%89%87%E7%9A%84_RNN_%E5%88%86%E9%A1%9E%E6%A8%A1%E5%9E%8B.ipynb\" target=\"_parent\"><img src=\"https://colab.research.google.com/assets/colab-badge.svg\" alt=\"Open In Colab\"/></a>"
      ]
    },
    {
      "cell_type": "markdown",
      "metadata": {
        "id": "sJr4nMgyb9oS"
      },
      "source": [
        "\n",
        "<p align=\"center\">\n",
        "  <img src=\"https://storage.googleapis.com/kaggle-competitions/kaggle/3004/logos/header.png\"\n",
        "  />\n",
        "  <center>MNIST 手寫數字資料庫</center>\n",
        "  <center>圖片來源: https://www.kaggle.com/</center>\n",
        "</p>"
      ]
    },
    {
      "cell_type": "markdown",
      "metadata": {
        "id": "vVF9I9v6Zipb"
      },
      "source": [
        "## 1: 切換 TensorFlow 至 2.x 版"
      ]
    },
    {
      "cell_type": "code",
      "metadata": {
        "id": "WS6fShx3Za4O"
      },
      "source": [
        "%tensorflow_version 2.x"
      ],
      "execution_count": null,
      "outputs": []
    },
    {
      "cell_type": "markdown",
      "metadata": {
        "id": "DjlnjPnjWYFw"
      },
      "source": [
        "## 2: 載入套件及資料集"
      ]
    },
    {
      "cell_type": "code",
      "metadata": {
        "id": "ItqXJrqzdnXB"
      },
      "source": [
        "%matplotlib inline\n",
        "# Import some useful package\n",
        "import matplotlib.pyplot as plt\n",
        "import numpy as np\n",
        "from ipywidgets import interact, IntSlider, BoundedIntText\n",
        "\n",
        "# For DNN\n",
        "from tensorflow.keras.models import Sequential\n",
        "from tensorflow.keras.layers import Dense\n",
        "\n",
        "# For RNN\n",
        "from tensorflow.keras.layers import SimpleRNN, LSTM, GRU\n",
        "\n",
        "# For training\n",
        "from tensorflow.keras.optimizers import SGD, Adam, RMSprop\n",
        "\n",
        "# For data preprocessing\n",
        "from tensorflow.keras import datasets\n",
        "from tensorflow.keras.utils import to_categorical\n",
        "from tensorflow.keras.preprocessing.sequence import pad_sequences"
      ],
      "execution_count": null,
      "outputs": []
    },
    {
      "cell_type": "markdown",
      "metadata": {
        "id": "K2OiUS-kWkJU"
      },
      "source": [
        "## 3: 資料前處理 (Data Preprocessing)"
      ]
    },
    {
      "cell_type": "markdown",
      "metadata": {
        "id": "Rkr6VUS3GVcn"
      },
      "source": [
        "在這裡，我們需要用兩種不同的方式來進行 MNIST 的 RNN 分類模型。\n",
        "\n",
        "1. 每次看一個點：將每張圖片拉長成 784 維的向量，並當作一個 784 個時間點的資料，且每個時間的資料維度是 1。\n",
        "2. 每次看一列向量：將每張圖片看成 28 個 28 維的列向量 (row vector)，並當作一個 28 個時間點的資料，且每個時間的資料維度是 28。"
      ]
    },
    {
      "cell_type": "code",
      "metadata": {
        "id": "-lCgz6UC8pKT"
      },
      "source": [
        "(X_train, y_train), (X_test, y_test) = datasets.mnist.load_data()"
      ],
      "execution_count": null,
      "outputs": []
    },
    {
      "cell_type": "code",
      "metadata": {
        "id": "oSFL-xv9vUpH",
        "outputId": "64ea9753-7476-44a5-f2f2-154bb2f4c222",
        "colab": {
          "base_uri": "https://localhost:8080/",
          "height": 252
        }
      },
      "source": [
        "plt.imshow(X_train[0], 'gray_r')\n",
        "plt.xticks([])\n",
        "plt.yticks([])\n",
        "plt.xlim(0, 28)\n",
        "plt.ylim(28, 0)\n",
        "for i in range(28):\n",
        "#     plt.vlines(i, 0, 28, colors='b')\n",
        "    plt.hlines(i, 0, 28, colors='b')\n",
        "plt.savefig('example_mnist_5_row')"
      ],
      "execution_count": null,
      "outputs": [
        {
          "output_type": "display_data",
          "data": {
            "image/png": "[encoded data removed]",
            "text/plain": [
              "<Figure size 432x288 with 1 Axes>"
            ]
          },
          "metadata": {
            "tags": []
          }
        }
      ]
    },
    {
      "cell_type": "code",
      "metadata": {
        "id": "j67xlCR5D3ad",
        "outputId": "acd5acbb-d4a0-4f8c-8f49-6c7436a1ce7a",
        "colab": {
          "base_uri": "https://localhost:8080/",
          "height": 270
        }
      },
      "source": [
        "plt.figure(figsize=(8, 4))\n",
        "plt.subplot(1, 2, 1)\n",
        "plt.imshow(X_train[0], 'gray_r')\n",
        "plt.xticks([])\n",
        "plt.yticks([])\n",
        "plt.title('Raw Image')\n",
        "\n",
        "plt.subplot(1, 2, 2)\n",
        "plt.imshow(X_train[0], 'gray_r')\n",
        "plt.xlim(0, 28)\n",
        "plt.ylim(28, 0)\n",
        "plt.xticks([])\n",
        "plt.yticks([])\n",
        "plt.title('Row Split')\n",
        "for i in range(28):\n",
        "    # plt.vlines(i, 0, 28, colors='b')\n",
        "    plt.hlines(i, 0, 28, colors='k')\n",
        "\n",
        "print(\"Data shape:\", X_train[0].shape)"
      ],
      "execution_count": null,
      "outputs": [
        {
          "output_type": "stream",
          "text": [
            "Data shape: (28, 28)\n"
          ],
          "name": "stdout"
        },
        {
          "output_type": "display_data",
          "data": {
            "image/png": "[encoded data removed]",
            "text/plain": [
              "<Figure size 576x288 with 2 Axes>"
            ]
          },
          "metadata": {
            "tags": []
          }
        }
      ]
    },
    {
      "cell_type": "code",
      "metadata": {
        "id": "LoaIqr91O7ft"
      },
      "source": [
        "# Normalize data range\n",
        "X_train = X_train / X_train.max()\n",
        "X_test = X_test / X_test.max()\n",
        "\n",
        "# Reshape each data as a vector\n",
        "X_vec_train = X_train.reshape(-1, 28*28, 1)\n",
        "X_vec_test = X_test.reshape(-1, 28*28, 1)\n",
        "\n",
        "# One-hot encoding\n",
        "y_train = to_categorical(y_train, 10)\n",
        "y_test = to_categorical(y_test, 10)"
      ],
      "execution_count": null,
      "outputs": []
    },
    {
      "cell_type": "markdown",
      "metadata": {
        "id": "u1O7pbttHcOv"
      },
      "source": [
        "## 4: 建立逐點輸入的 LSTM 分類模型"
      ]
    },
    {
      "cell_type": "code",
      "metadata": {
        "id": "sWa26z1-S_q9",
        "outputId": "6cae3f3c-4b87-4a07-a2dc-5b8c12aaba4e",
        "colab": {
          "base_uri": "https://localhost:8080/",
          "height": 218
        }
      },
      "source": [
        "model_pixel = Sequential()\n",
        "model_pixel.add(SimpleRNN(40, input_shape=(784, 1)))\n",
        "# model_pixel.add(LSTM(40, input_shape=(784, 1)))\n",
        "# model_pixel.add(GRU(40, input_shape=(784, 1)))\n",
        "model_pixel.add(Dense(10, activation='softmax'))\n",
        "model_pixel.summary()"
      ],
      "execution_count": null,
      "outputs": [
        {
          "output_type": "stream",
          "text": [
            "Model: \"sequential\"\n",
            "_________________________________________________________________\n",
            "Layer (type)                 Output Shape              Param #   \n",
            "=================================================================\n",
            "simple_rnn (SimpleRNN)       (None, 40)                1680      \n",
            "_________________________________________________________________\n",
            "dense (Dense)                (None, 10)                410       \n",
            "=================================================================\n",
            "Total params: 2,090\n",
            "Trainable params: 2,090\n",
            "Non-trainable params: 0\n",
            "_________________________________________________________________\n"
          ],
          "name": "stdout"
        }
      ]
    },
    {
      "cell_type": "code",
      "metadata": {
        "id": "lHA0KWEkPnK6"
      },
      "source": [
        "model_pixel.compile(loss='categorical_crossentropy',\n",
        "                    optimizer=SGD(),\n",
        "                    metrics=['categorical_accuracy'])"
      ],
      "execution_count": null,
      "outputs": []
    },
    {
      "cell_type": "code",
      "metadata": {
        "id": "m57f2jC1v8cd"
      },
      "source": [
        "training_history = model_pixel.fit(X_vec_train, y_train,\n",
        "                                   batch_size=512,\n",
        "                                   epochs=5,\n",
        "                                   validation_data=(X_vec_test, y_test)\n",
        "                                   )"
      ],
      "execution_count": null,
      "outputs": []
    },
    {
      "cell_type": "code",
      "metadata": {
        "id": "ONaB2OKzv8g_"
      },
      "source": [],
      "execution_count": null,
      "outputs": []
    },
    {
      "cell_type": "markdown",
      "metadata": {
        "id": "Ytj93cd4Ivq2"
      },
      "source": [
        "## 5: 建立列向量當輸入的 LSTM 分類模型"
      ]
    },
    {
      "cell_type": "code",
      "metadata": {
        "id": "vbw7uC6U0rwZ",
        "outputId": "0758dfcb-b884-4baa-9791-c764121d0514",
        "colab": {
          "base_uri": "https://localhost:8080/",
          "height": 218
        }
      },
      "source": [
        "model_row = Sequential()\n",
        "model_row.add(SimpleRNN(40, input_shape=(28, 28)))\n",
        "model_row.add(Dense(10, activation='softmax'))\n",
        "model_row.summary()"
      ],
      "execution_count": null,
      "outputs": [
        {
          "output_type": "stream",
          "text": [
            "Model: \"sequential_1\"\n",
            "_________________________________________________________________\n",
            "Layer (type)                 Output Shape              Param #   \n",
            "=================================================================\n",
            "simple_rnn_1 (SimpleRNN)     (None, 40)                2760      \n",
            "_________________________________________________________________\n",
            "dense_1 (Dense)              (None, 10)                410       \n",
            "=================================================================\n",
            "Total params: 3,170\n",
            "Trainable params: 3,170\n",
            "Non-trainable params: 0\n",
            "_________________________________________________________________\n"
          ],
          "name": "stdout"
        }
      ]
    },
    {
      "cell_type": "code",
      "metadata": {
        "id": "-k7ezbFi0r1Y"
      },
      "source": [
        "model_row.compile(loss='categorical_crossentropy',\n",
        "                  optimizer=RMSprop(),\n",
        "                  metrics=['categorical_accuracy'])"
      ],
      "execution_count": null,
      "outputs": []
    },
    {
      "cell_type": "code",
      "metadata": {
        "id": "ql3o2VDP0r33",
        "outputId": "46ae12c0-3551-4d71-bc45-b1fa26687faf",
        "colab": {
          "base_uri": "https://localhost:8080/",
          "height": 404
        }
      },
      "source": [
        "training_history = model_row.fit(X_train, y_train,\n",
        "                                 batch_size=512,\n",
        "                                 epochs=5,\n",
        "                                 validation_data=(X_test, y_test)\n",
        "                                 )"
      ],
      "execution_count": null,
      "outputs": [
        {
          "output_type": "stream",
          "text": [
            "Train on 60000 samples, validate on 10000 samples\n",
            "Epoch 1/5\n",
            "27700/60000 [============>.................] - ETA: 7s - loss: 0.3454 - categorical_accuracy: 0.8992"
          ],
          "name": "stdout"
        },
        {
          "output_type": "error",
          "ename": "KeyboardInterrupt",
          "evalue": "ignored",
          "traceback": [
            "\u001b[0;31m---------------------------------------------------------------------------\u001b[0m",
            "\u001b[0;31mKeyboardInterrupt\u001b[0m                         Traceback (most recent call last)",
            "\u001b[0;32m<ipython-input-32-c09b61390c89>\u001b[0m in \u001b[0;36m<module>\u001b[0;34m()\u001b[0m\n\u001b[1;32m      2\u001b[0m                                  \u001b[0mbatch_size\u001b[0m\u001b[0;34m=\u001b[0m\u001b[0;36m100\u001b[0m\u001b[0;34m,\u001b[0m\u001b[0;34m\u001b[0m\u001b[0;34m\u001b[0m\u001b[0m\n\u001b[1;32m      3\u001b[0m                                  \u001b[0mepochs\u001b[0m\u001b[0;34m=\u001b[0m\u001b[0;36m5\u001b[0m\u001b[0;34m,\u001b[0m\u001b[0;34m\u001b[0m\u001b[0;34m\u001b[0m\u001b[0m\n\u001b[0;32m----> 4\u001b[0;31m                                  \u001b[0mvalidation_data\u001b[0m\u001b[0;34m=\u001b[0m\u001b[0;34m(\u001b[0m\u001b[0mX_test\u001b[0m\u001b[0;34m,\u001b[0m \u001b[0my_test\u001b[0m\u001b[0;34m)\u001b[0m\u001b[0;34m\u001b[0m\u001b[0;34m\u001b[0m\u001b[0m\n\u001b[0m\u001b[1;32m      5\u001b[0m                                  )\n",
            "\u001b[0;32m/usr/local/lib/python3.6/dist-packages/tensorflow_core/python/keras/engine/training.py\u001b[0m in \u001b[0;36mfit\u001b[0;34m(self, x, y, batch_size, epochs, verbose, callbacks, validation_split, validation_data, shuffle, class_weight, sample_weight, initial_epoch, steps_per_epoch, validation_steps, validation_freq, max_queue_size, workers, use_multiprocessing, **kwargs)\u001b[0m\n\u001b[1;32m    817\u001b[0m         \u001b[0mmax_queue_size\u001b[0m\u001b[0;34m=\u001b[0m\u001b[0mmax_queue_size\u001b[0m\u001b[0;34m,\u001b[0m\u001b[0;34m\u001b[0m\u001b[0;34m\u001b[0m\u001b[0m\n\u001b[1;32m    818\u001b[0m         \u001b[0mworkers\u001b[0m\u001b[0;34m=\u001b[0m\u001b[0mworkers\u001b[0m\u001b[0;34m,\u001b[0m\u001b[0;34m\u001b[0m\u001b[0;34m\u001b[0m\u001b[0m\n\u001b[0;32m--> 819\u001b[0;31m         use_multiprocessing=use_multiprocessing)\n\u001b[0m\u001b[1;32m    820\u001b[0m \u001b[0;34m\u001b[0m\u001b[0m\n\u001b[1;32m    821\u001b[0m   def evaluate(self,\n",
            "\u001b[0;32m/usr/local/lib/python3.6/dist-packages/tensorflow_core/python/keras/engine/training_v2.py\u001b[0m in \u001b[0;36mfit\u001b[0;34m(self, model, x, y, batch_size, epochs, verbose, callbacks, validation_split, validation_data, shuffle, class_weight, sample_weight, initial_epoch, steps_per_epoch, validation_steps, validation_freq, max_queue_size, workers, use_multiprocessing, **kwargs)\u001b[0m\n\u001b[1;32m    340\u001b[0m                 \u001b[0mmode\u001b[0m\u001b[0;34m=\u001b[0m\u001b[0mModeKeys\u001b[0m\u001b[0;34m.\u001b[0m\u001b[0mTRAIN\u001b[0m\u001b[0;34m,\u001b[0m\u001b[0;34m\u001b[0m\u001b[0;34m\u001b[0m\u001b[0m\n\u001b[1;32m    341\u001b[0m                 \u001b[0mtraining_context\u001b[0m\u001b[0;34m=\u001b[0m\u001b[0mtraining_context\u001b[0m\u001b[0;34m,\u001b[0m\u001b[0;34m\u001b[0m\u001b[0;34m\u001b[0m\u001b[0m\n\u001b[0;32m--> 342\u001b[0;31m                 total_epochs=epochs)\n\u001b[0m\u001b[1;32m    343\u001b[0m             \u001b[0mcbks\u001b[0m\u001b[0;34m.\u001b[0m\u001b[0mmake_logs\u001b[0m\u001b[0;34m(\u001b[0m\u001b[0mmodel\u001b[0m\u001b[0;34m,\u001b[0m \u001b[0mepoch_logs\u001b[0m\u001b[0;34m,\u001b[0m \u001b[0mtraining_result\u001b[0m\u001b[0;34m,\u001b[0m \u001b[0mModeKeys\u001b[0m\u001b[0;34m.\u001b[0m\u001b[0mTRAIN\u001b[0m\u001b[0;34m)\u001b[0m\u001b[0;34m\u001b[0m\u001b[0;34m\u001b[0m\u001b[0m\n\u001b[1;32m    344\u001b[0m \u001b[0;34m\u001b[0m\u001b[0m\n",
            "\u001b[0;32m/usr/local/lib/python3.6/dist-packages/tensorflow_core/python/keras/engine/training_v2.py\u001b[0m in \u001b[0;36mrun_one_epoch\u001b[0;34m(model, iterator, execution_function, dataset_size, batch_size, strategy, steps_per_epoch, num_samples, mode, training_context, total_epochs)\u001b[0m\n\u001b[1;32m    126\u001b[0m         step=step, mode=mode, size=current_batch_size) as batch_logs:\n\u001b[1;32m    127\u001b[0m       \u001b[0;32mtry\u001b[0m\u001b[0;34m:\u001b[0m\u001b[0;34m\u001b[0m\u001b[0;34m\u001b[0m\u001b[0m\n\u001b[0;32m--> 128\u001b[0;31m         \u001b[0mbatch_outs\u001b[0m \u001b[0;34m=\u001b[0m \u001b[0mexecution_function\u001b[0m\u001b[0;34m(\u001b[0m\u001b[0miterator\u001b[0m\u001b[0;34m)\u001b[0m\u001b[0;34m\u001b[0m\u001b[0;34m\u001b[0m\u001b[0m\n\u001b[0m\u001b[1;32m    129\u001b[0m       \u001b[0;32mexcept\u001b[0m \u001b[0;34m(\u001b[0m\u001b[0mStopIteration\u001b[0m\u001b[0;34m,\u001b[0m \u001b[0merrors\u001b[0m\u001b[0;34m.\u001b[0m\u001b[0mOutOfRangeError\u001b[0m\u001b[0;34m)\u001b[0m\u001b[0;34m:\u001b[0m\u001b[0;34m\u001b[0m\u001b[0;34m\u001b[0m\u001b[0m\n\u001b[1;32m    130\u001b[0m         \u001b[0;31m# TODO(kaftan): File bug about tf function and errors.OutOfRangeError?\u001b[0m\u001b[0;34m\u001b[0m\u001b[0;34m\u001b[0m\u001b[0;34m\u001b[0m\u001b[0m\n",
            "\u001b[0;32m/usr/local/lib/python3.6/dist-packages/tensorflow_core/python/keras/engine/training_v2_utils.py\u001b[0m in \u001b[0;36mexecution_function\u001b[0;34m(input_fn)\u001b[0m\n\u001b[1;32m     96\u001b[0m     \u001b[0;31m# `numpy` translates Tensors to values in Eager mode.\u001b[0m\u001b[0;34m\u001b[0m\u001b[0;34m\u001b[0m\u001b[0;34m\u001b[0m\u001b[0m\n\u001b[1;32m     97\u001b[0m     return nest.map_structure(_non_none_constant_value,\n\u001b[0;32m---> 98\u001b[0;31m                               distributed_function(input_fn))\n\u001b[0m\u001b[1;32m     99\u001b[0m \u001b[0;34m\u001b[0m\u001b[0m\n\u001b[1;32m    100\u001b[0m   \u001b[0;32mreturn\u001b[0m \u001b[0mexecution_function\u001b[0m\u001b[0;34m\u001b[0m\u001b[0;34m\u001b[0m\u001b[0m\n",
            "\u001b[0;32m/usr/local/lib/python3.6/dist-packages/tensorflow_core/python/eager/def_function.py\u001b[0m in \u001b[0;36m__call__\u001b[0;34m(self, *args, **kwds)\u001b[0m\n\u001b[1;32m    566\u001b[0m         \u001b[0mxla_context\u001b[0m\u001b[0;34m.\u001b[0m\u001b[0mExit\u001b[0m\u001b[0;34m(\u001b[0m\u001b[0;34m)\u001b[0m\u001b[0;34m\u001b[0m\u001b[0;34m\u001b[0m\u001b[0m\n\u001b[1;32m    567\u001b[0m     \u001b[0;32melse\u001b[0m\u001b[0;34m:\u001b[0m\u001b[0;34m\u001b[0m\u001b[0;34m\u001b[0m\u001b[0m\n\u001b[0;32m--> 568\u001b[0;31m       \u001b[0mresult\u001b[0m \u001b[0;34m=\u001b[0m \u001b[0mself\u001b[0m\u001b[0;34m.\u001b[0m\u001b[0m_call\u001b[0m\u001b[0;34m(\u001b[0m\u001b[0;34m*\u001b[0m\u001b[0margs\u001b[0m\u001b[0;34m,\u001b[0m \u001b[0;34m**\u001b[0m\u001b[0mkwds\u001b[0m\u001b[0;34m)\u001b[0m\u001b[0;34m\u001b[0m\u001b[0;34m\u001b[0m\u001b[0m\n\u001b[0m\u001b[1;32m    569\u001b[0m \u001b[0;34m\u001b[0m\u001b[0m\n\u001b[1;32m    570\u001b[0m     \u001b[0;32mif\u001b[0m \u001b[0mtracing_count\u001b[0m \u001b[0;34m==\u001b[0m \u001b[0mself\u001b[0m\u001b[0;34m.\u001b[0m\u001b[0m_get_tracing_count\u001b[0m\u001b[0;34m(\u001b[0m\u001b[0;34m)\u001b[0m\u001b[0;34m:\u001b[0m\u001b[0;34m\u001b[0m\u001b[0;34m\u001b[0m\u001b[0m\n",
            "\u001b[0;32m/usr/local/lib/python3.6/dist-packages/tensorflow_core/python/eager/def_function.py\u001b[0m in \u001b[0;36m_call\u001b[0;34m(self, *args, **kwds)\u001b[0m\n\u001b[1;32m    597\u001b[0m       \u001b[0;31m# In this case we have created variables on the first call, so we run the\u001b[0m\u001b[0;34m\u001b[0m\u001b[0;34m\u001b[0m\u001b[0;34m\u001b[0m\u001b[0m\n\u001b[1;32m    598\u001b[0m       \u001b[0;31m# defunned version which is guaranteed to never create variables.\u001b[0m\u001b[0;34m\u001b[0m\u001b[0;34m\u001b[0m\u001b[0;34m\u001b[0m\u001b[0m\n\u001b[0;32m--> 599\u001b[0;31m       \u001b[0;32mreturn\u001b[0m \u001b[0mself\u001b[0m\u001b[0;34m.\u001b[0m\u001b[0m_stateless_fn\u001b[0m\u001b[0;34m(\u001b[0m\u001b[0;34m*\u001b[0m\u001b[0margs\u001b[0m\u001b[0;34m,\u001b[0m \u001b[0;34m**\u001b[0m\u001b[0mkwds\u001b[0m\u001b[0;34m)\u001b[0m  \u001b[0;31m# pylint: disable=not-callable\u001b[0m\u001b[0;34m\u001b[0m\u001b[0;34m\u001b[0m\u001b[0m\n\u001b[0m\u001b[1;32m    600\u001b[0m     \u001b[0;32melif\u001b[0m \u001b[0mself\u001b[0m\u001b[0;34m.\u001b[0m\u001b[0m_stateful_fn\u001b[0m \u001b[0;32mis\u001b[0m \u001b[0;32mnot\u001b[0m \u001b[0;32mNone\u001b[0m\u001b[0;34m:\u001b[0m\u001b[0;34m\u001b[0m\u001b[0;34m\u001b[0m\u001b[0m\n\u001b[1;32m    601\u001b[0m       \u001b[0;31m# Release the lock early so that multiple threads can perform the call\u001b[0m\u001b[0;34m\u001b[0m\u001b[0;34m\u001b[0m\u001b[0;34m\u001b[0m\u001b[0m\n",
            "\u001b[0;32m/usr/local/lib/python3.6/dist-packages/tensorflow_core/python/eager/function.py\u001b[0m in \u001b[0;36m__call__\u001b[0;34m(self, *args, **kwargs)\u001b[0m\n\u001b[1;32m   2361\u001b[0m     \u001b[0;32mwith\u001b[0m \u001b[0mself\u001b[0m\u001b[0;34m.\u001b[0m\u001b[0m_lock\u001b[0m\u001b[0;34m:\u001b[0m\u001b[0;34m\u001b[0m\u001b[0;34m\u001b[0m\u001b[0m\n\u001b[1;32m   2362\u001b[0m       \u001b[0mgraph_function\u001b[0m\u001b[0;34m,\u001b[0m \u001b[0margs\u001b[0m\u001b[0;34m,\u001b[0m \u001b[0mkwargs\u001b[0m \u001b[0;34m=\u001b[0m \u001b[0mself\u001b[0m\u001b[0;34m.\u001b[0m\u001b[0m_maybe_define_function\u001b[0m\u001b[0;34m(\u001b[0m\u001b[0margs\u001b[0m\u001b[0;34m,\u001b[0m \u001b[0mkwargs\u001b[0m\u001b[0;34m)\u001b[0m\u001b[0;34m\u001b[0m\u001b[0;34m\u001b[0m\u001b[0m\n\u001b[0;32m-> 2363\u001b[0;31m     \u001b[0;32mreturn\u001b[0m \u001b[0mgraph_function\u001b[0m\u001b[0;34m.\u001b[0m\u001b[0m_filtered_call\u001b[0m\u001b[0;34m(\u001b[0m\u001b[0margs\u001b[0m\u001b[0;34m,\u001b[0m \u001b[0mkwargs\u001b[0m\u001b[0;34m)\u001b[0m  \u001b[0;31m# pylint: disable=protected-access\u001b[0m\u001b[0;34m\u001b[0m\u001b[0;34m\u001b[0m\u001b[0m\n\u001b[0m\u001b[1;32m   2364\u001b[0m \u001b[0;34m\u001b[0m\u001b[0m\n\u001b[1;32m   2365\u001b[0m   \u001b[0;34m@\u001b[0m\u001b[0mproperty\u001b[0m\u001b[0;34m\u001b[0m\u001b[0;34m\u001b[0m\u001b[0m\n",
            "\u001b[0;32m/usr/local/lib/python3.6/dist-packages/tensorflow_core/python/eager/function.py\u001b[0m in \u001b[0;36m_filtered_call\u001b[0;34m(self, args, kwargs)\u001b[0m\n\u001b[1;32m   1609\u001b[0m          if isinstance(t, (ops.Tensor,\n\u001b[1;32m   1610\u001b[0m                            resource_variable_ops.BaseResourceVariable))),\n\u001b[0;32m-> 1611\u001b[0;31m         self.captured_inputs)\n\u001b[0m\u001b[1;32m   1612\u001b[0m \u001b[0;34m\u001b[0m\u001b[0m\n\u001b[1;32m   1613\u001b[0m   \u001b[0;32mdef\u001b[0m \u001b[0m_call_flat\u001b[0m\u001b[0;34m(\u001b[0m\u001b[0mself\u001b[0m\u001b[0;34m,\u001b[0m \u001b[0margs\u001b[0m\u001b[0;34m,\u001b[0m \u001b[0mcaptured_inputs\u001b[0m\u001b[0;34m,\u001b[0m \u001b[0mcancellation_manager\u001b[0m\u001b[0;34m=\u001b[0m\u001b[0;32mNone\u001b[0m\u001b[0;34m)\u001b[0m\u001b[0;34m:\u001b[0m\u001b[0;34m\u001b[0m\u001b[0;34m\u001b[0m\u001b[0m\n",
            "\u001b[0;32m/usr/local/lib/python3.6/dist-packages/tensorflow_core/python/eager/function.py\u001b[0m in \u001b[0;36m_call_flat\u001b[0;34m(self, args, captured_inputs, cancellation_manager)\u001b[0m\n\u001b[1;32m   1690\u001b[0m       \u001b[0;31m# No tape is watching; skip to running the function.\u001b[0m\u001b[0;34m\u001b[0m\u001b[0;34m\u001b[0m\u001b[0;34m\u001b[0m\u001b[0m\n\u001b[1;32m   1691\u001b[0m       return self._build_call_outputs(self._inference_function.call(\n\u001b[0;32m-> 1692\u001b[0;31m           ctx, args, cancellation_manager=cancellation_manager))\n\u001b[0m\u001b[1;32m   1693\u001b[0m     forward_backward = self._select_forward_and_backward_functions(\n\u001b[1;32m   1694\u001b[0m         \u001b[0margs\u001b[0m\u001b[0;34m,\u001b[0m\u001b[0;34m\u001b[0m\u001b[0;34m\u001b[0m\u001b[0m\n",
            "\u001b[0;32m/usr/local/lib/python3.6/dist-packages/tensorflow_core/python/eager/function.py\u001b[0m in \u001b[0;36mcall\u001b[0;34m(self, ctx, args, cancellation_manager)\u001b[0m\n\u001b[1;32m    543\u001b[0m               \u001b[0minputs\u001b[0m\u001b[0;34m=\u001b[0m\u001b[0margs\u001b[0m\u001b[0;34m,\u001b[0m\u001b[0;34m\u001b[0m\u001b[0;34m\u001b[0m\u001b[0m\n\u001b[1;32m    544\u001b[0m               \u001b[0mattrs\u001b[0m\u001b[0;34m=\u001b[0m\u001b[0;34m(\u001b[0m\u001b[0;34m\"executor_type\"\u001b[0m\u001b[0;34m,\u001b[0m \u001b[0mexecutor_type\u001b[0m\u001b[0;34m,\u001b[0m \u001b[0;34m\"config_proto\"\u001b[0m\u001b[0;34m,\u001b[0m \u001b[0mconfig\u001b[0m\u001b[0;34m)\u001b[0m\u001b[0;34m,\u001b[0m\u001b[0;34m\u001b[0m\u001b[0;34m\u001b[0m\u001b[0m\n\u001b[0;32m--> 545\u001b[0;31m               ctx=ctx)\n\u001b[0m\u001b[1;32m    546\u001b[0m         \u001b[0;32melse\u001b[0m\u001b[0;34m:\u001b[0m\u001b[0;34m\u001b[0m\u001b[0;34m\u001b[0m\u001b[0m\n\u001b[1;32m    547\u001b[0m           outputs = execute.execute_with_cancellation(\n",
            "\u001b[0;32m/usr/local/lib/python3.6/dist-packages/tensorflow_core/python/eager/execute.py\u001b[0m in \u001b[0;36mquick_execute\u001b[0;34m(op_name, num_outputs, inputs, attrs, ctx, name)\u001b[0m\n\u001b[1;32m     59\u001b[0m     tensors = pywrap_tensorflow.TFE_Py_Execute(ctx._handle, device_name,\n\u001b[1;32m     60\u001b[0m                                                \u001b[0mop_name\u001b[0m\u001b[0;34m,\u001b[0m \u001b[0minputs\u001b[0m\u001b[0;34m,\u001b[0m \u001b[0mattrs\u001b[0m\u001b[0;34m,\u001b[0m\u001b[0;34m\u001b[0m\u001b[0;34m\u001b[0m\u001b[0m\n\u001b[0;32m---> 61\u001b[0;31m                                                num_outputs)\n\u001b[0m\u001b[1;32m     62\u001b[0m   \u001b[0;32mexcept\u001b[0m \u001b[0mcore\u001b[0m\u001b[0;34m.\u001b[0m\u001b[0m_NotOkStatusException\u001b[0m \u001b[0;32mas\u001b[0m \u001b[0me\u001b[0m\u001b[0;34m:\u001b[0m\u001b[0;34m\u001b[0m\u001b[0;34m\u001b[0m\u001b[0m\n\u001b[1;32m     63\u001b[0m     \u001b[0;32mif\u001b[0m \u001b[0mname\u001b[0m \u001b[0;32mis\u001b[0m \u001b[0;32mnot\u001b[0m \u001b[0;32mNone\u001b[0m\u001b[0;34m:\u001b[0m\u001b[0;34m\u001b[0m\u001b[0;34m\u001b[0m\u001b[0m\n",
            "\u001b[0;31mKeyboardInterrupt\u001b[0m: "
          ]
        }
      ]
    },
    {
      "cell_type": "code",
      "metadata": {
        "id": "vPPc0fZILUQj"
      },
      "source": [],
      "execution_count": null,
      "outputs": []
    },
    {
      "cell_type": "markdown",
      "metadata": {
        "id": "L-97G2BMN-xh"
      },
      "source": [
        "## 6: 視覺化預測結果\n",
        "\n",
        "在這部分，我們提供簡單的視覺化方法來呈現神經網路的輸入與輸出結果"
      ]
    },
    {
      "cell_type": "code",
      "metadata": {
        "id": "2tAXamndiKEN"
      },
      "source": [
        "model_list = ['model_pixel', 'model_row']\n",
        "def visulization(model='model_row', idx=0):\n",
        "    # Random pick one data from training set\n",
        "    # idx = np.random.randint(X_train.shape[0])\n",
        "    sample_x = X_test[idx]\n",
        "    sample_y = y_test[idx]\n",
        "    # Predict the class of random data\n",
        "    if model=='model_pixel':\n",
        "        model = model_pixel\n",
        "        predict_y = model.predict(X_vec_test[idx:idx+1]).squeeze()\n",
        "    else:\n",
        "        model = model_row\n",
        "        predict_y = model.predict(X_test[idx:idx+1]).squeeze()\n",
        "    predict_label = predict_y.argmax()\n",
        "\n",
        "    fig, (ax1, ax2) = plt.subplots(1, 2, figsize=(12, 5))\n",
        "    # Plot raw image\n",
        "    ax1.imshow(sample_x, 'gray_r')\n",
        "    ax1.set_title(\"Image Label: %s\" %sample_y.argmax())\n",
        "\n",
        "    # Plot prediction probability of each classes\n",
        "    ax2.barh(np.arange(10), predict_y)\n",
        "    ax2.patches[predict_label].set_facecolor('Red')\n",
        "    ax2.set_title(\"Prediction Result: %d\" %predict_label);\n",
        "    if sample_y.argmax()==predict_y.argmax():\n",
        "        print(\"預測正確!\")\n",
        "    else:\n",
        "        print(\"預測失敗QQ\")\n",
        "    plt.show()"
      ],
      "execution_count": null,
      "outputs": []
    },
    {
      "cell_type": "code",
      "metadata": {
        "id": "eHIOA94JiJ9t",
        "outputId": "850d8365-1260-4442-ddb9-e1425a4ae221",
        "colab": {
          "base_uri": "https://localhost:8080/",
          "height": 417,
          "referenced_widgets": [
            "544e1bf73b574f7892f93ccbf70ecabe",
            "1523312e418a48ce81478b2e63e0fc2c",
            "2047a79d6092480fb0b6e073fbe2e71c",
            "a83fd85de2894787bba57783fa2260b1",
            "80fd94bb02e2471289f6540da5426423",
            "8c5a440c33f54f9799550b004e1be839",
            "f7a720a1ddf14023a8bf793183f32e61",
            "85aee066352d49c8b39f7f139b23bc06",
            "3fcc017005da437391e504465edc2261",
            "7a04d93f54e24067b123b138c5c4b76f"
          ]
        }
      },
      "source": [
        "interact(visulization, model=model_list, idx=BoundedIntText(value=5566, min=0, max=X_test.shape[0]-1));"
      ],
      "execution_count": null,
      "outputs": [
        {
          "output_type": "display_data",
          "data": {
            "application/vnd.jupyter.widget-view+json": {
              "model_id": "544e1bf73b574f7892f93ccbf70ecabe",
              "version_minor": 0,
              "version_major": 2
            },
            "text/plain": [
              "interactive(children=(Dropdown(description='model', index=1, options=('model_pixel', 'model_row'), value='mode…"
            ]
          },
          "metadata": {
            "tags": []
          }
        }
      ]
    },
    {
      "cell_type": "markdown",
      "metadata": {
        "id": "WqNv1dCoBeRe"
      },
      "source": [
        "## 7: [練習] 建構屬於你自己的 RNN 分類模型\n",
        "\n",
        "1. 使用堆疊 (stack) 的方式來建構 MNIST 上的分類模型\n",
        "\n",
        "2. 使用不同的資料集 (如：CIFAR-10 或其他 Keras 提供的資料集，甚至是自己蒐集的資料等等) 來建立分類模型。\n",
        "\n",
        "注意：若要使用語言相關的語料資料，建議要有自然語言處理 (NLP) 的背景及相關知識，才有辦法針對這類問題建構神經網路模型。\n",
        "\n"
      ]
    }
  ]
}