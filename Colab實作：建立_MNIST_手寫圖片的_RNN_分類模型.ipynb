{
  "nbformat": 4,
  "nbformat_minor": 0,
  "metadata": {
    "colab": {
      "provenance": [],
      "include_colab_link": true
    },
    "kernelspec": {
      "name": "python3",
      "display_name": "Python 3"
    },
    "accelerator": "GPU",
    "widgets": {
      "application/vnd.jupyter.widget-state+json": {
        "3c68e98fc6bb4ec39b0609456924e412": {
          "model_module": "@jupyter-widgets/controls",
          "model_name": "VBoxModel",
          "model_module_version": "1.5.0",
          "state": {
            "_dom_classes": [
              "widget-interact"
            ],
            "_model_module": "@jupyter-widgets/controls",
            "_model_module_version": "1.5.0",
            "_model_name": "VBoxModel",
            "_view_count": null,
            "_view_module": "@jupyter-widgets/controls",
            "_view_module_version": "1.5.0",
            "_view_name": "VBoxView",
            "box_style": "",
            "children": [
              "IPY_MODEL_2f3f686ec0714aec8ab3148b6df96ca9",
              "IPY_MODEL_0f3996c1ad0640db8d588144e1de8610",
              "IPY_MODEL_5c20d59fb40740fe91e0191167e32eed"
            ],
            "layout": "IPY_MODEL_75e8336b121e43dcac12aeffd6f20e29"
          }
        },
        "2f3f686ec0714aec8ab3148b6df96ca9": {
          "model_module": "@jupyter-widgets/controls",
          "model_name": "DropdownModel",
          "model_module_version": "1.5.0",
          "state": {
            "_dom_classes": [],
            "_model_module": "@jupyter-widgets/controls",
            "_model_module_version": "1.5.0",
            "_model_name": "DropdownModel",
            "_options_labels": [
              "model_pixel",
              "model_row"
            ],
            "_view_count": null,
            "_view_module": "@jupyter-widgets/controls",
            "_view_module_version": "1.5.0",
            "_view_name": "DropdownView",
            "description": "model",
            "description_tooltip": null,
            "disabled": false,
            "index": 1,
            "layout": "IPY_MODEL_7a6fba111cfd4f8aab44a23ce2d32e1e",
            "style": "IPY_MODEL_9fbd705c0f9d47509be18a42992f2f68"
          }
        },
        "0f3996c1ad0640db8d588144e1de8610": {
          "model_module": "@jupyter-widgets/controls",
          "model_name": "BoundedIntTextModel",
          "model_module_version": "1.5.0",
          "state": {
            "_dom_classes": [],
            "_model_module": "@jupyter-widgets/controls",
            "_model_module_version": "1.5.0",
            "_model_name": "BoundedIntTextModel",
            "_view_count": null,
            "_view_module": "@jupyter-widgets/controls",
            "_view_module_version": "1.5.0",
            "_view_name": "IntTextView",
            "continuous_update": false,
            "description": "idx",
            "description_tooltip": null,
            "disabled": false,
            "layout": "IPY_MODEL_580b7d765a434817bf86350113928389",
            "max": 9999,
            "min": 0,
            "step": 1,
            "style": "IPY_MODEL_206c466a1f4943418f27c507d65fc1f0",
            "value": 5566
          }
        },
        "5c20d59fb40740fe91e0191167e32eed": {
          "model_module": "@jupyter-widgets/output",
          "model_name": "OutputModel",
          "model_module_version": "1.0.0",
          "state": {
            "_dom_classes": [],
            "_model_module": "@jupyter-widgets/output",
            "_model_module_version": "1.0.0",
            "_model_name": "OutputModel",
            "_view_count": null,
            "_view_module": "@jupyter-widgets/output",
            "_view_module_version": "1.0.0",
            "_view_name": "OutputView",
            "layout": "IPY_MODEL_994662d010fd4dbcbdc1584d47874277",
            "msg_id": "",
            "outputs": [
              {
                "output_type": "stream",
                "name": "stdout",
                "text": [
                  "\r\u001b[1m1/1\u001b[0m \u001b[32m━━━━━━━━━━━━━━━━━━━━\u001b[0m\u001b[37m\u001b[0m \u001b[1m0s\u001b[0m 16ms/step"
                ]
              },
              {
                "output_type": "stream",
                "name": "stdout",
                "text": [
                  "\b\b\b\b\b\b\b\b\b\b\b\b\b\b\b\b\b\b\b\b\b\b\b\b\b\b\b\b\b\b\b\b\b\b\b\b\b\r\u001b[1m1/1\u001b[0m \u001b[32m━━━━━━━━━━━━━━━━━━━━\u001b[0m\u001b[37m\u001b[0m \u001b[1m0s\u001b[0m 29ms/step\n"
                ]
              },
              {
                "output_type": "stream",
                "name": "stdout",
                "text": [
                  "預測正確!\n"
                ]
              },
              {
                "output_type": "display_data",
                "data": {
                  "text/plain": "<Figure size 1200x500 with 2 Axes>",
                  "image/png": "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\n"
                },
                "metadata": {}
              }
            ]
          }
        },
        "75e8336b121e43dcac12aeffd6f20e29": {
          "model_module": "@jupyter-widgets/base",
          "model_name": "LayoutModel",
          "model_module_version": "1.2.0",
          "state": {
            "_model_module": "@jupyter-widgets/base",
            "_model_module_version": "1.2.0",
            "_model_name": "LayoutModel",
            "_view_count": null,
            "_view_module": "@jupyter-widgets/base",
            "_view_module_version": "1.2.0",
            "_view_name": "LayoutView",
            "align_content": null,
            "align_items": null,
            "align_self": null,
            "border": null,
            "bottom": null,
            "display": null,
            "flex": null,
            "flex_flow": null,
            "grid_area": null,
            "grid_auto_columns": null,
            "grid_auto_flow": null,
            "grid_auto_rows": null,
            "grid_column": null,
            "grid_gap": null,
            "grid_row": null,
            "grid_template_areas": null,
            "grid_template_columns": null,
            "grid_template_rows": null,
            "height": null,
            "justify_content": null,
            "justify_items": null,
            "left": null,
            "margin": null,
            "max_height": null,
            "max_width": null,
            "min_height": null,
            "min_width": null,
            "object_fit": null,
            "object_position": null,
            "order": null,
            "overflow": null,
            "overflow_x": null,
            "overflow_y": null,
            "padding": null,
            "right": null,
            "top": null,
            "visibility": null,
            "width": null
          }
        },
        "7a6fba111cfd4f8aab44a23ce2d32e1e": {
          "model_module": "@jupyter-widgets/base",
          "model_name": "LayoutModel",
          "model_module_version": "1.2.0",
          "state": {
            "_model_module": "@jupyter-widgets/base",
            "_model_module_version": "1.2.0",
            "_model_name": "LayoutModel",
            "_view_count": null,
            "_view_module": "@jupyter-widgets/base",
            "_view_module_version": "1.2.0",
            "_view_name": "LayoutView",
            "align_content": null,
            "align_items": null,
            "align_self": null,
            "border": null,
            "bottom": null,
            "display": null,
            "flex": null,
            "flex_flow": null,
            "grid_area": null,
            "grid_auto_columns": null,
            "grid_auto_flow": null,
            "grid_auto_rows": null,
            "grid_column": null,
            "grid_gap": null,
            "grid_row": null,
            "grid_template_areas": null,
            "grid_template_columns": null,
            "grid_template_rows": null,
            "height": null,
            "justify_content": null,
            "justify_items": null,
            "left": null,
            "margin": null,
            "max_height": null,
            "max_width": null,
            "min_height": null,
            "min_width": null,
            "object_fit": null,
            "object_position": null,
            "order": null,
            "overflow": null,
            "overflow_x": null,
            "overflow_y": null,
            "padding": null,
            "right": null,
            "top": null,
            "visibility": null,
            "width": null
          }
        },
        "9fbd705c0f9d47509be18a42992f2f68": {
          "model_module": "@jupyter-widgets/controls",
          "model_name": "DescriptionStyleModel",
          "model_module_version": "1.5.0",
          "state": {
            "_model_module": "@jupyter-widgets/controls",
            "_model_module_version": "1.5.0",
            "_model_name": "DescriptionStyleModel",
            "_view_count": null,
            "_view_module": "@jupyter-widgets/base",
            "_view_module_version": "1.2.0",
            "_view_name": "StyleView",
            "description_width": ""
          }
        },
        "580b7d765a434817bf86350113928389": {
          "model_module": "@jupyter-widgets/base",
          "model_name": "LayoutModel",
          "model_module_version": "1.2.0",
          "state": {
            "_model_module": "@jupyter-widgets/base",
            "_model_module_version": "1.2.0",
            "_model_name": "LayoutModel",
            "_view_count": null,
            "_view_module": "@jupyter-widgets/base",
            "_view_module_version": "1.2.0",
            "_view_name": "LayoutView",
            "align_content": null,
            "align_items": null,
            "align_self": null,
            "border": null,
            "bottom": null,
            "display": null,
            "flex": null,
            "flex_flow": null,
            "grid_area": null,
            "grid_auto_columns": null,
            "grid_auto_flow": null,
            "grid_auto_rows": null,
            "grid_column": null,
            "grid_gap": null,
            "grid_row": null,
            "grid_template_areas": null,
            "grid_template_columns": null,
            "grid_template_rows": null,
            "height": null,
            "justify_content": null,
            "justify_items": null,
            "left": null,
            "margin": null,
            "max_height": null,
            "max_width": null,
            "min_height": null,
            "min_width": null,
            "object_fit": null,
            "object_position": null,
            "order": null,
            "overflow": null,
            "overflow_x": null,
            "overflow_y": null,
            "padding": null,
            "right": null,
            "top": null,
            "visibility": null,
            "width": null
          }
        },
        "206c466a1f4943418f27c507d65fc1f0": {
          "model_module": "@jupyter-widgets/controls",
          "model_name": "DescriptionStyleModel",
          "model_module_version": "1.5.0",
          "state": {
            "_model_module": "@jupyter-widgets/controls",
            "_model_module_version": "1.5.0",
            "_model_name": "DescriptionStyleModel",
            "_view_count": null,
            "_view_module": "@jupyter-widgets/base",
            "_view_module_version": "1.2.0",
            "_view_name": "StyleView",
            "description_width": ""
          }
        },
        "994662d010fd4dbcbdc1584d47874277": {
          "model_module": "@jupyter-widgets/base",
          "model_name": "LayoutModel",
          "model_module_version": "1.2.0",
          "state": {
            "_model_module": "@jupyter-widgets/base",
            "_model_module_version": "1.2.0",
            "_model_name": "LayoutModel",
            "_view_count": null,
            "_view_module": "@jupyter-widgets/base",
            "_view_module_version": "1.2.0",
            "_view_name": "LayoutView",
            "align_content": null,
            "align_items": null,
            "align_self": null,
            "border": null,
            "bottom": null,
            "display": null,
            "flex": null,
            "flex_flow": null,
            "grid_area": null,
            "grid_auto_columns": null,
            "grid_auto_flow": null,
            "grid_auto_rows": null,
            "grid_column": null,
            "grid_gap": null,
            "grid_row": null,
            "grid_template_areas": null,
            "grid_template_columns": null,
            "grid_template_rows": null,
            "height": null,
            "justify_content": null,
            "justify_items": null,
            "left": null,
            "margin": null,
            "max_height": null,
            "max_width": null,
            "min_height": null,
            "min_width": null,
            "object_fit": null,
            "object_position": null,
            "order": null,
            "overflow": null,
            "overflow_x": null,
            "overflow_y": null,
            "padding": null,
            "right": null,
            "top": null,
            "visibility": null,
            "width": null
          }
        }
      }
    }
  },
  "cells": [
    {
      "cell_type": "markdown",
      "metadata": {
        "id": "view-in-github",
        "colab_type": "text"
      },
      "source": [
        "<a href=\"https://colab.research.google.com/github/allenlincg/aipractice/blob/main/Colab%E5%AF%A6%E4%BD%9C%EF%BC%9A%E5%BB%BA%E7%AB%8B_MNIST_%E6%89%8B%E5%AF%AB%E5%9C%96%E7%89%87%E7%9A%84_RNN_%E5%88%86%E9%A1%9E%E6%A8%A1%E5%9E%8B.ipynb\" target=\"_parent\"><img src=\"https://colab.research.google.com/assets/colab-badge.svg\" alt=\"Open In Colab\"/></a>"
      ]
    },
    {
      "cell_type": "markdown",
      "metadata": {
        "id": "sJr4nMgyb9oS"
      },
      "source": [
        "\n",
        "<p align=\"center\">\n",
        "  <img src=\"https://storage.googleapis.com/kaggle-competitions/kaggle/3004/logos/header.png\"\n",
        "  />\n",
        "  <center>MNIST 手寫數字資料庫</center>\n",
        "  <center>圖片來源: https://www.kaggle.com/</center>\n",
        "</p>"
      ]
    },
    {
      "cell_type": "markdown",
      "metadata": {
        "id": "vVF9I9v6Zipb"
      },
      "source": [
        "## 1: 切換 TensorFlow 至 2.x 版"
      ]
    },
    {
      "cell_type": "code",
      "metadata": {
        "id": "WS6fShx3Za4O",
        "colab": {
          "base_uri": "https://localhost:8080/"
        },
        "outputId": "1bf50972-7e14-480f-d2dd-697f84829906"
      },
      "source": [
        "%tensorflow_version 2.x"
      ],
      "execution_count": 1,
      "outputs": [
        {
          "output_type": "stream",
          "name": "stdout",
          "text": [
            "Colab only includes TensorFlow 2.x; %tensorflow_version has no effect.\n"
          ]
        }
      ]
    },
    {
      "cell_type": "markdown",
      "metadata": {
        "id": "DjlnjPnjWYFw"
      },
      "source": [
        "## 2: 載入套件及資料集"
      ]
    },
    {
      "cell_type": "code",
      "metadata": {
        "id": "ItqXJrqzdnXB"
      },
      "source": [
        "%matplotlib inline\n",
        "# Import some useful package\n",
        "import matplotlib.pyplot as plt\n",
        "import numpy as np\n",
        "from ipywidgets import interact, IntSlider, BoundedIntText\n",
        "\n",
        "# For DNN\n",
        "from tensorflow.keras.models import Sequential\n",
        "from tensorflow.keras.layers import Dense\n",
        "\n",
        "# For RNN\n",
        "from tensorflow.keras.layers import SimpleRNN, LSTM, GRU\n",
        "\n",
        "# For training\n",
        "from tensorflow.keras.optimizers import SGD, Adam, RMSprop\n",
        "\n",
        "# For data preprocessing\n",
        "from tensorflow.keras import datasets\n",
        "from tensorflow.keras.utils import to_categorical\n",
        "from tensorflow.keras.preprocessing.sequence import pad_sequences"
      ],
      "execution_count": 2,
      "outputs": []
    },
    {
      "cell_type": "markdown",
      "metadata": {
        "id": "K2OiUS-kWkJU"
      },
      "source": [
        "## 3: 資料前處理 (Data Preprocessing)"
      ]
    },
    {
      "cell_type": "markdown",
      "metadata": {
        "id": "Rkr6VUS3GVcn"
      },
      "source": [
        "在這裡，我們需要用兩種不同的方式來進行 MNIST 的 RNN 分類模型。\n",
        "\n",
        "1. 每次看一個點：將每張圖片拉長成 784 維的向量，並當作一個 784 個時間點的資料，且每個時間的資料維度是 1。\n",
        "2. 每次看一列向量：將每張圖片看成 28 個 28 維的列向量 (row vector)，並當作一個 28 個時間點的資料，且每個時間的資料維度是 28。"
      ]
    },
    {
      "cell_type": "code",
      "metadata": {
        "id": "-lCgz6UC8pKT",
        "colab": {
          "base_uri": "https://localhost:8080/"
        },
        "outputId": "395caf8f-132b-4aac-feeb-f4ab12c58fd0"
      },
      "source": [
        "(X_train, y_train), (X_test, y_test) = datasets.mnist.load_data()"
      ],
      "execution_count": 3,
      "outputs": [
        {
          "output_type": "stream",
          "name": "stdout",
          "text": [
            "Downloading data from https://storage.googleapis.com/tensorflow/tf-keras-datasets/mnist.npz\n",
            "\u001b[1m11490434/11490434\u001b[0m \u001b[32m━━━━━━━━━━━━━━━━━━━━\u001b[0m\u001b[37m\u001b[0m \u001b[1m0s\u001b[0m 0us/step\n"
          ]
        }
      ]
    },
    {
      "cell_type": "code",
      "metadata": {
        "id": "oSFL-xv9vUpH",
        "outputId": "fb5f7c34-0667-4ae2-b678-ea219909b361",
        "colab": {
          "base_uri": "https://localhost:8080/",
          "height": 406
        }
      },
      "source": [
        "plt.imshow(X_train[0], 'gray_r')\n",
        "plt.xticks([])\n",
        "plt.yticks([])\n",
        "plt.xlim(0, 28)\n",
        "plt.ylim(28, 0)\n",
        "for i in range(28):\n",
        "#     plt.vlines(i, 0, 28, colors='b')\n",
        "    plt.hlines(i, 0, 28, colors='b')\n",
        "plt.savefig('example_mnist_5_row')"
      ],
      "execution_count": 6,
      "outputs": [
        {
          "output_type": "display_data",
          "data": {
            "text/plain": [
              "<Figure size 640x480 with 1 Axes>"
            ],
            "image/png": "[encoded data removed]"
          },
          "metadata": {}
        }
      ]
    },
    {
      "cell_type": "code",
      "metadata": {
        "id": "j67xlCR5D3ad",
        "outputId": "2bfd729c-4857-4c57-fd9e-1c81e32e4051",
        "colab": {
          "base_uri": "https://localhost:8080/",
          "height": 359
        }
      },
      "source": [
        "plt.figure(figsize=(8, 4))\n",
        "plt.subplot(1, 2, 1)\n",
        "plt.imshow(X_train[0], 'gray_r')\n",
        "plt.xticks([])\n",
        "plt.yticks([])\n",
        "plt.title('Raw Image')\n",
        "\n",
        "plt.subplot(1, 2, 2)\n",
        "plt.imshow(X_train[0], 'gray_r')\n",
        "plt.xlim(0, 28)\n",
        "plt.ylim(28, 0)\n",
        "plt.xticks([])\n",
        "plt.yticks([])\n",
        "plt.title('Row Split')\n",
        "for i in range(28):\n",
        "    # plt.vlines(i, 0, 28, colors='b')\n",
        "    plt.hlines(i, 0, 28, colors='k')\n",
        "\n",
        "print(\"Data shape:\", X_train[0].shape)"
      ],
      "execution_count": 7,
      "outputs": [
        {
          "output_type": "stream",
          "name": "stdout",
          "text": [
            "Data shape: (28, 28)\n"
          ]
        },
        {
          "output_type": "display_data",
          "data": {
            "text/plain": [
              "<Figure size 800x400 with 2 Axes>"
            ],
            "image/png": "[encoded data removed]"
          },
          "metadata": {}
        }
      ]
    },
    {
      "cell_type": "code",
      "metadata": {
        "id": "LoaIqr91O7ft"
      },
      "source": [
        "# Normalize data range\n",
        "X_train = X_train / X_train.max()\n",
        "X_test = X_test / X_test.max()\n",
        "\n",
        "# Reshape each data as a vector\n",
        "X_vec_train = X_train.reshape(-1, 28*28, 1)\n",
        "X_vec_test = X_test.reshape(-1, 28*28, 1)\n",
        "\n",
        "# One-hot encoding\n",
        "y_train = to_categorical(y_train, 10)\n",
        "y_test = to_categorical(y_test, 10)"
      ],
      "execution_count": 8,
      "outputs": []
    },
    {
      "cell_type": "markdown",
      "metadata": {
        "id": "u1O7pbttHcOv"
      },
      "source": [
        "## 4: 建立逐點輸入的 LSTM 分類模型"
      ]
    },
    {
      "cell_type": "code",
      "metadata": {
        "id": "sWa26z1-S_q9",
        "outputId": "7279b9ea-51f5-461a-f649-1cea07a7220f",
        "colab": {
          "base_uri": "https://localhost:8080/",
          "height": 197
        }
      },
      "source": [
        "model_pixel = Sequential()\n",
        "#model_pixel.add(SimpleRNN(40, input_shape=(784, 1)))\n",
        "model_pixel.add(LSTM(40, input_shape=(784, 1)))\n",
        "# model_pixel.add(GRU(40, input_shape=(784, 1)))\n",
        "model_pixel.add(Dense(10, activation='softmax'))\n",
        "model_pixel.summary()"
      ],
      "execution_count": 36,
      "outputs": [
        {
          "output_type": "display_data",
          "data": {
            "text/plain": [
              "\u001b[1mModel: \"sequential_7\"\u001b[0m\n"
            ],
            "text/html": [
              "<pre style=\"white-space:pre;overflow-x:auto;line-height:normal;font-family:Menlo,'DejaVu Sans Mono',consolas,'Courier New',monospace\"><span style=\"font-weight: bold\">Model: \"sequential_7\"</span>\n",
              "</pre>\n"
            ]
          },
          "metadata": {}
        },
        {
          "output_type": "display_data",
          "data": {
            "text/plain": [
              "┏━━━━━━━━━━━━━━━━━━━━━━━━━━━━━━━━━┳━━━━━━━━━━━━━━━━━━━━━━━━┳━━━━━━━━━━━━━━━┓\n",
              "┃\u001b[1m \u001b[0m\u001b[1mLayer (type)                   \u001b[0m\u001b[1m \u001b[0m┃\u001b[1m \u001b[0m\u001b[1mOutput Shape          \u001b[0m\u001b[1m \u001b[0m┃\u001b[1m \u001b[0m\u001b[1m      Param #\u001b[0m\u001b[1m \u001b[0m┃\n",
              "┡━━━━━━━━━━━━━━━━━━━━━━━━━━━━━━━━━╇━━━━━━━━━━━━━━━━━━━━━━━━╇━━━━━━━━━━━━━━━┩\n",
              "│ lstm_1 (\u001b[38;5;33mLSTM\u001b[0m)                   │ (\u001b[38;5;45mNone\u001b[0m, \u001b[38;5;34m40\u001b[0m)             │         \u001b[38;5;34m6,720\u001b[0m │\n",
              "├─────────────────────────────────┼────────────────────────┼───────────────┤\n",
              "│ dense_7 (\u001b[38;5;33mDense\u001b[0m)                 │ (\u001b[38;5;45mNone\u001b[0m, \u001b[38;5;34m10\u001b[0m)             │           \u001b[38;5;34m410\u001b[0m │\n",
              "└─────────────────────────────────┴────────────────────────┴───────────────┘\n"
            ],
            "text/html": [
              "<pre style=\"white-space:pre;overflow-x:auto;line-height:normal;font-family:Menlo,'DejaVu Sans Mono',consolas,'Courier New',monospace\">┏━━━━━━━━━━━━━━━━━━━━━━━━━━━━━━━━━┳━━━━━━━━━━━━━━━━━━━━━━━━┳━━━━━━━━━━━━━━━┓\n",
              "┃<span style=\"font-weight: bold\"> Layer (type)                    </span>┃<span style=\"font-weight: bold\"> Output Shape           </span>┃<span style=\"font-weight: bold\">       Param # </span>┃\n",
              "┡━━━━━━━━━━━━━━━━━━━━━━━━━━━━━━━━━╇━━━━━━━━━━━━━━━━━━━━━━━━╇━━━━━━━━━━━━━━━┩\n",
              "│ lstm_1 (<span style=\"color: #0087ff; text-decoration-color: #0087ff\">LSTM</span>)                   │ (<span style=\"color: #00d7ff; text-decoration-color: #00d7ff\">None</span>, <span style=\"color: #00af00; text-decoration-color: #00af00\">40</span>)             │         <span style=\"color: #00af00; text-decoration-color: #00af00\">6,720</span> │\n",
              "├─────────────────────────────────┼────────────────────────┼───────────────┤\n",
              "│ dense_7 (<span style=\"color: #0087ff; text-decoration-color: #0087ff\">Dense</span>)                 │ (<span style=\"color: #00d7ff; text-decoration-color: #00d7ff\">None</span>, <span style=\"color: #00af00; text-decoration-color: #00af00\">10</span>)             │           <span style=\"color: #00af00; text-decoration-color: #00af00\">410</span> │\n",
              "└─────────────────────────────────┴────────────────────────┴───────────────┘\n",
              "</pre>\n"
            ]
          },
          "metadata": {}
        },
        {
          "output_type": "display_data",
          "data": {
            "text/plain": [
              "\u001b[1m Total params: \u001b[0m\u001b[38;5;34m7,130\u001b[0m (27.85 KB)\n"
            ],
            "text/html": [
              "<pre style=\"white-space:pre;overflow-x:auto;line-height:normal;font-family:Menlo,'DejaVu Sans Mono',consolas,'Courier New',monospace\"><span style=\"font-weight: bold\"> Total params: </span><span style=\"color: #00af00; text-decoration-color: #00af00\">7,130</span> (27.85 KB)\n",
              "</pre>\n"
            ]
          },
          "metadata": {}
        },
        {
          "output_type": "display_data",
          "data": {
            "text/plain": [
              "\u001b[1m Trainable params: \u001b[0m\u001b[38;5;34m7,130\u001b[0m (27.85 KB)\n"
            ],
            "text/html": [
              "<pre style=\"white-space:pre;overflow-x:auto;line-height:normal;font-family:Menlo,'DejaVu Sans Mono',consolas,'Courier New',monospace\"><span style=\"font-weight: bold\"> Trainable params: </span><span style=\"color: #00af00; text-decoration-color: #00af00\">7,130</span> (27.85 KB)\n",
              "</pre>\n"
            ]
          },
          "metadata": {}
        },
        {
          "output_type": "display_data",
          "data": {
            "text/plain": [
              "\u001b[1m Non-trainable params: \u001b[0m\u001b[38;5;34m0\u001b[0m (0.00 B)\n"
            ],
            "text/html": [
              "<pre style=\"white-space:pre;overflow-x:auto;line-height:normal;font-family:Menlo,'DejaVu Sans Mono',consolas,'Courier New',monospace\"><span style=\"font-weight: bold\"> Non-trainable params: </span><span style=\"color: #00af00; text-decoration-color: #00af00\">0</span> (0.00 B)\n",
              "</pre>\n"
            ]
          },
          "metadata": {}
        }
      ]
    },
    {
      "cell_type": "code",
      "metadata": {
        "id": "lHA0KWEkPnK6"
      },
      "source": [
        "model_pixel.compile(loss='categorical_crossentropy',\n",
        "                    optimizer=SGD(),\n",
        "                    metrics=['categorical_accuracy'])"
      ],
      "execution_count": 37,
      "outputs": []
    },
    {
      "cell_type": "code",
      "metadata": {
        "id": "m57f2jC1v8cd",
        "colab": {
          "base_uri": "https://localhost:8080/"
        },
        "outputId": "d102ddfb-bf48-4d38-dd46-b2b2fc4cc413"
      },
      "source": [
        "training_history = model_pixel.fit(X_vec_train, y_train,\n",
        "                                   batch_size=512,\n",
        "                                   epochs=5,\n",
        "                                   validation_data=(X_vec_test, y_test)\n",
        "                                   )"
      ],
      "execution_count": 38,
      "outputs": [
        {
          "output_type": "stream",
          "name": "stdout",
          "text": [
            "Epoch 1/5\n",
            "\u001b[1m118/118\u001b[0m \u001b[32m━━━━━━━━━━━━━━━━━━━━\u001b[0m\u001b[37m\u001b[0m \u001b[1m6s\u001b[0m 48ms/step - categorical_accuracy: 0.1086 - loss: 2.3024 - val_categorical_accuracy: 0.1135 - val_loss: 2.3019\n",
            "Epoch 2/5\n",
            "\u001b[1m118/118\u001b[0m \u001b[32m━━━━━━━━━━━━━━━━━━━━\u001b[0m\u001b[37m\u001b[0m \u001b[1m5s\u001b[0m 43ms/step - categorical_accuracy: 0.1112 - loss: 2.3019 - val_categorical_accuracy: 0.1135 - val_loss: 2.3015\n",
            "Epoch 3/5\n",
            "\u001b[1m118/118\u001b[0m \u001b[32m━━━━━━━━━━━━━━━━━━━━\u001b[0m\u001b[37m\u001b[0m \u001b[1m5s\u001b[0m 45ms/step - categorical_accuracy: 0.1115 - loss: 2.3016 - val_categorical_accuracy: 0.1135 - val_loss: 2.3013\n",
            "Epoch 4/5\n",
            "\u001b[1m118/118\u001b[0m \u001b[32m━━━━━━━━━━━━━━━━━━━━\u001b[0m\u001b[37m\u001b[0m \u001b[1m5s\u001b[0m 46ms/step - categorical_accuracy: 0.1130 - loss: 2.3013 - val_categorical_accuracy: 0.1135 - val_loss: 2.3012\n",
            "Epoch 5/5\n",
            "\u001b[1m118/118\u001b[0m \u001b[32m━━━━━━━━━━━━━━━━━━━━\u001b[0m\u001b[37m\u001b[0m \u001b[1m5s\u001b[0m 45ms/step - categorical_accuracy: 0.1128 - loss: 2.3012 - val_categorical_accuracy: 0.1135 - val_loss: 2.3011\n"
          ]
        }
      ]
    },
    {
      "cell_type": "code",
      "metadata": {
        "id": "ONaB2OKzv8g_"
      },
      "source": [],
      "execution_count": null,
      "outputs": []
    },
    {
      "cell_type": "markdown",
      "metadata": {
        "id": "Ytj93cd4Ivq2"
      },
      "source": [
        "## 5: 建立列向量當輸入的 LSTM 分類模型"
      ]
    },
    {
      "cell_type": "code",
      "metadata": {
        "id": "vbw7uC6U0rwZ",
        "outputId": "5f83c9f8-18e0-4e2a-fc0d-7bcf0701f790",
        "colab": {
          "base_uri": "https://localhost:8080/",
          "height": 197
        }
      },
      "source": [
        "model_row = Sequential()\n",
        "#model_row.add(SimpleRNN(40, input_shape=(28, 28)))\n",
        "model_row.add(LSTM(40, input_shape=(28, 28)))\n",
        "#model_row.add(GRU(40, input_shape=(28, 28)))\n",
        "model_row.add(Dense(10, activation='softmax'))\n",
        "model_row.summary()"
      ],
      "execution_count": 32,
      "outputs": [
        {
          "output_type": "display_data",
          "data": {
            "text/plain": [
              "\u001b[1mModel: \"sequential_5\"\u001b[0m\n"
            ],
            "text/html": [
              "<pre style=\"white-space:pre;overflow-x:auto;line-height:normal;font-family:Menlo,'DejaVu Sans Mono',consolas,'Courier New',monospace\"><span style=\"font-weight: bold\">Model: \"sequential_5\"</span>\n",
              "</pre>\n"
            ]
          },
          "metadata": {}
        },
        {
          "output_type": "display_data",
          "data": {
            "text/plain": [
              "┏━━━━━━━━━━━━━━━━━━━━━━━━━━━━━━━━━┳━━━━━━━━━━━━━━━━━━━━━━━━┳━━━━━━━━━━━━━━━┓\n",
              "┃\u001b[1m \u001b[0m\u001b[1mLayer (type)                   \u001b[0m\u001b[1m \u001b[0m┃\u001b[1m \u001b[0m\u001b[1mOutput Shape          \u001b[0m\u001b[1m \u001b[0m┃\u001b[1m \u001b[0m\u001b[1m      Param #\u001b[0m\u001b[1m \u001b[0m┃\n",
              "┡━━━━━━━━━━━━━━━━━━━━━━━━━━━━━━━━━╇━━━━━━━━━━━━━━━━━━━━━━━━╇━━━━━━━━━━━━━━━┩\n",
              "│ simple_rnn_4 (\u001b[38;5;33mSimpleRNN\u001b[0m)        │ (\u001b[38;5;45mNone\u001b[0m, \u001b[38;5;34m40\u001b[0m)             │         \u001b[38;5;34m2,760\u001b[0m │\n",
              "├─────────────────────────────────┼────────────────────────┼───────────────┤\n",
              "│ dense_5 (\u001b[38;5;33mDense\u001b[0m)                 │ (\u001b[38;5;45mNone\u001b[0m, \u001b[38;5;34m10\u001b[0m)             │           \u001b[38;5;34m410\u001b[0m │\n",
              "└─────────────────────────────────┴────────────────────────┴───────────────┘\n"
            ],
            "text/html": [
              "<pre style=\"white-space:pre;overflow-x:auto;line-height:normal;font-family:Menlo,'DejaVu Sans Mono',consolas,'Courier New',monospace\">┏━━━━━━━━━━━━━━━━━━━━━━━━━━━━━━━━━┳━━━━━━━━━━━━━━━━━━━━━━━━┳━━━━━━━━━━━━━━━┓\n",
              "┃<span style=\"font-weight: bold\"> Layer (type)                    </span>┃<span style=\"font-weight: bold\"> Output Shape           </span>┃<span style=\"font-weight: bold\">       Param # </span>┃\n",
              "┡━━━━━━━━━━━━━━━━━━━━━━━━━━━━━━━━━╇━━━━━━━━━━━━━━━━━━━━━━━━╇━━━━━━━━━━━━━━━┩\n",
              "│ simple_rnn_4 (<span style=\"color: #0087ff; text-decoration-color: #0087ff\">SimpleRNN</span>)        │ (<span style=\"color: #00d7ff; text-decoration-color: #00d7ff\">None</span>, <span style=\"color: #00af00; text-decoration-color: #00af00\">40</span>)             │         <span style=\"color: #00af00; text-decoration-color: #00af00\">2,760</span> │\n",
              "├─────────────────────────────────┼────────────────────────┼───────────────┤\n",
              "│ dense_5 (<span style=\"color: #0087ff; text-decoration-color: #0087ff\">Dense</span>)                 │ (<span style=\"color: #00d7ff; text-decoration-color: #00d7ff\">None</span>, <span style=\"color: #00af00; text-decoration-color: #00af00\">10</span>)             │           <span style=\"color: #00af00; text-decoration-color: #00af00\">410</span> │\n",
              "└─────────────────────────────────┴────────────────────────┴───────────────┘\n",
              "</pre>\n"
            ]
          },
          "metadata": {}
        },
        {
          "output_type": "display_data",
          "data": {
            "text/plain": [
              "\u001b[1m Total params: \u001b[0m\u001b[38;5;34m3,170\u001b[0m (12.38 KB)\n"
            ],
            "text/html": [
              "<pre style=\"white-space:pre;overflow-x:auto;line-height:normal;font-family:Menlo,'DejaVu Sans Mono',consolas,'Courier New',monospace\"><span style=\"font-weight: bold\"> Total params: </span><span style=\"color: #00af00; text-decoration-color: #00af00\">3,170</span> (12.38 KB)\n",
              "</pre>\n"
            ]
          },
          "metadata": {}
        },
        {
          "output_type": "display_data",
          "data": {
            "text/plain": [
              "\u001b[1m Trainable params: \u001b[0m\u001b[38;5;34m3,170\u001b[0m (12.38 KB)\n"
            ],
            "text/html": [
              "<pre style=\"white-space:pre;overflow-x:auto;line-height:normal;font-family:Menlo,'DejaVu Sans Mono',consolas,'Courier New',monospace\"><span style=\"font-weight: bold\"> Trainable params: </span><span style=\"color: #00af00; text-decoration-color: #00af00\">3,170</span> (12.38 KB)\n",
              "</pre>\n"
            ]
          },
          "metadata": {}
        },
        {
          "output_type": "display_data",
          "data": {
            "text/plain": [
              "\u001b[1m Non-trainable params: \u001b[0m\u001b[38;5;34m0\u001b[0m (0.00 B)\n"
            ],
            "text/html": [
              "<pre style=\"white-space:pre;overflow-x:auto;line-height:normal;font-family:Menlo,'DejaVu Sans Mono',consolas,'Courier New',monospace\"><span style=\"font-weight: bold\"> Non-trainable params: </span><span style=\"color: #00af00; text-decoration-color: #00af00\">0</span> (0.00 B)\n",
              "</pre>\n"
            ]
          },
          "metadata": {}
        }
      ]
    },
    {
      "cell_type": "code",
      "metadata": {
        "id": "-k7ezbFi0r1Y"
      },
      "source": [
        "model_row.compile(loss='categorical_crossentropy',\n",
        "                  optimizer=RMSprop(),\n",
        "                  metrics=['categorical_accuracy'])"
      ],
      "execution_count": 18,
      "outputs": []
    },
    {
      "cell_type": "code",
      "metadata": {
        "id": "ql3o2VDP0r33",
        "outputId": "812f4c3e-c6ee-4be9-cbee-35b01b7406a9",
        "colab": {
          "base_uri": "https://localhost:8080/"
        }
      },
      "source": [
        "training_history = model_row.fit(X_train, y_train,\n",
        "                                 batch_size=512,\n",
        "                                 epochs=5,\n",
        "                                 validation_data=(X_test, y_test)\n",
        "                                 )"
      ],
      "execution_count": 19,
      "outputs": [
        {
          "output_type": "stream",
          "name": "stdout",
          "text": [
            "Epoch 1/5\n",
            "\u001b[1m118/118\u001b[0m \u001b[32m━━━━━━━━━━━━━━━━━━━━\u001b[0m\u001b[37m\u001b[0m \u001b[1m4s\u001b[0m 21ms/step - categorical_accuracy: 0.4017 - loss: 1.7349 - val_categorical_accuracy: 0.6697 - val_loss: 1.0159\n",
            "Epoch 2/5\n",
            "\u001b[1m118/118\u001b[0m \u001b[32m━━━━━━━━━━━━━━━━━━━━\u001b[0m\u001b[37m\u001b[0m \u001b[1m1s\u001b[0m 7ms/step - categorical_accuracy: 0.7130 - loss: 0.8964 - val_categorical_accuracy: 0.7771 - val_loss: 0.7081\n",
            "Epoch 3/5\n",
            "\u001b[1m118/118\u001b[0m \u001b[32m━━━━━━━━━━━━━━━━━━━━\u001b[0m\u001b[37m\u001b[0m \u001b[1m1s\u001b[0m 6ms/step - categorical_accuracy: 0.7778 - loss: 0.6910 - val_categorical_accuracy: 0.7828 - val_loss: 0.6634\n",
            "Epoch 4/5\n",
            "\u001b[1m118/118\u001b[0m \u001b[32m━━━━━━━━━━━━━━━━━━━━\u001b[0m\u001b[37m\u001b[0m \u001b[1m1s\u001b[0m 6ms/step - categorical_accuracy: 0.8165 - loss: 0.5873 - val_categorical_accuracy: 0.8299 - val_loss: 0.5331\n",
            "Epoch 5/5\n",
            "\u001b[1m118/118\u001b[0m \u001b[32m━━━━━━━━━━━━━━━━━━━━\u001b[0m\u001b[37m\u001b[0m \u001b[1m1s\u001b[0m 6ms/step - categorical_accuracy: 0.8419 - loss: 0.5156 - val_categorical_accuracy: 0.8499 - val_loss: 0.4959\n"
          ]
        }
      ]
    },
    {
      "cell_type": "code",
      "metadata": {
        "id": "vPPc0fZILUQj"
      },
      "source": [],
      "execution_count": null,
      "outputs": []
    },
    {
      "cell_type": "markdown",
      "metadata": {
        "id": "L-97G2BMN-xh"
      },
      "source": [
        "## 6: 視覺化預測結果\n",
        "\n",
        "在這部分，我們提供簡單的視覺化方法來呈現神經網路的輸入與輸出結果"
      ]
    },
    {
      "cell_type": "code",
      "metadata": {
        "id": "2tAXamndiKEN"
      },
      "source": [
        "model_list = ['model_pixel', 'model_row']\n",
        "def visulization(model='model_row', idx=0):\n",
        "    # Random pick one data from training set\n",
        "    # idx = np.random.randint(X_train.shape[0])\n",
        "    sample_x = X_test[idx]\n",
        "    sample_y = y_test[idx]\n",
        "    # Predict the class of random data\n",
        "    if model=='model_pixel':\n",
        "        model = model_pixel\n",
        "        predict_y = model.predict(X_vec_test[idx:idx+1]).squeeze()\n",
        "    else:\n",
        "        model = model_row\n",
        "        predict_y = model.predict(X_test[idx:idx+1]).squeeze()\n",
        "    predict_label = predict_y.argmax()\n",
        "\n",
        "    fig, (ax1, ax2) = plt.subplots(1, 2, figsize=(12, 5))\n",
        "    # Plot raw image\n",
        "    ax1.imshow(sample_x, 'gray_r')\n",
        "    ax1.set_title(\"Image Label: %s\" %sample_y.argmax())\n",
        "\n",
        "    # Plot prediction probability of each classes\n",
        "    ax2.barh(np.arange(10), predict_y)\n",
        "    ax2.patches[predict_label].set_facecolor('Red')\n",
        "    ax2.set_title(\"Prediction Result: %d\" %predict_label);\n",
        "    if sample_y.argmax()==predict_y.argmax():\n",
        "        print(\"預測正確!\")\n",
        "    else:\n",
        "        print(\"預測失敗QQ\")\n",
        "    plt.show()"
      ],
      "execution_count": 29,
      "outputs": []
    },
    {
      "cell_type": "code",
      "metadata": {
        "id": "eHIOA94JiJ9t",
        "outputId": "32ec8df1-d4d5-48e2-aa5e-dceec3a65973",
        "colab": {
          "base_uri": "https://localhost:8080/",
          "height": 587,
          "referenced_widgets": [
            "3c68e98fc6bb4ec39b0609456924e412",
            "2f3f686ec0714aec8ab3148b6df96ca9",
            "0f3996c1ad0640db8d588144e1de8610",
            "5c20d59fb40740fe91e0191167e32eed",
            "75e8336b121e43dcac12aeffd6f20e29",
            "7a6fba111cfd4f8aab44a23ce2d32e1e",
            "9fbd705c0f9d47509be18a42992f2f68",
            "580b7d765a434817bf86350113928389",
            "206c466a1f4943418f27c507d65fc1f0",
            "994662d010fd4dbcbdc1584d47874277"
          ]
        }
      },
      "source": [
        "interact(visulization, model=model_list, idx=BoundedIntText(value=5566, min=0, max=X_test.shape[0]-1));"
      ],
      "execution_count": 30,
      "outputs": [
        {
          "output_type": "display_data",
          "data": {
            "text/plain": [
              "interactive(children=(Dropdown(description='model', index=1, options=('model_pixel', 'model_row'), value='mode…"
            ],
            "application/vnd.jupyter.widget-view+json": {
              "version_major": 2,
              "version_minor": 0,
              "model_id": "3c68e98fc6bb4ec39b0609456924e412"
            }
          },
          "metadata": {}
        }
      ]
    },
    {
      "cell_type": "markdown",
      "metadata": {
        "id": "WqNv1dCoBeRe"
      },
      "source": [
        "## 7: [練習] 建構屬於你自己的 RNN 分類模型\n",
        "\n",
        "1. 使用堆疊 (stack) 的方式來建構 MNIST 上的分類模型\n",
        "\n",
        "2. 使用不同的資料集 (如：CIFAR-10 或其他 Keras 提供的資料集，甚至是自己蒐集的資料等等) 來建立分類模型。\n",
        "\n",
        "注意：若要使用語言相關的語料資料，建議要有自然語言處理 (NLP) 的背景及相關知識，才有辦法針對這類問題建構神經網路模型。\n",
        "\n"
      ]
    }
  ]
}