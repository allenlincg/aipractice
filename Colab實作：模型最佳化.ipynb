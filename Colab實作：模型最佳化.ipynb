{
  "nbformat": 4,
  "nbformat_minor": 0,
  "metadata": {
    "colab": {
      "provenance": [],
      "toc_visible": true,
      "include_colab_link": true
    },
    "kernelspec": {
      "name": "python3",
      "display_name": "Python 3"
    },
    "accelerator": "GPU"
  },
  "cells": [
    {
      "cell_type": "markdown",
      "metadata": {
        "id": "view-in-github",
        "colab_type": "text"
      },
      "source": [
        "<a href=\"https://colab.research.google.com/github/allenlincg/aipractice/blob/main/Colab%E5%AF%A6%E4%BD%9C%EF%BC%9A%E6%A8%A1%E5%9E%8B%E6%9C%80%E4%BD%B3%E5%8C%96.ipynb\" target=\"_parent\"><img src=\"https://colab.research.google.com/assets/colab-badge.svg\" alt=\"Open In Colab\"/></a>"
      ]
    },
    {
      "cell_type": "markdown",
      "metadata": {
        "id": "rwH465p5G1_A"
      },
      "source": [
        "\n",
        "<p align=\"center\">\n",
        "  <img src=\"https://storage.googleapis.com/kaggle-competitions/kaggle/3004/logos/header.png\"\n",
        "  />\n",
        "  <center>MNIST 手寫數字資料庫</center>\n",
        "  <center>圖片來源: https://www.kaggle.com/</center>\n",
        "</p>"
      ]
    },
    {
      "cell_type": "markdown",
      "metadata": {
        "id": "vVF9I9v6Zipb"
      },
      "source": [
        "## 1: 匯入套件\n"
      ]
    },
    {
      "cell_type": "code",
      "metadata": {
        "id": "WS6fShx3Za4O"
      },
      "source": [
        "%tensorflow_version 2.x\n",
        "%matplotlib inline\n",
        "# Import useful packages\n",
        "import matplotlib.pyplot as plt\n",
        "import numpy as np\n",
        "\n",
        "# Import necessary modules to build our first neural network model\n",
        "from tensorflow.keras.models import Sequential\n",
        "from tensorflow.keras.layers import Dense, Flatten\n",
        "\n",
        "# Import functions for data preprocessing\n",
        "from tensorflow.keras import datasets\n",
        "from tensorflow.keras.utils import to_categorical"
      ],
      "execution_count": null,
      "outputs": []
    },
    {
      "cell_type": "markdown",
      "metadata": {
        "id": "YMo4x1WaJ59b"
      },
      "source": [
        "## 2: 取得並整理 MNIST 資料集"
      ]
    },
    {
      "cell_type": "code",
      "metadata": {
        "id": "-lCgz6UC8pKT"
      },
      "source": [
        "# Load dataset\n",
        "(X_train, y_train), (X_test, y_test) = datasets.mnist.load_data()\n",
        "\n",
        "# Normalized data\n",
        "X_train = X_train / X_train.max()\n",
        "X_test = X_test / X_test.max()\n",
        "\n",
        "# Reshape data\n",
        "X_train = X_train.reshape(-1, 28*28)\n",
        "X_test = X_test.reshape(-1, 28*28)\n",
        "\n",
        "# One-hot encoding\n",
        "y_train = to_categorical(y_train, 10)\n",
        "y_test = to_categorical(y_test, 10)"
      ],
      "execution_count": null,
      "outputs": []
    },
    {
      "cell_type": "markdown",
      "metadata": {
        "id": "nvgnjLpOGv5K"
      },
      "source": [
        "## 3: 建立神經網路"
      ]
    },
    {
      "cell_type": "code",
      "metadata": {
        "id": "xmfogzmn9kqv"
      },
      "source": [
        "# Construct a NN model\n",
        "model = Sequential()\n",
        "model.add(Dense(units=128, activation='sigmoid', input_shape=(784,)))\n",
        "model.add(Dense(units=10, activation='softmax'))"
      ],
      "execution_count": null,
      "outputs": []
    },
    {
      "cell_type": "code",
      "metadata": {
        "id": "nbW3xeRK_CrN"
      },
      "source": [
        "# Compile model\n",
        "model.compile(loss='categorical_crossentropy',\n",
        "              optimizer='SGD',\n",
        "              metrics=['categorical_accuracy'])\n",
        "\n",
        "model.summary()"
      ],
      "execution_count": null,
      "outputs": []
    },
    {
      "cell_type": "code",
      "metadata": {
        "id": "-KLVObDvKOTM"
      },
      "source": [
        "training_history = model.fit(X_train, y_train,\n",
        "                             batch_size=32,\n",
        "                             epochs=5,\n",
        "                             validation_data=(X_test, y_test)\n",
        "                             )"
      ],
      "execution_count": null,
      "outputs": []
    },
    {
      "cell_type": "markdown",
      "metadata": {
        "id": "fuccKhp9KOnu"
      },
      "source": [
        "## 4: 調整神經網路的各種方式"
      ]
    },
    {
      "cell_type": "markdown",
      "metadata": {
        "id": "HKurtbPDKiG_"
      },
      "source": [
        "### a: 增加/減少訓練次數 (epochs)"
      ]
    },
    {
      "cell_type": "code",
      "metadata": {
        "id": "s-_oLiE0_3A2"
      },
      "source": [
        "training_history = model.fit(X_train, y_train,\n",
        "                             batch_size=32,\n",
        "                             # epochs=5,\n",
        "                             epochs=50,\n",
        "                             validation_data=(X_test, y_test)\n",
        "                             )"
      ],
      "execution_count": null,
      "outputs": []
    },
    {
      "cell_type": "markdown",
      "metadata": {
        "id": "Q6RLl9OGLFwR"
      },
      "source": [
        "### b: 調整批次數量 (batch size)"
      ]
    },
    {
      "cell_type": "code",
      "metadata": {
        "id": "1XT76IEvLFwY"
      },
      "source": [
        "training_history = model.fit(X_train, y_train,\n",
        "                            #  batch_size=32,\n",
        "                             batch_size=64,\n",
        "                             epochs=5,\n",
        "                             validation_data=(X_test, y_test)\n",
        "                             )"
      ],
      "execution_count": null,
      "outputs": []
    },
    {
      "cell_type": "markdown",
      "metadata": {
        "id": "1yk0I0PILk9M"
      },
      "source": [
        "### c: 考慮權重正規化 (regulization)\n",
        "\n",
        "Keras 內建正規化方式只有 L1 正規化, L2 正規化以及同時使用兩者的 L1-L2 正規化。\n",
        "\n",
        "Keras 亦提供使用者自定義正規化方式，可參考: https://keras.io/zh/regularizers/"
      ]
    },
    {
      "cell_type": "code",
      "metadata": {
        "id": "p8zFQWBHNT36"
      },
      "source": [
        "from tensorflow.keras.regularizers import l2, l1, l1_l2"
      ],
      "execution_count": null,
      "outputs": []
    },
    {
      "cell_type": "code",
      "metadata": {
        "id": "RZEPcz5PLk9P"
      },
      "source": [
        "# Construct a NN model\n",
        "model = Sequential()\n",
        "model.add(Dense(units=128, activation='sigmoid', input_shape=(784,), kernel_regularizer=l2(l=1e-4)))\n",
        "model.add(Dense(units=10, activation='softmax', kernel_regularizer=l1_l2(l1=1e-4, l2=1e-5)))"
      ],
      "execution_count": null,
      "outputs": []
    },
    {
      "cell_type": "code",
      "metadata": {
        "id": "uUVY9s_KLwwn"
      },
      "source": [
        "# Compile model\n",
        "model.compile(loss='categorical_crossentropy',\n",
        "              optimizer='SGD',\n",
        "              metrics=['categorical_accuracy'])\n",
        "\n",
        "model.summary()"
      ],
      "execution_count": null,
      "outputs": []
    },
    {
      "cell_type": "markdown",
      "metadata": {
        "id": "pu_MHjfdLm4_"
      },
      "source": [
        "### d: 調整損失函數 (loss)\n",
        "\n",
        "Keras 內建損失函數可參考: https://keras.io/zh/losses/\n",
        "\n",
        "Keras 亦提供使用者自定義損失函數。"
      ]
    },
    {
      "cell_type": "code",
      "metadata": {
        "id": "m-YRK90sMVG4"
      },
      "source": [
        "from tensorflow.keras.losses import mean_squared_error, categorical_crossentropy"
      ],
      "execution_count": null,
      "outputs": []
    },
    {
      "cell_type": "code",
      "metadata": {
        "id": "2e7jeIjGLm5D"
      },
      "source": [
        "# Compile model\n",
        "model.compile(# loss='categorical_crossentropy',\n",
        "              loss=categorical_crossentropy\n",
        "              optimizer='SGD',\n",
        "              metrics=['categorical_accuracy'])\n",
        "\n",
        "model.summary()"
      ],
      "execution_count": null,
      "outputs": []
    },
    {
      "cell_type": "markdown",
      "metadata": {
        "id": "iJCgYXnHLnTk"
      },
      "source": [
        "### e: 調整優化器 (optimizer) 及學習率 (learning rate)"
      ]
    },
    {
      "cell_type": "code",
      "metadata": {
        "id": "njuGBZMSMc5C"
      },
      "source": [
        "from tensorflow.keras.optimizers import SGD, Adam"
      ],
      "execution_count": null,
      "outputs": []
    },
    {
      "cell_type": "code",
      "metadata": {
        "id": "b8OfuSkVLnTm"
      },
      "source": [
        "# Compile model\n",
        "model.compile(loss='categorical_crossentropy',\n",
        "              # optimizer='SGD',\n",
        "              optimizer='adam'',\n",
        "              metrics=['categorical_accuracy'])\n",
        "\n",
        "model.summary()"
      ],
      "execution_count": null,
      "outputs": []
    },
    {
      "cell_type": "code",
      "metadata": {
        "id": "CziguSJgIe66"
      },
      "source": [
        "# Compile model\n",
        "model.compile(loss='categorical_crossentropy',\n",
        "              # optimizer='SGD',\n",
        "              optimizer=SGD(1e-4),\n",
        "              metrics=['categorical_accuracy'])\n",
        "\n",
        "model.summary()"
      ],
      "execution_count": null,
      "outputs": []
    },
    {
      "cell_type": "code",
      "metadata": {
        "id": "Rg5H0BrxIkUi"
      },
      "source": [
        "# Compile model\n",
        "model.compile(loss='categorical_crossentropy',\n",
        "              # optimizer='SGD',\n",
        "              metrics=['categorical_accuracy'])\n",
        "\n",
        "model.summary()"
      ],
      "execution_count": null,
      "outputs": []
    },
    {
      "cell_type": "markdown",
      "metadata": {
        "id": "YMSj5C-4Ono2"
      },
      "source": [
        "### f: 其他模型最佳化方式"
      ]
    }
  ]
}