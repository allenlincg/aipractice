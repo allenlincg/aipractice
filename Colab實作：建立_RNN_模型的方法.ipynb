{
  "nbformat": 4,
  "nbformat_minor": 0,
  "metadata": {
    "colab": {
      "provenance": [],
      "toc_visible": true,
      "include_colab_link": true
    },
    "kernelspec": {
      "name": "python3",
      "display_name": "Python 3"
    },
    "accelerator": "GPU",
    "widgets": {
      "application/vnd.jupyter.widget-state+json": {
        "daa24b8a0b9e4994a6433c511b269c5b": {
          "model_module": "@jupyter-widgets/controls",
          "model_name": "VBoxModel",
          "state": {
            "_view_name": "VBoxView",
            "_dom_classes": [
              "widget-interact"
            ],
            "_model_name": "VBoxModel",
            "_view_module": "@jupyter-widgets/controls",
            "_model_module_version": "1.5.0",
            "_view_count": null,
            "_view_module_version": "1.5.0",
            "box_style": "",
            "layout": "IPY_MODEL_da882a392adf4dcba9cc9e69ceeb5892",
            "_model_module": "@jupyter-widgets/controls",
            "children": [
              "IPY_MODEL_ee64bb5cfd3b4102888ff375e8de0af9",
              "IPY_MODEL_988522e0477248c3abd593f1b9da9621"
            ]
          },
          "model_module_version": "1.5.0"
        },
        "da882a392adf4dcba9cc9e69ceeb5892": {
          "model_module": "@jupyter-widgets/base",
          "model_name": "LayoutModel",
          "state": {
            "_view_name": "LayoutView",
            "grid_template_rows": null,
            "right": null,
            "justify_content": null,
            "_view_module": "@jupyter-widgets/base",
            "overflow": null,
            "_model_module_version": "1.2.0",
            "_view_count": null,
            "flex_flow": null,
            "width": null,
            "min_width": null,
            "border": null,
            "align_items": null,
            "bottom": null,
            "_model_module": "@jupyter-widgets/base",
            "top": null,
            "grid_column": null,
            "overflow_y": null,
            "overflow_x": null,
            "grid_auto_flow": null,
            "grid_area": null,
            "grid_template_columns": null,
            "flex": null,
            "_model_name": "LayoutModel",
            "justify_items": null,
            "grid_row": null,
            "max_height": null,
            "align_content": null,
            "visibility": null,
            "align_self": null,
            "height": null,
            "min_height": null,
            "padding": null,
            "grid_auto_rows": null,
            "grid_gap": null,
            "max_width": null,
            "order": null,
            "_view_module_version": "1.2.0",
            "grid_template_areas": null,
            "object_position": null,
            "object_fit": null,
            "grid_auto_columns": null,
            "margin": null,
            "display": null,
            "left": null
          },
          "model_module_version": "1.2.0"
        },
        "ee64bb5cfd3b4102888ff375e8de0af9": {
          "model_module": "@jupyter-widgets/controls",
          "model_name": "TextModel",
          "state": {
            "_view_name": "TextView",
            "style": "IPY_MODEL_b5d49dd8dc94458cb8932ff1026a6926",
            "_dom_classes": [],
            "description": "seq",
            "_model_name": "TextModel",
            "placeholder": "​",
            "_view_module": "@jupyter-widgets/controls",
            "_model_module_version": "1.5.0",
            "value": "10,20,30,40",
            "_view_count": null,
            "disabled": false,
            "_view_module_version": "1.5.0",
            "continuous_update": true,
            "description_tooltip": null,
            "_model_module": "@jupyter-widgets/controls",
            "layout": "IPY_MODEL_87494f9cf6a14b4cb5297fc57a669150"
          },
          "model_module_version": "1.5.0"
        },
        "988522e0477248c3abd593f1b9da9621": {
          "model_module": "@jupyter-widgets/output",
          "model_name": "OutputModel",
          "state": {
            "_view_name": "OutputView",
            "msg_id": "",
            "_dom_classes": [],
            "_model_name": "OutputModel",
            "outputs": [
              {
                "output_type": "stream",
                "metadata": {
                  "tags": []
                },
                "text": "The predicted sum of 40 is 97.966705\nCorrect answer is 100.000000\n",
                "stream": "stdout"
              }
            ],
            "_view_module": "@jupyter-widgets/output",
            "_model_module_version": "1.0.0",
            "_view_count": null,
            "_view_module_version": "1.0.0",
            "layout": "IPY_MODEL_8af471f1cbc54c69b64a4245128c2644",
            "_model_module": "@jupyter-widgets/output"
          },
          "model_module_version": "1.0.0"
        },
        "b5d49dd8dc94458cb8932ff1026a6926": {
          "model_module": "@jupyter-widgets/controls",
          "model_name": "DescriptionStyleModel",
          "state": {
            "_view_name": "StyleView",
            "_model_name": "DescriptionStyleModel",
            "description_width": "",
            "_view_module": "@jupyter-widgets/base",
            "_model_module_version": "1.5.0",
            "_view_count": null,
            "_view_module_version": "1.2.0",
            "_model_module": "@jupyter-widgets/controls"
          },
          "model_module_version": "1.5.0"
        },
        "87494f9cf6a14b4cb5297fc57a669150": {
          "model_module": "@jupyter-widgets/base",
          "model_name": "LayoutModel",
          "state": {
            "_view_name": "LayoutView",
            "grid_template_rows": null,
            "right": null,
            "justify_content": null,
            "_view_module": "@jupyter-widgets/base",
            "overflow": null,
            "_model_module_version": "1.2.0",
            "_view_count": null,
            "flex_flow": null,
            "width": null,
            "min_width": null,
            "border": null,
            "align_items": null,
            "bottom": null,
            "_model_module": "@jupyter-widgets/base",
            "top": null,
            "grid_column": null,
            "overflow_y": null,
            "overflow_x": null,
            "grid_auto_flow": null,
            "grid_area": null,
            "grid_template_columns": null,
            "flex": null,
            "_model_name": "LayoutModel",
            "justify_items": null,
            "grid_row": null,
            "max_height": null,
            "align_content": null,
            "visibility": null,
            "align_self": null,
            "height": null,
            "min_height": null,
            "padding": null,
            "grid_auto_rows": null,
            "grid_gap": null,
            "max_width": null,
            "order": null,
            "_view_module_version": "1.2.0",
            "grid_template_areas": null,
            "object_position": null,
            "object_fit": null,
            "grid_auto_columns": null,
            "margin": null,
            "display": null,
            "left": null
          },
          "model_module_version": "1.2.0"
        }
      }
    }
  },
  "cells": [
    {
      "cell_type": "markdown",
      "metadata": {
        "id": "view-in-github",
        "colab_type": "text"
      },
      "source": [
        "<a href=\"https://colab.research.google.com/github/allenlincg/aipractice/blob/main/Colab%E5%AF%A6%E4%BD%9C%EF%BC%9A%E5%BB%BA%E7%AB%8B_RNN_%E6%A8%A1%E5%9E%8B%E7%9A%84%E6%96%B9%E6%B3%95.ipynb\" target=\"_parent\"><img src=\"https://colab.research.google.com/assets/colab-badge.svg\" alt=\"Open In Colab\"/></a>"
      ]
    },
    {
      "cell_type": "markdown",
      "metadata": {
        "id": "sJr4nMgyb9oS"
      },
      "source": [
        "\n",
        "<p align=\"center\">\n",
        "  <img src=\"https://drive.google.com/uc?id=11XY5LPAsz9zuu7RxqlNcDbkAsIgsGveo\" width=700\n",
        "  />\n",
        "  <center>堆疊形式的 RNN 模型概念圖</center>\n",
        "</p>"
      ]
    },
    {
      "cell_type": "markdown",
      "metadata": {
        "id": "vVF9I9v6Zipb"
      },
      "source": [
        "## 1: 切換 TensorFlow 至 2.x 版"
      ]
    },
    {
      "cell_type": "code",
      "metadata": {
        "id": "WS6fShx3Za4O"
      },
      "source": [
        "%tensorflow_version 2.x"
      ],
      "execution_count": null,
      "outputs": []
    },
    {
      "cell_type": "markdown",
      "metadata": {
        "id": "DjlnjPnjWYFw"
      },
      "source": [
        "## 2: 載入套件及資料集"
      ]
    },
    {
      "cell_type": "code",
      "metadata": {
        "id": "ItqXJrqzdnXB"
      },
      "source": [
        "%matplotlib inline\n",
        "# Import some useful packages\n",
        "import matplotlib.pyplot as plt\n",
        "import numpy as np\n",
        "from ipywidgets import interact, Text\n",
        "\n",
        "# For DNN\n",
        "from tensorflow.keras.models import Sequential\n",
        "from tensorflow.keras.layers import Dense\n",
        "\n",
        "# For RNN\n",
        "from tensorflow.keras.layers import SimpleRNN, LSTM, GRU\n",
        "\n",
        "# For training\n",
        "from tensorflow.keras.optimizers import SGD, Adam, RMSprop\n",
        "\n",
        "# For data preprocessing\n",
        "from tensorflow.keras import datasets\n",
        "from tensorflow.keras.utils import to_categorical\n",
        "from tensorflow.keras.preprocessing.sequence import pad_sequences"
      ],
      "execution_count": null,
      "outputs": []
    },
    {
      "cell_type": "markdown",
      "metadata": {
        "id": "9ANTXclknhyv"
      },
      "source": [
        "## 3: SimpleRNN/LSTM/GRU 中的重要參數"
      ]
    },
    {
      "cell_type": "markdown",
      "metadata": {
        "id": "E0Ye72-vnohr"
      },
      "source": [
        "### 是否輸出所有隱藏狀態 (hidden state)\n",
        "\n",
        "若希望模型輸出的不只是最後一個時間點的隱藏狀態 $h_T$，而是每個時間點的狀態 $\\{h_1,\\cdots, h_T\\}$，則需指定 ``return_sequence=True``"
      ]
    },
    {
      "cell_type": "markdown",
      "metadata": {
        "id": "NHS7J5gAs1o7"
      },
      "source": [
        "假設 $T=5$，且 $x_t$ 的維度為 3，使用 4 個 RNN cell"
      ]
    },
    {
      "cell_type": "code",
      "metadata": {
        "id": "ucs9cRrqo3wy"
      },
      "source": [
        "timesteps, input_dim = 5, 3"
      ],
      "execution_count": null,
      "outputs": []
    },
    {
      "cell_type": "markdown",
      "metadata": {
        "id": "cNaMKh0WFbos"
      },
      "source": [
        "#### SimpleRNN Case"
      ]
    },
    {
      "cell_type": "code",
      "metadata": {
        "id": "AlA549jDRBio",
        "outputId": "e9f62a4e-7eda-43ff-9f6d-bc2b18dba633",
        "colab": {
          "base_uri": "https://localhost:8080/",
          "height": 185
        }
      },
      "source": [
        "# 只輸出 h_T\n",
        "model_T = Sequential()\n",
        "model_T.add(SimpleRNN(4, input_shape=(timesteps, input_dim)))\n",
        "\n",
        "# Output hidden state for the last time step, output dimension 4\n",
        "model_T.summary()"
      ],
      "execution_count": null,
      "outputs": [
        {
          "output_type": "stream",
          "text": [
            "Model: \"sequential_18\"\n",
            "_________________________________________________________________\n",
            "Layer (type)                 Output Shape              Param #   \n",
            "=================================================================\n",
            "simple_rnn_12 (SimpleRNN)    (None, 4)                 36        \n",
            "=================================================================\n",
            "Total params: 36\n",
            "Trainable params: 36\n",
            "Non-trainable params: 0\n",
            "_________________________________________________________________\n"
          ],
          "name": "stdout"
        }
      ]
    },
    {
      "cell_type": "code",
      "metadata": {
        "id": "zw8iI_8yo515"
      },
      "source": [
        "model_all = Sequential()\n",
        "model_all.add(SimpleRNN(4, input_shape=(timesteps, input_dim), return_sequences=True))\n",
        "\n",
        "# Output hidden state at each time step, output dimension 5x4\n",
        "model_all.summary()"
      ],
      "execution_count": null,
      "outputs": []
    },
    {
      "cell_type": "markdown",
      "metadata": {
        "id": "3zqkKxO6FYpB"
      },
      "source": [
        "#### LSTM Case"
      ]
    },
    {
      "cell_type": "code",
      "metadata": {
        "id": "gQbzSCBopMLa"
      },
      "source": [
        "model_LSTM = Sequential()\n",
        "# model_LSTM.add(LSTM(4, input_shape=(timesteps, input_dim), return_sequences=False)) # Default return_sequences setting\n",
        "model_LSTM.add(LSTM(4, input_shape=(timesteps, input_dim), return_sequences=True))\n",
        "\n",
        "# Output hidden state at each time step, output dimension 5x4\n",
        "model_LSTM.summary()"
      ],
      "execution_count": null,
      "outputs": []
    },
    {
      "cell_type": "markdown",
      "metadata": {
        "id": "L8gnkrDbFgxi"
      },
      "source": [
        "#### GRU Case"
      ]
    },
    {
      "cell_type": "markdown",
      "metadata": {
        "id": "uoUZYzTPr0o4"
      },
      "source": [
        "GRU 在 Keras 中，根據每批次訓練後要不要重設起始狀態，在 bias 的數量上會有所不同，跟使用者是否使用 cuDNN 來進行有關。\n",
        "\n",
        "設定參數 ``reset_after=False`` 可以關掉預設的 GPU 版 GRU"
      ]
    },
    {
      "cell_type": "code",
      "metadata": {
        "id": "0xx2pNaFpPdH"
      },
      "source": [
        "model_GRU = Sequential()\n",
        "# model_GRU.add(GRU(4, input_shape=(timesteps, input_dim), return_sequences=False, reset_after=False)) # Default return_sequences setting\n",
        "model_GRU.add(GRU(4, input_shape=(timesteps, input_dim), return_sequences=True, reset_after=False))\n",
        "\n",
        "# Output hidden state at each time step, output dimension 5x4\n",
        "model_GRU.summary()"
      ],
      "execution_count": null,
      "outputs": []
    },
    {
      "cell_type": "markdown",
      "metadata": {
        "id": "QZnU8Q5kHKqL"
      },
      "source": [
        "## 4: 透過 ``return_sequences`` 來堆疊 RNN/LSTM/GRU 模型"
      ]
    },
    {
      "cell_type": "code",
      "metadata": {
        "id": "HXeWuJ4OVD72"
      },
      "source": [
        "timesteps, input_dim = 5, 3"
      ],
      "execution_count": null,
      "outputs": []
    },
    {
      "cell_type": "code",
      "metadata": {
        "id": "fb0KcYgIvIJD"
      },
      "source": [
        "model_stack = Sequential()\n",
        "model_stack.add(SimpleRNN(4, input_shape=(timesteps, input_dim), return_sequences=True))\n",
        "model_stack.add(LSTM(20, input_shape=(timesteps, input_dim)))\n",
        "\n",
        "model_stack.summary()"
      ],
      "execution_count": null,
      "outputs": []
    },
    {
      "cell_type": "code",
      "metadata": {
        "id": "xMIPitbOvILs"
      },
      "source": [
        "model_classfy = Sequential()\n",
        "model_classfy.add(SimpleRNN(4, input_shape=(timesteps, input_dim), return_sequences=True))\n",
        "model_classfy.add(LSTM(20, input_shape=(timesteps, input_dim)))\n",
        "\n",
        "model_classfy.summary()"
      ],
      "execution_count": null,
      "outputs": []
    },
    {
      "cell_type": "code",
      "metadata": {
        "id": "mAqZVvMpwD9I"
      },
      "source": [],
      "execution_count": null,
      "outputs": []
    },
    {
      "cell_type": "markdown",
      "metadata": {
        "id": "qHM9z-AZKnIC"
      },
      "source": [
        "## 5: 建立一個有「加法」功能的 RNN 模型"
      ]
    },
    {
      "cell_type": "markdown",
      "metadata": {
        "id": "C5EpcHlOKw8b"
      },
      "source": [
        "我們希望建構一個 RNN 模型，來建立「加法器」。\n",
        "\n",
        "首先，隨機生成 60000 筆資料，每筆資料包含 3~10 個數字，每個數字為介在 0 和 100 之間的整數。\n",
        "\n",
        "將前 50000 筆資料當作訓練資料，後 10000 筆資料當作測試資料。"
      ]
    },
    {
      "cell_type": "code",
      "metadata": {
        "id": "soB_JlFWwD_L"
      },
      "source": [
        "X = []\n",
        "y = []\n",
        "X_min, X_max = 0, 100\n",
        "data_size = 60000\n",
        "for _ in range(data_size):\n",
        "    random_length = np.random.randint(3, 10)\n",
        "    X_i = np.random.randint(X_min, X_max, size=random_length)\n",
        "    X.append(X_i)\n",
        "    y.append(sum(X_i))"
      ],
      "execution_count": null,
      "outputs": []
    },
    {
      "cell_type": "code",
      "metadata": {
        "id": "tfHEd7O6wEBW"
      },
      "source": [
        "print(X[0], y[0])\n",
        "print(X[1], y[1])"
      ],
      "execution_count": null,
      "outputs": []
    },
    {
      "cell_type": "code",
      "metadata": {
        "id": "MYHuZCcgMbb-"
      },
      "source": [
        "# Pad variable length sequences to a fixed length\n",
        "X_train = pad_sequences(X[:50000], maxlen=10, padding='post')\n",
        "X_test = pad_sequences(X[50000:], maxlen=10, padding='post')\n",
        "\n",
        "y_train = X_train.sum(axis=1)\n",
        "y_test = X_test.sum(axis=1)"
      ],
      "execution_count": null,
      "outputs": []
    },
    {
      "cell_type": "code",
      "metadata": {
        "id": "ZreUFS55MiBm"
      },
      "source": [
        "# Observe some data\n",
        "print(X_train[0], y_train[0])\n",
        "print(X_train[1], y_train[1])"
      ],
      "execution_count": null,
      "outputs": []
    },
    {
      "cell_type": "code",
      "metadata": {
        "id": "HSLzrkPUOjna"
      },
      "source": [
        "# Reshap and change data type\n",
        "X_train = X_train.reshape(X_train.shape+(1,))\n",
        "X_test = X_test.reshape(X_test.shape+(1,))\n",
        "\n",
        "X_train = X_train.astype('float32')\n",
        "X_test = X_test.astype('float32');"
      ],
      "execution_count": null,
      "outputs": []
    },
    {
      "cell_type": "code",
      "metadata": {
        "id": "sWa26z1-S_q9",
        "outputId": "bac1fd06-5db1-44b4-8961-9bdaa9f70f8c",
        "colab": {
          "base_uri": "https://localhost:8080/",
          "height": 218
        }
      },
      "source": [
        "model = Sequential()\n",
        "model.add(LSTM(20, input_shape=(10, 1)))\n",
        "model.add(Dense(1))\n",
        "model.summary()"
      ],
      "execution_count": null,
      "outputs": [
        {
          "output_type": "stream",
          "text": [
            "Model: \"sequential_15\"\n",
            "_________________________________________________________________\n",
            "Layer (type)                 Output Shape              Param #   \n",
            "=================================================================\n",
            "lstm_6 (LSTM)                (None, 20)                1760      \n",
            "_________________________________________________________________\n",
            "dense_7 (Dense)              (None, 1)                 21        \n",
            "=================================================================\n",
            "Total params: 1,781\n",
            "Trainable params: 1,781\n",
            "Non-trainable params: 0\n",
            "_________________________________________________________________\n"
          ],
          "name": "stdout"
        }
      ]
    },
    {
      "cell_type": "code",
      "metadata": {
        "id": "lHA0KWEkPnK6"
      },
      "source": [
        "model.compile(loss='mae',\n",
        "              optimizer=RMSprop(),\n",
        "              metrics=['mse'])"
      ],
      "execution_count": null,
      "outputs": []
    },
    {
      "cell_type": "code",
      "metadata": {
        "id": "m57f2jC1v8cd"
      },
      "source": [
        "training_history = model.fit(X_train, y_train,\n",
        "                             batch_size=32,\n",
        "                             epochs=50,\n",
        "                             validation_data=(X_test, y_test)\n",
        "                             )"
      ],
      "execution_count": null,
      "outputs": []
    },
    {
      "cell_type": "code",
      "metadata": {
        "id": "pD9iZQwa03-d"
      },
      "source": [
        "def visulization(seq):\n",
        "    X = seq.split(',')\n",
        "    description = ''\n",
        "    for term in X:\n",
        "          description = term + '+'\n",
        "    description = description[:-1]\n",
        "    X = np.array(X, dtype=float)\n",
        "    y = sum(X)\n",
        "    X = pad_sequences([X], maxlen=10, padding='post')\n",
        "    X = X.reshape(X.shape+(1,))\n",
        "    prediction = model.predict(X)[0][0]\n",
        "    print(\"The predicted sum of %s is %f\" %(description, prediction))\n",
        "    print(\"Correct answer is %f\" %y)"
      ],
      "execution_count": null,
      "outputs": []
    },
    {
      "cell_type": "code",
      "metadata": {
        "id": "_BpQNrMBP0CD",
        "outputId": "d31bc4ef-1ecc-4cd0-c0ff-28b2c06bf60c",
        "colab": {
          "base_uri": "https://localhost:8080/",
          "height": 82,
          "referenced_widgets": [
            "daa24b8a0b9e4994a6433c511b269c5b",
            "da882a392adf4dcba9cc9e69ceeb5892",
            "ee64bb5cfd3b4102888ff375e8de0af9",
            "988522e0477248c3abd593f1b9da9621",
            "b5d49dd8dc94458cb8932ff1026a6926",
            "87494f9cf6a14b4cb5297fc57a669150",
            "8af471f1cbc54c69b64a4245128c2644"
          ]
        }
      },
      "source": [
        "interact(visulization, seq=Text(value='10,20,30,40'));"
      ],
      "execution_count": null,
      "outputs": [
        {
          "output_type": "display_data",
          "data": {
            "application/vnd.jupyter.widget-view+json": {
              "model_id": "daa24b8a0b9e4994a6433c511b269c5b",
              "version_minor": 0,
              "version_major": 2
            },
            "text/plain": [
              "interactive(children=(Text(value='10,20,30,40', description='seq'), Output()), _dom_classes=('widget-interact'…"
            ]
          },
          "metadata": {
            "tags": []
          }
        }
      ]
    },
    {
      "cell_type": "markdown",
      "metadata": {
        "id": "BY5_phczW3cj"
      },
      "source": [
        "關於加法器的實作方式，也可以參考 Keras 官方文件的範例\n",
        "\n",
        "https://keras.io/examples/addition_rnn/\n",
        "\n",
        "連結中的的加法器，其輸入會是像是 \"5+234\" 的字串，而輸出會是加過後的數字 239\n",
        "\n",
        "因此，加法器可以透過不同的敘述方式來建構，模型及資料整理的差異性也會差很多"
      ]
    },
    {
      "cell_type": "code",
      "metadata": {
        "id": "_s6jc1H4XfVt"
      },
      "source": [],
      "execution_count": null,
      "outputs": []
    }
  ]
}