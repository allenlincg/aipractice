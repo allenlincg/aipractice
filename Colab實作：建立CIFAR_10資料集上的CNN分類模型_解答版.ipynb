{
  "nbformat": 4,
  "nbformat_minor": 0,
  "metadata": {
    "colab": {
      "provenance": [],
      "machine_shape": "hm",
      "include_colab_link": true
    },
    "kernelspec": {
      "name": "python3",
      "display_name": "Python 3"
    },
    "accelerator": "GPU",
    "widgets": {
      "application/vnd.jupyter.widget-state+json": {
        "b1268db6ebb84595ab46751fa7535699": {
          "model_module": "@jupyter-widgets/controls",
          "model_name": "VBoxModel",
          "state": {
            "_view_name": "VBoxView",
            "_dom_classes": [
              "widget-interact"
            ],
            "_model_name": "VBoxModel",
            "_view_module": "@jupyter-widgets/controls",
            "_model_module_version": "1.5.0",
            "_view_count": null,
            "_view_module_version": "1.5.0",
            "box_style": "",
            "layout": "IPY_MODEL_37fbacd942e04c04aae6fe07bee285f7",
            "_model_module": "@jupyter-widgets/controls",
            "children": [
              "IPY_MODEL_937995c3630d48e097d7179c6797bd26",
              "IPY_MODEL_0f3bfa49dba74ede9c31ff2798313cca"
            ]
          },
          "model_module_version": "1.5.0"
        },
        "37fbacd942e04c04aae6fe07bee285f7": {
          "model_module": "@jupyter-widgets/base",
          "model_name": "LayoutModel",
          "state": {
            "_view_name": "LayoutView",
            "grid_template_rows": null,
            "right": null,
            "justify_content": null,
            "_view_module": "@jupyter-widgets/base",
            "overflow": null,
            "_model_module_version": "1.2.0",
            "_view_count": null,
            "flex_flow": null,
            "width": null,
            "min_width": null,
            "border": null,
            "align_items": null,
            "bottom": null,
            "_model_module": "@jupyter-widgets/base",
            "top": null,
            "grid_column": null,
            "overflow_y": null,
            "overflow_x": null,
            "grid_auto_flow": null,
            "grid_area": null,
            "grid_template_columns": null,
            "flex": null,
            "_model_name": "LayoutModel",
            "justify_items": null,
            "grid_row": null,
            "max_height": null,
            "align_content": null,
            "visibility": null,
            "align_self": null,
            "height": null,
            "min_height": null,
            "padding": null,
            "grid_auto_rows": null,
            "grid_gap": null,
            "max_width": null,
            "order": null,
            "_view_module_version": "1.2.0",
            "grid_template_areas": null,
            "object_position": null,
            "object_fit": null,
            "grid_auto_columns": null,
            "margin": null,
            "display": null,
            "left": null
          },
          "model_module_version": "1.2.0"
        },
        "937995c3630d48e097d7179c6797bd26": {
          "model_module": "@jupyter-widgets/controls",
          "model_name": "BoundedIntTextModel",
          "state": {
            "_view_name": "IntTextView",
            "style": "IPY_MODEL_eebcbe842a38498088e13b402d235db0",
            "_dom_classes": [],
            "description": "idx",
            "_model_name": "BoundedIntTextModel",
            "max": 9999,
            "_view_module": "@jupyter-widgets/controls",
            "_model_module_version": "1.5.0",
            "value": 5566,
            "_view_count": null,
            "disabled": false,
            "_view_module_version": "1.5.0",
            "min": 0,
            "continuous_update": false,
            "step": 1,
            "description_tooltip": null,
            "_model_module": "@jupyter-widgets/controls",
            "layout": "IPY_MODEL_6e12bb744e2643afa66588e46b44161b"
          },
          "model_module_version": "1.5.0"
        },
        "0f3bfa49dba74ede9c31ff2798313cca": {
          "model_module": "@jupyter-widgets/output",
          "model_name": "OutputModel",
          "state": {
            "_view_name": "OutputView",
            "msg_id": "",
            "_dom_classes": [],
            "_model_name": "OutputModel",
            "outputs": [
              {
                "output_type": "stream",
                "metadata": {
                  "tags": []
                },
                "text": "預測失敗QQ\n",
                "stream": "stdout"
              },
              {
                "output_type": "display_data",
                "metadata": {
                  "tags": []
                },
                "image/png": "iVBORw0KGgoAAAANSUhEUgAAAq8AAAE/CAYAAABo7ypDAAAABHNCSVQICAgIfAhkiAAAAAlwSFlz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\nBskrAAAAaoPkFQAAALVB8goAAIDa+P8B5zwm59RC87sAAAAASUVORK5CYII=\n",
                "text/plain": "<Figure size 864x360 with 2 Axes>"
              }
            ],
            "_view_module": "@jupyter-widgets/output",
            "_model_module_version": "1.0.0",
            "_view_count": null,
            "_view_module_version": "1.0.0",
            "layout": "IPY_MODEL_f3219aeac1874c659c2bd40af6226ca2",
            "_model_module": "@jupyter-widgets/output"
          },
          "model_module_version": "1.0.0"
        },
        "eebcbe842a38498088e13b402d235db0": {
          "model_module": "@jupyter-widgets/controls",
          "model_name": "DescriptionStyleModel",
          "state": {
            "_view_name": "StyleView",
            "_model_name": "DescriptionStyleModel",
            "description_width": "",
            "_view_module": "@jupyter-widgets/base",
            "_model_module_version": "1.5.0",
            "_view_count": null,
            "_view_module_version": "1.2.0",
            "_model_module": "@jupyter-widgets/controls"
          },
          "model_module_version": "1.5.0"
        },
        "6e12bb744e2643afa66588e46b44161b": {
          "model_module": "@jupyter-widgets/base",
          "model_name": "LayoutModel",
          "state": {
            "_view_name": "LayoutView",
            "grid_template_rows": null,
            "right": null,
            "justify_content": null,
            "_view_module": "@jupyter-widgets/base",
            "overflow": null,
            "_model_module_version": "1.2.0",
            "_view_count": null,
            "flex_flow": null,
            "width": null,
            "min_width": null,
            "border": null,
            "align_items": null,
            "bottom": null,
            "_model_module": "@jupyter-widgets/base",
            "top": null,
            "grid_column": null,
            "overflow_y": null,
            "overflow_x": null,
            "grid_auto_flow": null,
            "grid_area": null,
            "grid_template_columns": null,
            "flex": null,
            "_model_name": "LayoutModel",
            "justify_items": null,
            "grid_row": null,
            "max_height": null,
            "align_content": null,
            "visibility": null,
            "align_self": null,
            "height": null,
            "min_height": null,
            "padding": null,
            "grid_auto_rows": null,
            "grid_gap": null,
            "max_width": null,
            "order": null,
            "_view_module_version": "1.2.0",
            "grid_template_areas": null,
            "object_position": null,
            "object_fit": null,
            "grid_auto_columns": null,
            "margin": null,
            "display": null,
            "left": null
          },
          "model_module_version": "1.2.0"
        }
      }
    }
  },
  "cells": [
    {
      "cell_type": "markdown",
      "metadata": {
        "id": "view-in-github",
        "colab_type": "text"
      },
      "source": [
        "<a href=\"https://colab.research.google.com/github/allenlincg/aipractice/blob/main/Colab%E5%AF%A6%E4%BD%9C%EF%BC%9A%E5%BB%BA%E7%AB%8BCIFAR_10%E8%B3%87%E6%96%99%E9%9B%86%E4%B8%8A%E7%9A%84CNN%E5%88%86%E9%A1%9E%E6%A8%A1%E5%9E%8B_%E8%A7%A3%E7%AD%94%E7%89%88.ipynb\" target=\"_parent\"><img src=\"https://colab.research.google.com/assets/colab-badge.svg\" alt=\"Open In Colab\"/></a>"
      ]
    },
    {
      "cell_type": "markdown",
      "metadata": {
        "id": "XUZA3OvtRzK-"
      },
      "source": [
        "\n",
        "<p align=\"center\">\n",
        "  <img src=\"https://storage.googleapis.com/kaggle-competitions/kaggle/3649/media/cifar-10.png\"\n",
        "  />\n",
        "  <center>Cifar 10 資料庫</center>\n",
        "  <center>圖片來源: https://www.kaggle.com/</center>\n",
        "</p>\n"
      ]
    },
    {
      "cell_type": "markdown",
      "metadata": {
        "id": "kBCBgP30Rxzx"
      },
      "source": [
        "CIFAR 10 是一個 10 類別資料，包含了：\n",
        "* 飛機 (airplan)\n",
        "* 交通工具 (automobile)\n",
        "* 鳥 (bird)\n",
        "* 貓 (cat)\n",
        "* 鹿 (deer)\n",
        "* 狗 (dog)\n",
        "* 青蛙 (frog)\n",
        "* 馬 (horse)\n",
        "* 船 (ship)\n",
        "* 卡車 (truck)\n",
        "共10個類別的資料，在這裡，我們將讓大家練習建構在 CIFAR-10 上的 CNN 分類模型"
      ]
    },
    {
      "cell_type": "markdown",
      "metadata": {
        "id": "zJMS8p3wfPXO"
      },
      "source": [
        "## 1: 切換 TensorFlow 至 2.x 版"
      ]
    },
    {
      "cell_type": "code",
      "metadata": {
        "id": "PXNUanZvcwwZ",
        "outputId": "a9cddcfc-9c75-464f-b4d1-4100f316f619",
        "colab": {
          "base_uri": "https://localhost:8080/",
          "height": 34
        }
      },
      "source": [
        "%tensorflow_version 2.x"
      ],
      "execution_count": null,
      "outputs": [
        {
          "output_type": "stream",
          "text": [
            "TensorFlow 2.x selected.\n"
          ],
          "name": "stdout"
        }
      ]
    },
    {
      "cell_type": "markdown",
      "metadata": {
        "id": "lRHFdNYAfWKJ"
      },
      "source": [
        "## 2: 載入套件及資料集"
      ]
    },
    {
      "cell_type": "code",
      "metadata": {
        "id": "tS5xFeQwe9Xu"
      },
      "source": [
        "%matplotlib inline\n",
        "# Import some useful package\n",
        "import matplotlib.pyplot as plt\n",
        "import numpy as np\n",
        "from ipywidgets import interact, IntSlider, BoundedIntText\n",
        "\n",
        "# For CNN\n",
        "from tensorflow.keras.models import Sequential\n",
        "from tensorflow.keras.layers import Dense, Flatten\n",
        "from tensorflow.keras.layers import Conv2D, MaxPool2D, MaxPooling2D, GlobalAvgPool2D\n",
        "\n",
        "# For training\n",
        "from tensorflow.keras.optimizers import SGD, Adam\n",
        "\n",
        "# For data preprocessing\n",
        "from tensorflow.keras import datasets\n",
        "from tensorflow.keras.utils import to_categorical"
      ],
      "execution_count": null,
      "outputs": []
    },
    {
      "cell_type": "markdown",
      "metadata": {
        "id": "e8zYubaPfy-S"
      },
      "source": [
        "## 3: 資料前處理 (Data Preprocessing)"
      ]
    },
    {
      "cell_type": "markdown",
      "metadata": {
        "id": "AOAGjiPogF0w"
      },
      "source": [
        "讀取 CIFAR 10 圖片資料集"
      ]
    },
    {
      "cell_type": "code",
      "metadata": {
        "id": "ITug7sp2TAr5"
      },
      "source": [
        "(X_train, y_train), (X_test, y_test) = datasets.cifar10.load_data()"
      ],
      "execution_count": null,
      "outputs": []
    },
    {
      "cell_type": "code",
      "metadata": {
        "id": "IsA_Z40jayyH"
      },
      "source": [
        "# Normalize data range\n",
        "X_train = X_train / X_train.max()\n",
        "X_test = X_test / X_test.max()\n",
        "\n",
        "# One-hot encoding\n",
        "y_train = to_categorical(y_train, 10)\n",
        "y_test = to_categorical(y_test, 10)"
      ],
      "execution_count": null,
      "outputs": []
    },
    {
      "cell_type": "markdown",
      "metadata": {
        "id": "swp6zTOST8gD"
      },
      "source": [
        "## 4: 練習建立辨識 CIFAR-10 的卷積神經網路\n",
        "\n",
        "在這裡，我們希望大家建立具有以下架構的卷積神經網路。\n",
        "\n",
        "透過改變模型架構以外的其他方式，讓訓練和測試準確率都至少60%。"
      ]
    },
    {
      "cell_type": "markdown",
      "metadata": {
        "id": "h0Ytst3AA2Vx"
      },
      "source": [
        "#### [練習] 模型架構\n",
        "\n",
        "|超參數/層名| 卷積層  | 池化層 | 卷積層 | 池化層 || 扁平層 | 全連接層 | 全連接層 | 輸出層 |\n",
        "|:--:|:--:|:--:|:--:|:--:|:--:|:--:|:--:|:--:|:--:|\n",
        "神經元/filter 個數| 10 | | 16 | | | | 120 | 84 | 10 |\n",
        "Kernal 尺寸| (5, 5) | (2, 2) | (4, 4) | (2, 2)\n",
        "|激活函數| ReLU | | ReLU | | | | ReLU | ReLU | softmax |\n",
        "\n",
        "別忘記第一個卷積層需要指定輸入格式: (32, 32, 3)"
      ]
    },
    {
      "cell_type": "code",
      "metadata": {
        "id": "VcPsEx2WFAqg"
      },
      "source": [
        "model = Sequential()\n",
        "\n",
        "model.add(Conv2D(10, (5, 5), input_shape=(32, 32, 3), activation='relu'))\n",
        "model.add(MaxPool2D())\n",
        "model.add(Conv2D(16, (4, 4), activation='relu'))\n",
        "model.add(MaxPool2D())\n",
        "\n",
        "model.add(Flatten())\n",
        "model.add(Dense(120, activation='relu'))\n",
        "model.add(Dense(84, activation='relu'))\n",
        "model.add(Dense(10, activation='softmax'))"
      ],
      "execution_count": null,
      "outputs": []
    },
    {
      "cell_type": "code",
      "metadata": {
        "id": "k-53nBpzbx2N",
        "outputId": "f2a0fe5d-d22a-4532-bfd2-5005b17df09e",
        "colab": {
          "base_uri": "https://localhost:8080/",
          "height": 420
        }
      },
      "source": [
        "model.summary()"
      ],
      "execution_count": null,
      "outputs": [
        {
          "output_type": "stream",
          "text": [
            "Model: \"sequential_1\"\n",
            "_________________________________________________________________\n",
            "Layer (type)                 Output Shape              Param #   \n",
            "=================================================================\n",
            "conv2d_2 (Conv2D)            (None, 28, 28, 10)        760       \n",
            "_________________________________________________________________\n",
            "max_pooling2d_2 (MaxPooling2 (None, 14, 14, 10)        0         \n",
            "_________________________________________________________________\n",
            "conv2d_3 (Conv2D)            (None, 11, 11, 16)        2576      \n",
            "_________________________________________________________________\n",
            "max_pooling2d_3 (MaxPooling2 (None, 5, 5, 16)          0         \n",
            "_________________________________________________________________\n",
            "flatten_1 (Flatten)          (None, 400)               0         \n",
            "_________________________________________________________________\n",
            "dense_3 (Dense)              (None, 120)               48120     \n",
            "_________________________________________________________________\n",
            "dense_4 (Dense)              (None, 84)                10164     \n",
            "_________________________________________________________________\n",
            "dense_5 (Dense)              (None, 10)                850       \n",
            "=================================================================\n",
            "Total params: 62,470\n",
            "Trainable params: 62,470\n",
            "Non-trainable params: 0\n",
            "_________________________________________________________________\n"
          ],
          "name": "stdout"
        }
      ]
    },
    {
      "cell_type": "markdown",
      "metadata": {
        "id": "GWdFSj9OcYWl"
      },
      "source": [
        "### [練習] 嘗試不同設定來編譯模型\n",
        "\n",
        "- Optimizer:\n",
        " * Stochastic Gradient Descent (SGD)\n",
        " * Adaptive Moment Estimation (Adam)\n",
        "- Loss:\n",
        " * Mean Squared Error\n",
        " * Mean Abolute Error\n",
        " * Categorical cross-entropy"
      ]
    },
    {
      "cell_type": "code",
      "metadata": {
        "id": "86fvl2DHcKwj"
      },
      "source": [
        "model.compile(loss='categorical_crossentropy',\n",
        "              optimizer='adam',\n",
        "              metrics=['categorical_accuracy'])"
      ],
      "execution_count": null,
      "outputs": []
    },
    {
      "cell_type": "markdown",
      "metadata": {
        "id": "-Zz5yHOzdUgv"
      },
      "source": [
        "### 訓練模型: 透過訓練模型來學習分類資料的函數"
      ]
    },
    {
      "cell_type": "code",
      "metadata": {
        "id": "LVdaaVOJcKrk",
        "outputId": "49027a7c-b005-42ae-870e-9d6d8cfca488",
        "colab": {
          "base_uri": "https://localhost:8080/",
          "height": 202
        }
      },
      "source": [
        "training_history = model.fit(X_train, y_train,\n",
        "                             batch_size=32,\n",
        "                             epochs=5,\n",
        "                             validation_data=(X_test, y_test)\n",
        "                             )"
      ],
      "execution_count": null,
      "outputs": [
        {
          "output_type": "stream",
          "text": [
            "Train on 50000 samples, validate on 10000 samples\n",
            "Epoch 1/5\n",
            "50000/50000 [==============================] - 10s 192us/sample - loss: 1.6028 - categorical_accuracy: 0.4119 - val_loss: 1.4170 - val_categorical_accuracy: 0.4780\n",
            "Epoch 2/5\n",
            "50000/50000 [==============================] - 9s 181us/sample - loss: 1.3169 - categorical_accuracy: 0.5275 - val_loss: 1.2964 - val_categorical_accuracy: 0.5361\n",
            "Epoch 3/5\n",
            "50000/50000 [==============================] - 9s 181us/sample - loss: 1.1993 - categorical_accuracy: 0.5730 - val_loss: 1.1956 - val_categorical_accuracy: 0.5712\n",
            "Epoch 4/5\n",
            "50000/50000 [==============================] - 9s 182us/sample - loss: 1.1204 - categorical_accuracy: 0.6027 - val_loss: 1.1449 - val_categorical_accuracy: 0.5943\n",
            "Epoch 5/5\n",
            "50000/50000 [==============================] - 9s 181us/sample - loss: 1.0557 - categorical_accuracy: 0.6250 - val_loss: 1.1568 - val_categorical_accuracy: 0.5945\n"
          ],
          "name": "stdout"
        }
      ]
    },
    {
      "cell_type": "code",
      "metadata": {
        "id": "14YYzYYwcKpE",
        "outputId": "4b9969d3-0067-4e73-f2ef-32aa4a4e6ef8",
        "colab": {
          "base_uri": "https://localhost:8080/",
          "height": 336
        }
      },
      "source": [
        "plt.figure(figsize=(10, 5))\n",
        "plt.subplot(1, 2, 1)\n",
        "plt.plot(training_history.history['loss'])\n",
        "plt.plot(training_history.history['val_loss'])\n",
        "plt.legend(['Train', 'Validation'])\n",
        "plt.title(\"Loss\")\n",
        "\n",
        "plt.subplot(1, 2, 2)\n",
        "plt.plot(training_history.history['categorical_accuracy'])\n",
        "plt.plot(training_history.history['val_categorical_accuracy'])\n",
        "plt.legend(['Train', 'Validation'])\n",
        "plt.title(\"Accuracy\");"
      ],
      "execution_count": null,
      "outputs": [
        {
          "output_type": "display_data",
          "data": {
            "image/png": "[encoded data removed]",
            "text/plain": [
              "<Figure size 720x360 with 2 Axes>"
            ]
          },
          "metadata": {
            "tags": []
          }
        }
      ]
    },
    {
      "cell_type": "markdown",
      "metadata": {
        "id": "iilc1B3vRAOB"
      },
      "source": [
        "## 5: 視覺化預測結果\n",
        "\n",
        "在這部分，我們提供簡單的視覺化方法來呈現神經網路的輸入與輸出結果"
      ]
    },
    {
      "cell_type": "code",
      "metadata": {
        "id": "VoRKkRFHQ-bk"
      },
      "source": [
        "class_label = ['Airplan', 'Automobile', 'Bird', 'Cat', 'Deer', 'Dog', 'Frog', 'Horse', 'Ship', 'Truck']\n",
        "\n",
        "def visulization(idx=0):\n",
        "    # Random pick one data from training set\n",
        "    # idx = np.random.randint(X_train.shape[0])\n",
        "    sample_x = X_test[idx]\n",
        "    sample_y = y_test[idx]\n",
        "    # Predict the class of random data\n",
        "    predict_y = model.predict(X_test[idx:idx+1]).squeeze()\n",
        "    predict_label = predict_y.argmax()\n",
        "\n",
        "    fig, (ax1, ax2) = plt.subplots(1, 2, figsize=(12, 5))\n",
        "    # Plot raw image\n",
        "    ax1.imshow(sample_x, 'gray_r')\n",
        "    ax1.set_title(\"Image Label: %s\" %class_label[sample_y.argmax()])\n",
        "\n",
        "    # Plot prediction probability of each classes\n",
        "    ax2.barh(np.arange(10), predict_y)\n",
        "    ax2.patches[predict_label].set_facecolor('Red')\n",
        "    ax2.set_title(f\"Prediction Result: {class_label[predict_label]}\");\n",
        "    # ax2.set_yticklabels(class_label)\n",
        "    if sample_y.argmax()==predict_y.argmax():\n",
        "        print(\"預測正確!\")\n",
        "    else:\n",
        "        print(\"預測失敗QQ\")\n",
        "    plt.show()"
      ],
      "execution_count": null,
      "outputs": []
    },
    {
      "cell_type": "code",
      "metadata": {
        "id": "x38pgeTYRC5G",
        "outputId": "7dbc3825-45a2-4111-8462-1c5d34dba038",
        "colab": {
          "base_uri": "https://localhost:8080/",
          "height": 385,
          "referenced_widgets": [
            "b1268db6ebb84595ab46751fa7535699",
            "37fbacd942e04c04aae6fe07bee285f7",
            "937995c3630d48e097d7179c6797bd26",
            "0f3bfa49dba74ede9c31ff2798313cca",
            "eebcbe842a38498088e13b402d235db0",
            "6e12bb744e2643afa66588e46b44161b",
            "f3219aeac1874c659c2bd40af6226ca2"
          ]
        }
      },
      "source": [
        "interact(visulization, idx=BoundedIntText(value=5566, min=0, max=X_test.shape[0]-1));"
      ],
      "execution_count": null,
      "outputs": [
        {
          "output_type": "display_data",
          "data": {
            "application/vnd.jupyter.widget-view+json": {
              "model_id": "b1268db6ebb84595ab46751fa7535699",
              "version_minor": 0,
              "version_major": 2
            },
            "text/plain": [
              "interactive(children=(BoundedIntText(value=5566, description='idx', max=9999), Output()), _dom_classes=('widge…"
            ]
          },
          "metadata": {
            "tags": []
          }
        }
      ]
    },
    {
      "cell_type": "code",
      "metadata": {
        "id": "Qmq0qfIwRDNW"
      },
      "source": [],
      "execution_count": null,
      "outputs": []
    }
  ]
}